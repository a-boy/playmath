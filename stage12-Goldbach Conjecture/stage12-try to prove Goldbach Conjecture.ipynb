{
 "cells": [
  {
   "cell_type": "markdown",
   "metadata": {
    "collapsed": false
   },
   "source": [
    "# Try to Prove Goldbach's  Conjecture\n",
    "Cody Luo(cody@ustc.edu) 2019-08-27  \n"
   ]
  },
  {
   "cell_type": "markdown",
   "metadata": {
    "collapsed": false
   },
   "source": [
    "Abstract: \n",
    "Keywords:"
   ]
  },
  {
   "cell_type": "markdown",
   "metadata": {
    "collapsed": false
   },
   "source": [
    "**Improved Goldbach's Conjecture**  : Except `n=344`, for any positive integer `n>1`, there exists `g, 0=<g<=prime_pi(n)+1`, make that both `n-g` and `n+g` are primes.\n",
    "`2*n=(n-g)+(n+g)`  \n",
    "\n",
    "(344,gold(344),prime_pi(344))===(344,75,68)\n"
   ]
  },
  {
   "cell_type": "code",
   "execution_count": 9,
   "metadata": {
    "collapsed": false,
    "scrolled": true
   },
   "outputs": [
    {
     "name": "stdout",
     "output_type": "stream",
     "text": [
      "[[0], [0], [1], [0, 2], [1], [0, 4], [3, 5], [2, 4], [3], [0, 6], [1, 5], [0, 6], [3], [2, 4], [3], [0, 6], [1, 5], [0], [3, 9], [2, 8], [9], [0, 6], [5, 7], [6], [3], [4, 10], [9], [0], [1, 7, 11], [0, 12], [9], [4, 10], [3], [6, 12], [5, 7], [0, 6], [9], [2, 8], [3], [0, 12], [1, 5, 11], [0], [3, 15], [2, 8, 14], [15], [0, 6], [5, 11], [12], [3, 9], [8, 10], [9, 15], [0, 6], [7, 13, 17], [12], [3, 15], [4, 10, 14, 16], [15], [0, 12], [1, 7, 13], [0, 18], [9], [4, 10, 16], [3], [6, 18], [5, 7, 13], [0, 6], [15], [2, 10], [3, 9], [0, 12, 18], [1, 11], [0, 6], [15], [4, 8, 14, 22], [3], [6], [5, 11, 19], [0, 18], [9, 21], [2, 8, 20, 22], [15, 21], [0, 24], [5, 13, 17, 23], [12, 18, 24], [3, 15], [14, 16, 20], [9, 15, 21], [0, 18], [7, 11, 17, 19, 23], [12, 18], [9, 21], [4, 10, 14, 20], [15], [6, 12], [7, 13, 17], [0], [9, 15], [2, 10], [3], [0, 12], [1, 5], [0, 6, 24], [3], [2, 4, 8, 22, 26], [3], [0, 6, 24], [1, 5, 19, 29], [0, 30], [3, 21, 27], [2, 28], [15], [0, 24], [13, 17, 25], [12], [15], [10, 14, 20], [9, 21], [12, 18, 30], [7, 11, 17, 19, 31], [18], [9, 15], [14, 16, 26], [15, 27], [12, 24], [13, 23, 25], [0, 24, 30], [21], [2, 20, 22, 28], [21, 27], [0, 18], [5, 19, 25, 31], [6, 24, 30], [3, 33], [4, 22, 28, 32], [27], [0, 30], [1, 11, 25, 29], [0, 12], [9, 27, 33], [10, 32], [15], [6, 30], [5, 7, 13, 35], [6, 18], [33], [10, 16, 20, 34], [9], [0, 18], [1, 13, 23], [0, 12], [15, 21], [4, 14, 26], [3, 27], [18, 24], [7, 17, 25], [0, 6], [9, 21], [8, 20, 22, 32], [3, 21, 33], [12, 30], [5, 11, 31, 35], [0, 36], [15, 27, 33], [2, 8, 14, 16, 26, 28, 34], [15, 27], [0, 30], [5, 11, 29, 31], [12, 30], [3, 21], [8, 20, 22, 40], [9, 21], [0, 6, 24], [7, 17, 23, 25, 37], [18, 24, 36], [3], [4, 14, 20], [15, 21], [0, 12], [1, 13, 17, 31], [0, 18, 30, 42], [9, 15], [10, 16], [27], [6, 12], [5, 7, 13, 37], [6, 24, 36], [9, 39], [8, 10, 22, 38, 40], [9, 33, 39], [0, 42], [1, 19, 35, 41], [0, 30, 36], [3, 45], [2, 4, 16, 28, 32, 38, 44], [3, 15, 33, 45], [0, 30], [1, 25, 31, 35, 41], [0, 42], [27, 33], [10, 22, 28, 38], [9, 21, 39], [24, 30, 36], [7, 23, 25, 37, 47], [6, 24], [27, 33], [16, 26, 34, 44], [15], [18, 30, 42], [13, 17, 19, 29, 31, 47], [0, 12, 18, 30], [15, 21, 39, 45], [14, 16, 20], [15], [18, 24, 36, 42, 48], [17, 23, 25, 35], [6, 24], [21, 39, 45], [8, 20, 22, 38], [9, 21], [30, 42, 48], [11, 29, 41], [0], [27, 33, 45], [2, 14, 26, 32, 44, 46], [3, 15, 45], [0, 30, 36], [1, 5, 29, 35, 49], [0, 48], [3, 33, 39, 51], [2, 8, 20, 32, 38, 40, 50], [9, 39, 51], [0, 6, 36], [5, 7, 23, 35, 37, 43], [6, 36, 42], [3, 45], [4, 14, 26, 40, 44, 46], [39, 45], [0, 12, 42], [1, 11, 17, 29, 41, 43], [0, 30, 42], [9, 15, 51], [14, 20, 50], [33], [6, 12, 18, 48], [5, 17, 23, 35, 47], [24, 36], [9, 15, 21], [8, 20, 22], [21, 27], [0, 12, 18], [11, 19, 25, 29, 41, 55], [24, 30, 54], [3, 15, 27], [14, 16, 22, 26, 28], [15, 27], [0, 6, 24], [19, 25, 35], [18, 48], [3, 9, 21, 33], [10, 20, 22, 32, 50], [21, 51], [0, 6, 30], [7, 13, 53], [42], [3, 15, 27], [4, 10, 16, 26, 40, 44], [39, 45], [0, 12, 42], [1, 7, 13, 37, 41, 43, 47], [0, 42], [9, 21, 39, 45], [4, 10, 34, 40, 44], [3, 33], [6, 18, 36, 42], [5, 7, 35, 37], [0, 6, 36, 54], [15, 39], [2, 28, 38, 52], [3, 51, 57], [0, 12, 30], [1, 11, 25, 31, 49, 55], [0, 54], [27, 33], [8, 22, 28, 46, 52, 62], [45], [6, 24, 30, 60], [5, 19, 25, 49, 59, 61], [18, 48, 60], [21, 27, 57], [20, 22, 40, 58, 62], [15, 21], [0, 24, 54, 60], [13, 17, 23, 37, 43, 53, 55], [12, 18, 54], [15, 57, 63], [14, 16, 20, 34, 40, 56], [15], [18, 48, 60], [7, 17, 31, 37, 49, 59], [30], [9, 45, 51], [10, 34, 46], [27, 33, 63], [12, 42, 48, 54], [25, 43], [0, 24, 30], [39, 45, 51], [2, 28, 38, 40, 58], [3, 27, 39], [0, 42, 48], [1, 5, 19, 35, 41, 55, 61], [0, 36], [3, 33, 45], [2, 22, 32, 34, 38, 44, 52, 58, 64], [33], [0, 36, 66], [35, 41, 49, 55, 61], [12, 48], [27, 39, 63], [10, 28, 38, 52, 58], [9, 15, 45, 51], [30, 60, 66], [7, 13, 43, 55], [12, 42, 48, 54], [33, 57, 63], [10, 20, 46, 56], [21, 45, 51], [18, 60], [17, 19, 23, 37, 49, 53, 59, 67], [0, 18, 48], [15, 21, 51], [16, 20, 26, 40, 50, 56, 64], [3, 63], [18, 24, 54, 66], [23, 43, 53, 65], [0, 30, 60], [21, 45], [8, 28, 58, 62], [9, 27, 33, 57, 69], [48, 60], [5, 11, 25, 31, 59], [6, 30, 36, 66], []]\n"
     ]
    }
   ],
   "source": [
    "def golds(n):\n",
    "    return [g for g in range(0,prime_pi(n)+2) if (is_prime(n-g) and is_prime(n+g))]\n",
    "\n",
    "def gold(n):\n",
    "    for g in range(0,prime_pi(n)+2):\n",
    "        if (is_prime(n-g) and is_prime(n+g)):\n",
    "            return g\n",
    "\n",
    "golds_list=[golds(n) for n in range(2,345)]\n",
    "print(golds_list)"
   ]
  },
  {
   "cell_type": "code",
   "execution_count": 0,
   "metadata": {
    "collapsed": false
   },
   "outputs": [
   ],
   "source": [
    "# check Improved Goldbach's Conjecture\n",
    "n=2\n",
    "while gold(n)>=0:\n",
    "    print(n)\n",
    "    n+=1\n",
    "\n",
    "```\n",
    "(4, 1)\n",
    "(8, 3)\n",
    "(22, 9)\n",
    "(46, 15)\n",
    "(121, 18)\n",
    "(128, 21)\n",
    "(136, 27)\n",
    "(146, 33)\n",
    "(238, 39)\n",
    "(265, 42)\n",
    "(286, 45)\n",
    "(341, 48)\n",
    "(344, None, 68)\n",
    "```"
   ]
  },
  {
   "cell_type": "code",
   "execution_count": 4,
   "metadata": {
    "collapsed": false
   },
   "outputs": [
    {
     "name": "stdout",
     "output_type": "stream",
     "text": [
      "(344, None, 68)\n",
      "(346, 33)\n",
      "(362, 69)\n",
      "(496, 75)\n",
      "(526, 87)\n",
      "(904, 93)\n",
      "(1114, 117)\n"
     ]
    },
    {
     "name": "stdout",
     "output_type": "stream",
     "text": [
      "(1691, 120)\n",
      "(1736, 135)\n",
      "(1751, 138)\n",
      "(1781, 168)\n",
      "(2476, 183)\n"
     ]
    },
    {
     "name": "stdout",
     "output_type": "stream",
     "text": [
      "(3097, 210)\n",
      "(3551, 228)\n"
     ]
    },
    {
     "name": "stdout",
     "output_type": "stream",
     "text": [
      "(5131, 300)\n"
     ]
    },
    {
     "name": "stdout",
     "output_type": "stream",
     "text": [
      "(8504, 333)\n"
     ]
    },
    {
     "name": "stdout",
     "output_type": "stream",
     "text": [
      "(10342, 369)\n"
     ]
    },
    {
     "name": "stdout",
     "output_type": "stream",
     "text": [
      "(18526, 393)\n"
     ]
    },
    {
     "name": "stdout",
     "output_type": "stream",
     "text": [
      "(22564, 453)\n"
     ]
    },
    {
     "name": "stdout",
     "output_type": "stream",
     "text": [
      "(24776, 525)\n"
     ]
    },
    {
     "name": "stdout",
     "output_type": "stream",
     "text": [
      "(40072, 621)\n"
     ]
    },
    {
     "name": "stdout",
     "output_type": "stream",
     "text": [
      "(68707, 720)\n"
     ]
    },
    {
     "ename": "KeyboardInterrupt",
     "evalue": "",
     "output_type": "error",
     "traceback": [
      "\u001b[0;31m---------------------------------------------------------------------------\u001b[0m",
      "\u001b[0;31mKeyboardInterrupt\u001b[0m                         Traceback (most recent call last)",
      "\u001b[0;32m<ipython-input-4-b253cf5c6709>\u001b[0m in \u001b[0;36m<module>\u001b[0;34m()\u001b[0m\n\u001b[1;32m     18\u001b[0m         \u001b[0;32mprint\u001b[0m\u001b[0;34m(\u001b[0m\u001b[0mn\u001b[0m\u001b[0;34m,\u001b[0m\u001b[0mg\u001b[0m\u001b[0;34m)\u001b[0m\u001b[0;34m\u001b[0m\u001b[0m\n\u001b[1;32m     19\u001b[0m     \u001b[0mn\u001b[0m\u001b[0;34m+=\u001b[0m\u001b[0mInteger\u001b[0m\u001b[0;34m(\u001b[0m\u001b[0;36m1\u001b[0m\u001b[0;34m)\u001b[0m\u001b[0;34m\u001b[0m\u001b[0m\n\u001b[0;32m---> 20\u001b[0;31m     \u001b[0mg\u001b[0m\u001b[0;34m=\u001b[0m\u001b[0mgold\u001b[0m\u001b[0;34m(\u001b[0m\u001b[0mn\u001b[0m\u001b[0;34m)\u001b[0m\u001b[0;34m\u001b[0m\u001b[0m\n\u001b[0m",
      "\u001b[0;32m<ipython-input-4-b253cf5c6709>\u001b[0m in \u001b[0;36mgold\u001b[0;34m(n)\u001b[0m\n\u001b[1;32m      2\u001b[0m \u001b[0;32mdef\u001b[0m \u001b[0mgold\u001b[0m\u001b[0;34m(\u001b[0m\u001b[0mn\u001b[0m\u001b[0;34m)\u001b[0m\u001b[0;34m:\u001b[0m\u001b[0;34m\u001b[0m\u001b[0m\n\u001b[1;32m      3\u001b[0m     \u001b[0;32mfor\u001b[0m \u001b[0mg\u001b[0m \u001b[0;32min\u001b[0m \u001b[0mrange\u001b[0m\u001b[0;34m(\u001b[0m\u001b[0mInteger\u001b[0m\u001b[0;34m(\u001b[0m\u001b[0;36m0\u001b[0m\u001b[0;34m)\u001b[0m\u001b[0;34m,\u001b[0m\u001b[0mprime_pi\u001b[0m\u001b[0;34m(\u001b[0m\u001b[0mn\u001b[0m\u001b[0;34m)\u001b[0m\u001b[0;34m+\u001b[0m\u001b[0mInteger\u001b[0m\u001b[0;34m(\u001b[0m\u001b[0;36m2\u001b[0m\u001b[0;34m)\u001b[0m\u001b[0;34m)\u001b[0m\u001b[0;34m:\u001b[0m\u001b[0;34m\u001b[0m\u001b[0m\n\u001b[0;32m----> 4\u001b[0;31m         \u001b[0;32mif\u001b[0m \u001b[0;34m(\u001b[0m\u001b[0mis_prime\u001b[0m\u001b[0;34m(\u001b[0m\u001b[0mn\u001b[0m\u001b[0;34m-\u001b[0m\u001b[0mg\u001b[0m\u001b[0;34m)\u001b[0m \u001b[0;32mand\u001b[0m \u001b[0mis_prime\u001b[0m\u001b[0;34m(\u001b[0m\u001b[0mn\u001b[0m\u001b[0;34m+\u001b[0m\u001b[0mg\u001b[0m\u001b[0;34m)\u001b[0m\u001b[0;34m)\u001b[0m\u001b[0;34m:\u001b[0m\u001b[0;34m\u001b[0m\u001b[0m\n\u001b[0m\u001b[1;32m      5\u001b[0m             \u001b[0;32mreturn\u001b[0m \u001b[0mg\u001b[0m\u001b[0;34m\u001b[0m\u001b[0m\n\u001b[1;32m      6\u001b[0m \u001b[0;34m\u001b[0m\u001b[0m\n",
      "\u001b[0;32msrc/cysignals/signals.pyx\u001b[0m in \u001b[0;36mcysignals.signals.python_check_interrupt\u001b[0;34m()\u001b[0m\n",
      "\u001b[0;31mKeyboardInterrupt\u001b[0m: "
     ]
    }
   ],
   "source": [
    "# sage verify.sage\n",
    "def gold(n):\n",
    "    for g in range(0,prime_pi(n)+2):\n",
    "        if (is_prime(n-g) and is_prime(n+g)):\n",
    "            return g\n",
    "\n",
    "# verify Improved Goldbach's Conjecture\n",
    "n=344\n",
    "peak=gold(n)\n",
    "print(n,gold(n),prime_pi(n))\n",
    "\n",
    "n=345\n",
    "peak=gold(n)\n",
    "g=gold(n)\n",
    "while g>=0:\n",
    "    if(g>peak):\n",
    "        peak=g\n",
    "        print(n,g)\n",
    "    n+=1\n",
    "    g=gold(n)"
   ]
  },
  {
   "cell_type": "markdown",
   "metadata": {
    "collapsed": false
   },
   "source": [
    "[ImprovedGoldbachConjecture.java](ImprovedGoldbachConjecture.java): a Iava GUI to search gold(n) in range(n,n+256) by using BigInteger.isProbablePrime(64)"
   ]
  },
  {
   "cell_type": "code",
   "execution_count": 10,
   "metadata": {
    "collapsed": false,
    "scrolled": true
   },
   "outputs": [
    {
     "name": "stderr",
     "output_type": "stream",
     "text": [
      "WARNING: Some output was deleted.\n"
     ]
    }
   ],
   "source": [
    "table1=[(n,golds(n),prime_pi(n)) for n in range(2,1024)]\n",
    "print(table1)"
   ]
  },
  {
   "cell_type": "markdown",
   "metadata": {
    "collapsed": false
   },
   "source": [
    "**Glodbach Triangle**: `GT[i-2,j-2]:= (nth_prime(i)+nth_prime(j))//2 , i>=j>=2`"
   ]
  },
  {
   "cell_type": "code",
   "execution_count": 2,
   "metadata": {
    "collapsed": false
   },
   "outputs": [
    {
     "name": "stdout",
     "output_type": "stream",
     "text": [
      "[3]\n",
      "[4, 5]\n",
      "[5, 6, 7]\n",
      "[7, 8, 9, 11]\n",
      "[8, 9, 10, 12, 13]\n",
      "[10, 11, 12, 14, 15, 17]\n",
      "[11, 12, 13, 15, 16, 18, 19]\n",
      "[13, 14, 15, 17, 18, 20, 21, 23]\n",
      "[16, 17, 18, 20, 21, 23, 24, 26, 29]\n",
      "[17, 18, 19, 21, 22, 24, 25, 27, 30, 31]\n",
      "[20, 21, 22, 24, 25, 27, 28, 30, 33, 34, 37]\n",
      "[22, 23, 24, 26, 27, 29, 30, 32, 35, 36, 39, 41]\n",
      "[23, 24, 25, 27, 28, 30, 31, 33, 36, 37, 40, 42, 43]\n",
      "[25, 26, 27, 29, 30, 32, 33, 35, 38, 39, 42, 44, 45, 47]\n",
      "[28, 29, 30, 32, 33, 35, 36, 38, 41, 42, 45, 47, 48, 50, 53]\n",
      "[31, 32, 33, 35, 36, 38, 39, 41, 44, 45, 48, 50, 51, 53, 56, 59]\n",
      "[32, 33, 34, 36, 37, 39, 40, 42, 45, 46, 49, 51, 52, 54, 57, 60, 61]\n",
      "[35, 36, 37, 39, 40, 42, 43, 45, 48, 49, 52, 54, 55, 57, 60, 63, 64, 67]\n",
      "[37, 38, 39, 41, 42, 44, 45, 47, 50, 51, 54, 56, 57, 59, 62, 65, 66, 69, 71]\n",
      "[38, 39, 40, 42, 43, 45, 46, 48, 51, 52, 55, 57, 58, 60, 63, 66, 67, 70, 72, 73]\n",
      "[41, 42, 43, 45, 46, 48, 49, 51, 54, 55, 58, 60, 61, 63, 66, 69, 70, 73, 75, 76, 79]\n",
      "[43, 44, 45, 47, 48, 50, 51, 53, 56, 57, 60, 62, 63, 65, 68, 71, 72, 75, 77, 78, 81, 83]\n",
      "[46, 47, 48, 50, 51, 53, 54, 56, 59, 60, 63, 65, 66, 68, 71, 74, 75, 78, 80, 81, 84, 86, 89]\n"
     ]
    }
   ],
   "source": [
    "n=25\n",
    "GT=[]\n",
    "for i in range(2,n):\n",
    "    row=[(nth_prime(i)+nth_prime(j))//2  for j in range(2,i+1)]\n",
    "    GT.append(row)\n",
    "    print(row)"
   ]
  },
  {
   "cell_type": "code",
   "execution_count": 8,
   "metadata": {
    "collapsed": false
   },
   "outputs": [
    {
     "ename": "SyntaxError",
     "evalue": "invalid syntax (<ipython-input-8-43461594be71>, line 1)",
     "output_type": "error",
     "traceback": [
      "\u001b[0;36m  File \u001b[0;32m\"<ipython-input-8-43461594be71>\"\u001b[0;36m, line \u001b[0;32m1\u001b[0m\n\u001b[0;31m    primes？\u001b[0m\n\u001b[0m          ^\u001b[0m\n\u001b[0;31mSyntaxError\u001b[0m\u001b[0;31m:\u001b[0m invalid syntax\n"
     ]
    }
   ],
   "source": [
    "nth_prime?"
   ]
  },
  {
   "cell_type": "code",
   "execution_count": 0,
   "metadata": {
    "collapsed": false
   },
   "outputs": [
   ],
   "source": [
   ]
  }
 ],
 "metadata": {
  "kernelspec": {
   "display_name": "SageMath (stable)",
   "language": "sagemath",
   "metadata": {
    "cocalc": {
     "description": "Open-source mathematical software system",
     "priority": 10,
     "url": "https://www.sagemath.org/"
    }
   },
   "name": "sagemath"
  },
  "language_info": {
   "codemirror_mode": {
    "name": "ipython",
    "version": 2
   },
   "file_extension": ".py",
   "mimetype": "text/x-python",
   "name": "python",
   "nbconvert_exporter": "python",
   "pygments_lexer": "ipython2",
   "version": "2.7.15"
  }
 },
 "nbformat": 4,
 "nbformat_minor": 0
}