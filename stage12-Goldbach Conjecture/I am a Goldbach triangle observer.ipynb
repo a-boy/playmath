{
 "cells": [
  {
   "cell_type": "markdown",
   "metadata": {
    "collapsed": false
   },
   "source": [
    "# I am a Goldbach triangle observer\n",
    "JiangLin Luo(cody@ustc.edu) 2023-08-30"
   ]
  },
  {
   "cell_type": "markdown",
   "metadata": {
    "collapsed": false
   },
   "source": [
    "**Abstract**: "
   ]
  },
  {
   "cell_type": "markdown",
   "metadata": {
    "collapsed": false
   },
   "source": [
    "定义：**哥德巴赫三角形**排列成下三角阵，主对角线上为奇质数列{3,5,7,11,...}，每个位置上的数值为其最顶端与最右端两质数的和的一半。n-1层的哥德巴赫三角形中最后的质数为$p_n$。\n",
    "Definition: **Goldbach-Triangle**:  `GT[i-2,j-2]:= (nth_prime(i)+nth_prime(j))//2 , i>=j>=2.` Every item is the average of top and right primes.\n",
    "\n",
    "|   |   |   |   |   |   |   |\n",
    "|---|---|---|---|---|---|---|\n",
    "|3|\n",
    "|4|  5|\n",
    "|5|  6|  7|\n",
    "|7|  8|  9|  11|\n",
    "|8|  9|  10| 12| 13|\n",
    "|10| 11| 12| 14| 15| 17|\n",
    "|11| 12| 13| 15| 16| 18| 19|\n"
   ]
  },
  {
   "cell_type": "code",
   "execution_count": 4,
   "metadata": {
    "collapsed": false
   },
   "outputs": [
    {
     "data": {
      "text/plain": [
       "[2, 3, 109, 997]"
      ]
     },
     "execution_count": 4,
     "metadata": {
     },
     "output_type": "execute_result"
    }
   ],
   "source": [
    "p=nth_prime\n",
    "[p(1),p(2),p(29),p(168)]"
   ]
  },
  {
   "cell_type": "code",
   "execution_count": 10,
   "metadata": {
    "collapsed": false
   },
   "outputs": [
    {
     "name": "stdout",
     "output_type": "stream",
     "text": [
      "[3]\n",
      "[4, 5]\n",
      "[5, 6, 7]\n",
      "[7, 8, 9, 11]\n",
      "[8, 9, 10, 12, 13]\n",
      "[10, 11, 12, 14, 15, 17]\n",
      "[11, 12, 13, 15, 16, 18, 19]\n",
      "[13, 14, 15, 17, 18, 20, 21, 23]\n",
      "[16, 17, 18, 20, 21, 23, 24, 26, 29]\n",
      "[17, 18, 19, 21, 22, 24, 25, 27, 30, 31]\n",
      "[20, 21, 22, 24, 25, 27, 28, 30, 33, 34, 37]\n",
      "[22, 23, 24, 26, 27, 29, 30, 32, 35, 36, 39, 41]\n",
      "[23, 24, 25, 27, 28, 30, 31, 33, 36, 37, 40, 42, 43]\n",
      "[25, 26, 27, 29, 30, 32, 33, 35, 38, 39, 42, 44, 45, 47]\n",
      "[28, 29, 30, 32, 33, 35, 36, 38, 41, 42, 45, 47, 48, 50, 53]\n",
      "[31, 32, 33, 35, 36, 38, 39, 41, 44, 45, 48, 50, 51, 53, 56, 59]\n",
      "[32, 33, 34, 36, 37, 39, 40, 42, 45, 46, 49, 51, 52, 54, 57, 60, 61]\n",
      "[35, 36, 37, 39, 40, 42, 43, 45, 48, 49, 52, 54, 55, 57, 60, 63, 64, 67]\n",
      "[37, 38, 39, 41, 42, 44, 45, 47, 50, 51, 54, 56, 57, 59, 62, 65, 66, 69, 71]\n",
      "[38, 39, 40, 42, 43, 45, 46, 48, 51, 52, 55, 57, 58, 60, 63, 66, 67, 70, 72, 73]\n",
      "[41, 42, 43, 45, 46, 48, 49, 51, 54, 55, 58, 60, 61, 63, 66, 69, 70, 73, 75, 76, 79]\n",
      "[43, 44, 45, 47, 48, 50, 51, 53, 56, 57, 60, 62, 63, 65, 68, 71, 72, 75, 77, 78, 81, 83]\n",
      "[46, 47, 48, 50, 51, 53, 54, 56, 59, 60, 63, 65, 66, 68, 71, 74, 75, 78, 80, 81, 84, 86, 89]\n",
      "[50, 51, 52, 54, 55, 57, 58, 60, 63, 64, 67, 69, 70, 72, 75, 78, 79, 82, 84, 85, 88, 90, 93, 97]\n",
      "[52, 53, 54, 56, 57, 59, 60, 62, 65, 66, 69, 71, 72, 74, 77, 80, 81, 84, 86, 87, 90, 92, 95, 99, 101]\n",
      "[53, 54, 55, 57, 58, 60, 61, 63, 66, 67, 70, 72, 73, 75, 78, 81, 82, 85, 87, 88, 91, 93, 96, 100, 102, 103]\n",
      "[55, 56, 57, 59, 60, 62, 63, 65, 68, 69, 72, 74, 75, 77, 80, 83, 84, 87, 89, 90, 93, 95, 98, 102, 104, 105, 107]\n",
      "[56, 57, 58, 60, 61, 63, 64, 66, 69, 70, 73, 75, 76, 78, 81, 84, 85, 88, 90, 91, 94, 96, 99, 103, 105, 106, 108, 109]\n"
     ]
    }
   ],
   "source": [
    "n=30\n",
    "GT=[]\n",
    "for i in range(2,n):\n",
    "    row=[(nth_prime(i)+nth_prime(j))//2  for j in range(2,i+1)]\n",
    "    GT.append(row)\n",
    "    print(row)"
   ]
  },
  {
   "cell_type": "markdown",
   "metadata": {
    "collapsed": false
   },
   "source": [
    "**Observation Conclusion 1**: 利用前`n-1`个奇质数$\\left\\{ 3,5, \\cdots ,p_n \\right\\}$， 取两两之和的一半，结果会遍历$3...({p_n} + {p_{n - \\pi \\left( n \\right)}})/2$之间的所有整数，没有遗漏，也会遍历$3...({p_{n-1} + {p_{n - \\pi \\left( n \\right)+1}}})/2$之间的所有整数。对照图形，这大致等同于说，在`n-1`层的哥德巴赫三角形中划去最后的底边长恰为$\\pi \\left( n \\right)$的$\\vartriangle $等腰三角部分，剩下的图形中出现的是连续的整数，有重复但没有间断。\n",
    "如图：![](2023-08-30Conclusion1.png)"
   ]
  },
  {
   "cell_type": "code",
   "execution_count": 3,
   "metadata": {
    "collapsed": false
   },
   "outputs": [
    {
     "ename": "NameError",
     "evalue": "name 'p' is not defined",
     "output_type": "error",
     "traceback": [
      "\u001b[0;31m---------------------------------------------------------------------------\u001b[0m",
      "\u001b[0;31mNameError\u001b[0m                                 Traceback (most recent call last)",
      "Cell \u001b[0;32mIn [3], line 5\u001b[0m\n\u001b[1;32m      3\u001b[0m GTflatset\u001b[38;5;241m=\u001b[39m\u001b[38;5;28mset\u001b[39m();\n\u001b[1;32m      4\u001b[0m \u001b[38;5;28;01mfor\u001b[39;00m i \u001b[38;5;129;01min\u001b[39;00m \u001b[38;5;28mrange\u001b[39m(Integer(\u001b[38;5;241m2\u001b[39m),top):\n\u001b[0;32m----> 5\u001b[0m     row\u001b[38;5;241m=\u001b[39m\u001b[43m[\u001b[49m\u001b[43m(\u001b[49m\u001b[43mp\u001b[49m\u001b[43m(\u001b[49m\u001b[43mi\u001b[49m\u001b[43m)\u001b[49m\u001b[38;5;241;43m+\u001b[39;49m\u001b[43mp\u001b[49m\u001b[43m(\u001b[49m\u001b[43mj\u001b[49m\u001b[43m)\u001b[49m\u001b[43m)\u001b[49m\u001b[38;5;241;43m/\u001b[39;49m\u001b[38;5;241;43m/\u001b[39;49m\u001b[43mInteger\u001b[49m\u001b[43m(\u001b[49m\u001b[38;5;241;43m2\u001b[39;49m\u001b[43m)\u001b[49m\u001b[43m  \u001b[49m\u001b[38;5;28;43;01mfor\u001b[39;49;00m\u001b[43m \u001b[49m\u001b[43mj\u001b[49m\u001b[43m \u001b[49m\u001b[38;5;129;43;01min\u001b[39;49;00m\u001b[43m \u001b[49m\u001b[38;5;28;43mrange\u001b[39;49m\u001b[43m(\u001b[49m\u001b[43mInteger\u001b[49m\u001b[43m(\u001b[49m\u001b[38;5;241;43m2\u001b[39;49m\u001b[43m)\u001b[49m\u001b[43m,\u001b[49m\u001b[43mi\u001b[49m\u001b[38;5;241;43m+\u001b[39;49m\u001b[43mInteger\u001b[49m\u001b[43m(\u001b[49m\u001b[38;5;241;43m1\u001b[39;49m\u001b[43m)\u001b[49m\u001b[43m)\u001b[49m\u001b[43m]\u001b[49m\n\u001b[1;32m      6\u001b[0m     GTflatset\u001b[38;5;241m=\u001b[39mGTflatset\u001b[38;5;241m.\u001b[39munion(\u001b[38;5;28mset\u001b[39m(row))\n\u001b[1;32m      7\u001b[0m     M\u001b[38;5;241m=\u001b[39m\u001b[38;5;28mmax\u001b[39m((p(i)\u001b[38;5;241m+\u001b[39mp(i\u001b[38;5;241m-\u001b[39mprime_pi(i)))\u001b[38;5;241m/\u001b[39m\u001b[38;5;241m/\u001b[39mInteger(\u001b[38;5;241m2\u001b[39m),(p(i\u001b[38;5;241m-\u001b[39mInteger(\u001b[38;5;241m1\u001b[39m))\u001b[38;5;241m+\u001b[39mp(i\u001b[38;5;241m-\u001b[39mprime_pi(i)\u001b[38;5;241m+\u001b[39mInteger(\u001b[38;5;241m1\u001b[39m)))\u001b[38;5;241m/\u001b[39m\u001b[38;5;241m/\u001b[39mInteger(\u001b[38;5;241m2\u001b[39m))\n",
      "Cell \u001b[0;32mIn [3], line 5\u001b[0m, in \u001b[0;36m<listcomp>\u001b[0;34m(.0)\u001b[0m\n\u001b[1;32m      3\u001b[0m GTflatset\u001b[38;5;241m=\u001b[39m\u001b[38;5;28mset\u001b[39m();\n\u001b[1;32m      4\u001b[0m \u001b[38;5;28;01mfor\u001b[39;00m i \u001b[38;5;129;01min\u001b[39;00m \u001b[38;5;28mrange\u001b[39m(Integer(\u001b[38;5;241m2\u001b[39m),top):\n\u001b[0;32m----> 5\u001b[0m     row\u001b[38;5;241m=\u001b[39m[(\u001b[43mp\u001b[49m(i)\u001b[38;5;241m+\u001b[39mp(j))\u001b[38;5;241m/\u001b[39m\u001b[38;5;241m/\u001b[39mInteger(\u001b[38;5;241m2\u001b[39m)  \u001b[38;5;28;01mfor\u001b[39;00m j \u001b[38;5;129;01min\u001b[39;00m \u001b[38;5;28mrange\u001b[39m(Integer(\u001b[38;5;241m2\u001b[39m),i\u001b[38;5;241m+\u001b[39mInteger(\u001b[38;5;241m1\u001b[39m))]\n\u001b[1;32m      6\u001b[0m     GTflatset\u001b[38;5;241m=\u001b[39mGTflatset\u001b[38;5;241m.\u001b[39munion(\u001b[38;5;28mset\u001b[39m(row))\n\u001b[1;32m      7\u001b[0m     M\u001b[38;5;241m=\u001b[39m\u001b[38;5;28mmax\u001b[39m((p(i)\u001b[38;5;241m+\u001b[39mp(i\u001b[38;5;241m-\u001b[39mprime_pi(i)))\u001b[38;5;241m/\u001b[39m\u001b[38;5;241m/\u001b[39mInteger(\u001b[38;5;241m2\u001b[39m),(p(i\u001b[38;5;241m-\u001b[39mInteger(\u001b[38;5;241m1\u001b[39m))\u001b[38;5;241m+\u001b[39mp(i\u001b[38;5;241m-\u001b[39mprime_pi(i)\u001b[38;5;241m+\u001b[39mInteger(\u001b[38;5;241m1\u001b[39m)))\u001b[38;5;241m/\u001b[39m\u001b[38;5;241m/\u001b[39mInteger(\u001b[38;5;241m2\u001b[39m))\n",
      "\u001b[0;31mNameError\u001b[0m: name 'p' is not defined"
     ]
    }
   ],
   "source": [
    "#verify Conclusion 1: (i-1) layered Goldbach triangle contains all integers from 3 to max((p(i)+p(i-prime_pi(i)))//2,(p(i-1)+p(i-prime_pi(i)+1))//2)\n",
    "top=1000\n",
    "GTflatset=set();\n",
    "for i in range(2,top):\n",
    "    row=[(p(i)+p(j))//2  for j in range(2,i+1)]\n",
    "    GTflatset=GTflatset.union(set(row))\n",
    "    M=max((p(i)+p(i-prime_pi(i)))//2,(p(i-1)+p(i-prime_pi(i)+1))//2)\n",
    "    ###notice range(2,4) is [2,3]. Since (p(i)+p(j))//2 is sure in GTset, here range(3,M) don't need to write as range(3,1+M)\n",
    "    if not set(range(3,M)).issubset(GTflatset):\n",
    "       print(\"Conclusion 1 occurs counterexample at i=\",i)\n",
    "       print(GTflatset)\n",
    "print('pass')"
   ]
  },
  {
   "cell_type": "code",
   "execution_count": 35,
   "metadata": {
    "collapsed": false
   },
   "outputs": [
    {
     "data": {
      "text/plain": [
       "{7, 18}"
      ]
     },
     "execution_count": 35,
     "metadata": {
     },
     "output_type": "execute_result"
    }
   ],
   "source": [
    "{prime_pi(18),prime_pi(61),}"
   ]
  },
  {
   "cell_type": "markdown",
   "metadata": {
    "collapsed": false
   },
   "source": [
    "**Observation Conclusion 2**:\n",
    "1.  因为质数列是严格递增的，所以哥德巴赫三角形中每条纵线、横线、正向斜线(\\\\)上的数列都是严格递增的。进而任意两条相邻正向斜线的数列交集必为空，也就没有重复值。\n",
    "2. 哥德巴赫三角形中行数取得足够多时，任意不相邻两条正向斜线(\\\\-\\\\)上的数列必有非空交集。\n",
    "3. 除去开头部分的{3}，{4}，{5，5}，{7，6}之外，每条反向斜线(/)数列必有重复值，如{8,8,7},{10,9,9},{11,11,10,11},...\n"
   ]
  },
  {
   "cell_type": "markdown",
   "metadata": {
    "collapsed": false
   },
   "source": [
    "**Observation Conclusion 3**:大于6的整数在哥德巴赫三角形中出现至少两次，也就是说把任意大于12的偶数写成两个奇质数之和(2m=p+q)的方式为两种或更多。大于19的整数在哥德巴赫三角形中出现三次或更多次。"
   ]
  },
  {
   "cell_type": "code",
   "execution_count": 0,
   "metadata": {
    "collapsed": false
   },
   "outputs": [
   ],
   "source": [
    "**Observation Conclusion 4**: "
   ]
  }
 ],
 "metadata": {
  "kernelspec": {
   "argv": [
    "sage-10.0",
    "--python",
    "-m",
    "sage.repl.ipython_kernel",
    "--matplotlib=inline",
    "-f",
    "{connection_file}"
   ],
   "display_name": "SageMath 10.0",
   "env": {
   },
   "language": "sagemath",
   "metadata": {
    "cocalc": {
     "description": "Open-source mathematical software system",
     "priority": 10,
     "url": "https://www.sagemath.org/"
    }
   },
   "name": "sage-10.0",
   "resource_dir": "/ext/jupyter/kernels/sage-10.0"
  },
  "language_info": {
   "codemirror_mode": {
    "name": "ipython",
    "version": 3
   },
   "file_extension": ".py",
   "mimetype": "text/x-python",
   "name": "python",
   "nbconvert_exporter": "python",
   "pygments_lexer": "ipython3",
   "version": "3.11.1"
  }
 },
 "nbformat": 4,
 "nbformat_minor": 4
}