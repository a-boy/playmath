{
 "cells": [
  {
   "cell_type": "code",
   "execution_count": 0,
   "metadata": {
    "collapsed": false
   },
   "outputs": [
   ],
   "source": [
   ]
  },
  {
   "cell_type": "code",
   "execution_count": 1,
   "metadata": {
    "collapsed": false
   },
   "outputs": [
   ],
   "source": [
    "def biggcd(a, b):\n",
    "  while b:\n",
    "    a, b = b, a % b\n",
    "    if a<=10000000000: return 1\n",
    "  return a\n",
    "\n",
    "def gcdfib(n):\n",
    "    \"\"\"\n",
    "    factor n by computing gcd(n,fibonacci(i)), i in [1..m]\n",
    "    \"\"\"\n",
    "    i,a,b=2,1,1\n",
    "    #i,a,b=(10000000, 716393314866152562708533308292397924010268873964842548902093199296180284059525468868368336939132894777228856492800353337967722260329408604369481533354210783810087176981203772771587413528616905587554451131238437738835299624712167282161123885195736247188996131032454078011637141127830675904918541817650658203302855452007207503596766372955899733114331441525044472182555063850790070957861, 2571602521652902196266831961262927171345661495696423426126391921205144805713665862515748219584864555239576494832266144056454588895700842112669794401152106593389787964214342232558867105416688372174771905095453519073452690927584444212248706923970183528499277572322784977391459491032352155931872915185798432075228478181531653863360949553425031810745882809991391370749320521146817630310316)\n",
    "\n",
    "    g=1\n",
    "    while g==1:\n",
    "        a,b=b,(a+b)%n\n",
    "        g=biggcd(n,b)\n",
    "        i+=1\n",
    "        if(i%10000000==0): print(i,a,b)\n",
    "    print('g=',g)\n",
    "    return g"
   ]
  },
  {
   "cell_type": "code",
   "execution_count": 0,
   "metadata": {
    "collapsed": false
   },
   "outputs": [
   ],
   "source": [
    "p=1277\n",
    "n=2^p-1\n",
    "gcdfib(n)"
   ]
  },
  {
   "cell_type": "code",
   "execution_count": 0,
   "metadata": {
    "collapsed": false
   },
   "outputs": [
   ],
   "source": [
   ]
  }
 ],
 "metadata": {
  "kernelspec": {
   "display_name": "SageMath (stable)",
   "name": "sagemath"
  },
  "language_info": {
   "codemirror_mode": {
    "name": "ipython",
    "version": 2
   },
   "file_extension": ".py",
   "mimetype": "text/x-python",
   "name": "python",
   "nbconvert_exporter": "python",
   "pygments_lexer": "ipython2",
   "version": "2.7.14"
  }
 },
 "nbformat": 4,
 "nbformat_minor": 0
}