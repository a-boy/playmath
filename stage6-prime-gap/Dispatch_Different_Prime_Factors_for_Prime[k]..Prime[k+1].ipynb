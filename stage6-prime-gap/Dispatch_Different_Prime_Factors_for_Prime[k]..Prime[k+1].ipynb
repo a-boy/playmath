{
 "cells": [
  {
   "cell_type": "markdown",
   "metadata": {
    "collapsed": false
   },
   "source": [
   ]
  },
  {
   "cell_type": "markdown",
   "metadata": {
    "collapsed": false
   },
   "source": [
    "A088387 in OEIS spf\\(n\\) is the prime corresponding to largest prime power factor of n, a\\(1\\)=1.\n",
    "\n",
    "Most significant prime factor of n: If n = \\(p\\_1^e\\_1\\)\\(p\\_2^e\\_2\\)\\(p\\_3^e\\_3\\)... and max\\(p\\_1^e\\_1,p\\_2^e\\_2,...\\) = p\\_k^e\\_k then spf\\(n\\) = p\\_k.\n",
    "\n"
   ]
  },
  {
   "cell_type": "code",
   "execution_count": 1,
   "metadata": {
    "collapsed": false
   },
   "outputs": [
    {
     "data": {
      "text/plain": [
       "[113, 19, 23, 29, 13, 59, 17, 2, 11, 61, 41, 31, 5, 3, 127]"
      ]
     },
     "execution_count": 1,
     "metadata": {
     },
     "output_type": "execute_result"
    }
   ],
   "source": [
    "def spf(n):\n",
    "    return max(((p**e, p) for p, e in list(factor(n))), default=(0, 1))[1]\n",
    "\n",
    "list([spf(n) for n in range(113,128)])"
   ]
  },
  {
   "cell_type": "code",
   "execution_count": 31,
   "metadata": {
    "collapsed": false
   },
   "outputs": [
    {
     "name": "stdout",
     "output_type": "stream",
     "text": [
      "[(45900, (27, 3)), (45927, (6561, 3))]\n",
      "45900 (27, 5)\n",
      "[(45893, (45893, 45893)), (45894, (7649, 7649)), (45895, (137, 137)), (45896, (5737, 5737)), (45897, (15299, 15299)), (45898, (433, 433)), (45899, (83, 83)), (45900, (27, 3)), (45901, (233, 233)), (45902, (389, 389)), (45903, (107, 107)), (45904, (151, 151)), (45905, (9181, 9181)), (45906, (1093, 1093)), (45907, (1583, 1583)), (45908, (499, 499)), (45909, (5101, 5101)), (45910, (4591, 4591)), (45911, (1481, 1481)), (45912, (1913, 1913)), (45913, (937, 937)), (45914, (2087, 2087)), (45915, (3061, 3061)), (45916, (883, 883)), (45917, (73, 73)), (45918, (2551, 2551)), (45919, (977, 977)), (45920, (41, 41)), (45921, (15307, 15307)), (45922, (22961, 22961)), (45923, (2417, 2417)), (45924, (89, 89)), (45925, (167, 167)), (45926, (22963, 22963)), (45927, (6561, 3)), (45928, (5741, 5741)), (45929, (3533, 3533)), (45930, (1531, 1531)), (45931, (1997, 1997)), (45932, (11483, 11483)), (45933, (251, 251)), (45934, (193, 193)), (45935, (9187, 9187)), (45936, (29, 29)), (45937, (647, 647)), (45938, (223, 223)), (45939, (15313, 15313)), (45940, (2297, 2297)), (45941, (6563, 6563)), (45942, (31, 31)), (45943, (45943, 45943))]\n"
     ]
    }
   ],
   "source": [
    "def dispatch(i):\n",
    "    p1,p2=nth_prime(i),nth_prime(i+1)\n",
    "    S=[(p1,(p1,p1))]\n",
    "    for n in (p1+1..p2):\n",
    "        significant=n,max(((p**e, p) for p, e in list(factor(n))), default=(0, 1))\n",
    "        #print(significant)\n",
    "        for x,(spart,p) in S:\n",
    "            if significant[1][1]==p:\n",
    "                dup=[(x,(spart,p)),significant];print(dup)\n",
    "                if(spart>significant[1][0]):\n",
    "                    significant=n,(significant[1][0],spf(n//significant[1][1]))\n",
    "                    print(significant)\n",
    "                else:\n",
    "                    print(x,(spart,spf(x/spart)))\n",
    "\n",
    "        S.append(significant)\n",
    "    print(S)\n",
    "dispatch(4754)"
   ]
  },
  {
   "cell_type": "code",
   "execution_count": 12,
   "metadata": {
    "collapsed": false
   },
   "outputs": [
    {
     "name": "stdout",
     "output_type": "stream",
     "text": [
      "duplicate -1 : 34 139 [139, 7, 47, 71, 13, 2, 29, 73, 7, 37, 149]\n",
      "duplicate -1 : 114 619 [619, 31, 3, 311, 89, 2, 5, 313, 19, 157, 37, 3, 631]\n",
      "duplicate -1 : 327 2179 [2179, 109, 727, 1091, 59, 13, 23, 1093, 3, 547, 199, 73, 313, 137, 43, 1097, 439, 61, 13, 157, 733, 5, 71, 367, 2203]\n",
      "duplicate -1 : 368 2503 [2503, 313, 167, 179, 109, 19, 193, 251, 3, 157, 359, 419, 503, 37, 839, 1259, 229, 3, 2521]\n",
      "duplicate -1 : 457 3229 [3229, 19, 359, 101, 61, 7, 647, 809, 83, 1619, 79, 3, 463, 1621, 47, 811, 59, 541, 191, 29, 19, 5, 3251]\n",
      "duplicate -1 : 522 3739 [3739, 17, 43, 1871, 197, 2, 107, 1873, 1249, 937, 163, 5, 11, 67, 139, 1877, 751, 313, 17, 1879, 179, 47, 3761]\n",
      "duplicate -1 : 574 4177 [4177, 2089, 199, 19, 113, 41, 89, 523, 31, 23, 79, 349, 71, 419, 127, 131, 599, 233, 839, 1049, 1399, 2099, 19, 5, 4201]\n",
      "duplicate -1 : 757 5749 [5749, 5, 3, 719, 523, 137, 1151, 1439, 101, 2879, 443, 2, 823, 67, 113, 131, 1153, 31, 79, 103, 641, 577, 199, 37, 251, 2887, 5, 19, 109, 107, 5779]\n",
      "duplicate -1 : 1229 9973 [9973, 4987, 5, 43, 907, 1663, 587, 499, 1109, 31, 149, 2, 1997, 4993, 3329, 227, 1427, 37, 103, 1249, 3331, 263, 1999, 7, 769, 4999, 101, 5, 137, 1667, 1429, 61, 29, 5003, 10007]\n",
      "duplicate -1 : 2225 19609 [19609, 53, 2179, 4903, 1783, 467, 3923, 613, 503, 577, 853, 109, 2803, 9811, 211, 223, 157, 3271, 1033, 701, 727, 151, 293, 409, 677, 9817, 17, 4909, 269, 1091, 479, 491, 6547, 61, 1511, 1637, 3929, 47, 59, 307, 401, 131, 457, 17, 6551, 317, 3931, 3, 1787, 9829, 6553, 983, 19661]\n",
      "duplicate -1 : 2918 26597 [26597, 31, 397, 5, 8867, 283, 719, 739, 313, 251, 181, 1663, 59, 887, 89, 6653, 2957, 1901, 5323, 1109, 619, 13309, 467, 11, 3803, 29, 337, 2, 5, 13313, 26627]\n",
      "duplicate -1 : 3302 30593 [30593, 5099, 211, 7649, 47, 15299, 827, 5, 431, 107, 101, 1093, 6121, 5101, 241, 1913, 179, 3061, 4373, 2551, 11, 15307, 157, 89, 1801, 3, 457, 1531, 173, 251, 271, 2, 5, 15313, 83, 31, 281, 1021, 30631]\n",
      "duplicate -1 : 4208 40039 [40039, 13, 1483, 20021, 1741, 71, 8009, 20023, 1907, 2503, 1381, 89, 331, 31, 13, 2861, 8011, 1669, 977, 20029, 4451, 2003, 97, 607, 40063]\n",
      "duplicate -1 : 4522 43331 [43331, 157, 2549, 461, 107, 5417, 151, 233, 2281, 197, 14447, 1667, 487, 43, 8669, 21673, 14449, 10837, 647, 17, 563, 5419, 4817, 409, 29, 3613, 227, 163, 149, 271, 331, 73, 421, 293, 59, 21683, 2551, 139, 1399, 4337, 79, 1549, 3943, 7229, 347, 2711, 761, 23, 6197, 241, 71, 199, 14461, 29, 8677, 1033, 1009, 10847, 1607, 4339, 43391]\n",
      "duplicate -1 : 4754 45893 [45893, 7649, 137, 5737, 15299, 433, 83, 3, 233, 389, 107, 151, 9181, 1093, 1583, 499, 5101, 4591, 1481, 1913, 937, 2087, 3061, 883, 73, 2551, 977, 41, 15307, 22961, 2417, 89, 167, 22963, 3, 5741, 3533, 1531, 1997, 11483, 251, 193, 9187, 29, 647, 223, 15313, 2297, 6563, 31, 45943]\n"
     ]
    },
    {
     "data": {
      "text/plain": [
       "5133"
      ]
     },
     "execution_count": 12,
     "metadata": {
     },
     "output_type": "execute_result"
    }
   ],
   "source": [
    "p=nth_prime\n",
    "def pick_same_hpf_between_two_successive_primes(top):\n",
    "    S=[spf(n) for n in range(1,top)]\n",
    "    S.insert(0,0)\n",
    "    howmanyprimes=prime_pi(top-1)\n",
    "    i=1\n",
    "    while(i<howmanyprimes):\n",
    "        interval=S[p(i):p(i+1)+1]\n",
    "        if len(interval)!=len(set(interval)):\n",
    "            print('duplicate',len(set(interval))-len(interval),':',i,p(i),interval)\n",
    "        i+=1\n",
    "    return i\n",
    "pick_same_hpf_between_two_successive_primes(50000)\n"
   ]
  },
  {
   "cell_type": "code",
   "execution_count": 13,
   "metadata": {
    "collapsed": false
   },
   "outputs": [
    {
     "data": {
      "text/plain": [
       "[2^3 * 3 * 7 * 13, 13^3]"
      ]
     },
     "execution_count": 13,
     "metadata": {
     },
     "output_type": "execute_result"
    }
   ],
   "source": [
    "[factor(2184),factor(2184+13)]"
   ]
  },
  {
   "cell_type": "code",
   "execution_count": 0,
   "metadata": {
    "collapsed": false
   },
   "outputs": [
   ],
   "source": [
   ]
  },
  {
   "cell_type": "code",
   "execution_count": 33,
   "metadata": {
    "collapsed": false
   },
   "outputs": [
    {
     "data": {
      "text/plain": [
       "(2, 5)"
      ]
     },
     "execution_count": 33,
     "metadata": {
     },
     "output_type": "execute_result"
    }
   ],
   "source": [
    "max((1,10),(2,5))"
   ]
  },
  {
   "cell_type": "code",
   "execution_count": 0,
   "metadata": {
    "collapsed": false
   },
   "outputs": [
   ],
   "source": [
   ]
  }
 ],
 "metadata": {
  "kernelspec": {
   "argv": [
    "sage-10.1",
    "--python",
    "-m",
    "sage.repl.ipython_kernel",
    "--matplotlib=inline",
    "-f",
    "{connection_file}"
   ],
   "display_name": "SageMath 10.1",
   "env": {
   },
   "language": "sagemath",
   "metadata": {
    "cocalc": {
     "description": "Open-source mathematical software system",
     "priority": 10,
     "url": "https://www.sagemath.org/"
    }
   },
   "name": "sage-10.1",
   "resource_dir": "/ext/jupyter/kernels/sage-10.1"
  }
 },
 "nbformat": 4,
 "nbformat_minor": 4
}