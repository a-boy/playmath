{
 "cells": [
  {
   "cell_type": "markdown",
   "metadata": {
    "collapsed": false,
    "deletable": true,
    "editable": true
   },
   "source": [
    "# Sagemath快速入门"
   ]
  },
  {
   "cell_type": "markdown",
   "metadata": {
    "collapsed": false,
    "deletable": true,
    "editable": true
   },
   "source": [
    "![](images/2019-07-04_06-14-51.png)"
   ]
  },
  {
   "cell_type": "raw",
   "metadata": {
    "collapsed": false,
    "deletable": true,
    "editable": true
   },
   "source": [
    "执行单元: ⟨shift-enter⟩\n",
    "执行单元并新建单元: ⟨alt-enter⟩\n",
    "分割单元: ⟨control-;⟩\n",
    "合并单元: ⟨control-backspace⟩\n",
    "插入数学单元: 点击单元间的蓝线\n",
    "插入文本/HTML 单元: shift-点击单元间的蓝线\n",
    "删除单元: 删除内容后退格 (backspace)\n",
    "\n",
    "命令行\n",
    "---------\n",
    "com⟨tab⟩ 自动完成 command\n",
    "*bar*? 列出所有包含 “bar” 的命令\n",
    "command?⟨tab⟩ 显示文档\n",
    "command??⟨tab⟩ 显示源代码\n",
    "a.⟨tab⟩ 显示对象a 的方法 (或 dir(a))\n",
    "a._⟨tab⟩ 显示对象 a 的隐藏方法\n",
    "search_doc(\"string or regexp\") 文档全文搜索\n",
    "search_src(\"string or regexp\") 搜索源代码\n",
    "_ 前一项输出\n",
    "\n"
   ]
  },
  {
   "cell_type": "raw",
   "metadata": {
    "collapsed": false,
    "deletable": true,
    "editable": true
   },
   "source": [
    "数\n",
    "***\n",
    "整数: Z = ZZ 例 -2 -1 0 1 10^100\n",
    "有理数: Q = QQ 例 1/2 1/1000 314/100 -2/1\n",
    "实数: R ≈ RR 例 .5 0.001 3.14 1.23e10000\n",
    "复数: C ≈ CC 例 CC(1,1) CC(2.5,-3)\n",
    "双精度: RDF 与 CDF 例 CDF(2.1,3)\n",
    "模 n 剩余类: Z/nZ = Zmod 例 Mod(2,3) Zmod(3)(2)\n",
    "有限域: Fq = GF 例 GF(3)(2) GF(9,\"a\").0\n",
    "多项式: R[x, y] 例 S.<x,y>=QQ[] x+2*y^3\n",
    "幂级数: R[[t]] 例 S.<t>=QQ[[]] 1/2+2*t+O(t^2)\n",
    "p 进整数: Zp ≈Zp, Qp ≈Qp 例 2+3*5+O(5^2)\n",
    "代数闭包: Q = QQbar 例 QQbar(2^(1/5))\n",
    "区间算术: RIF 例 sage: RIF((1,1.00001))\n",
    "数域: R.<x>=QQ[];K.<a>=NumberField(x^3+x+1)\n",
    "\n",
    "离散数学\n",
    "⌊x⌋ = floor(x) ⌈x⌉ = ceil(x)\n",
    "n 除以 k 的余数 = n%k k|n iff n%k==0\n",
    "n! = factorial(n) \n",
    "二项式系数 binomial(n,m)\n",
    "ϕ(n) = euler_phi(n)\n",
    "字符串: 例 s = \"Hello\" = \"He\"+'llo'\n",
    "s[0]=\"H\" s[-1]=\"o\" s[1:3]=\"el\" s[3:]=\"lo\" s[0:4:2]='Hl'\n",
    "列表: 例 [1,\"Hello\",x] = []+[1,\"Hello\"]+[x]\n",
    "元组: 例 (1,\"Hello\",x) (immutable)\n",
    "集合: 例 {1, 2, 1, a} = Set([1,2,1,\"a\"]) (= {1, 2, a})\n",
    "列表推导式 ≈ 描述法表示集合 (set builder notation), 例\n",
    "{f(x) : x ∈ X, x > 0} = Set([f(x) for x in X if x>0])\n",
    "\n",
    "图论\n",
    "图: G = Graph({0:[1,2,3], 2:[4]})\n",
    "有向图: DiGraph(dictionary)\n",
    "图族: graphs.⟨tab⟩\n",
    "不变量: G.chromatic_polynomial(), G.is_planar()\n",
    "路径: G.shortest_path()\n",
    "可视化: G.plot(), G.plot3d()\n",
    "自同构: G.automorphism_group(),\n",
    "G1.is_isomorphic(G2), G1.is_subgraph(G2)\n",
    "\n",
    "组合学\n",
    "整数序列: sloane_find(list), sloane.⟨tab⟩\n",
    "分划: P=Partitions(n) P.count()\n",
    "组合: C=Combinations(list) C.list()\n",
    "笛卡尔积: CartesianProduct(P,C)\n",
    "Tableau: Tableau([[1,2,3],[4,5]])\n",
    "字: W=Words(\"abc\"); W(\"aabca\")\n",
    "偏序集: Poset([[1,2],[4],[3],[4],[]])\n",
    "根系: RootSystem([\"A\",3])\n",
    "Crystals: CrystalOfTableaux([\"A\",3], shape=[3,2])\n",
    "Lattice Polytopes: A=random_matrix(ZZ,3,6,x=7)\n",
    "L=LatticePolytope(A) L.npoints() L.plot3d()\n",
    "\n",
    "算术\n",
    "a*b a/b a^b √x = sqrt(x) x^(1/n) abs(x) logb(x) = log(x,b)\n",
    "和:∑(i=k..n,f(i)) = sum(f(i) for i in (k..n))\n",
    "积:\n",
    "∏(i=k..n,f(i)) = prod(f(i) for i in (k..n))\n",
    "\n",
    "\n",
    "常数与函数\n",
    "常数: π = pi e = e i = i ∞ = oo\n",
    "ϕ = golden_ratio γ = euler_gamma\n",
    "π 近似值: pi.n(digits=18) = 3.14159265358979324\n",
    "函数: sin cos tan sec csc cot sinh cosh tanh\n",
    "sech csch coth log ln exp ...\n",
    "Python 函数: def f(x): return x^2\n",
    "\n",
    "\n",
    "交互函数\n",
    "把 @interact 放在函数前 (vars determine controls)\n",
    "@interact\n",
    "def f(n=[0..4], s=(1..5), c=Color(\"red\")):\n",
    "  var(\"x\");show(plot(sin(n+x^s),-pi,pi,color=c))\n",
    "  \n",
    "符号式\n",
    "定义新符号变元: var(\"t u v y z\")\n",
    "符号函数: 例 f(x)=x^2\n",
    "关系式: f==g f<=g f>=g f<g f>g\n",
    "求解 f = g: solve(f(x)==g(x), x)\n",
    "solve([f(x,y)==0, g(x,y)==0], x,y)\n",
    "factor(...) expand(...) (...).simplify_...\n",
    "find_root(f(x), a, b) 寻找 x ∈ [a, b] s.t. f(x) ≈ 0\n",
    "\n",
    "微积分\n",
    "limx→a\n",
    "f(x) = limit(f(x), x=a)\n",
    "d\n",
    "dx (f(x)) = diff(f(x),x)\n",
    "∂\n",
    "∂x (f(x, y)) = diff(f(x,y),x)\n",
    "diff = differentiate = derivative\n",
    "∫\n",
    "f(x)dx = integral(f(x),x)\n",
    "∫ b\n",
    "a\n",
    "f(x)dx = integral(f(x),x,a,b)\n",
    "∫ b\n",
    "a\n",
    "f(x)dx ≈ numerical_integral(f(x),a,b)\n",
    "a 点的 n 次 Taylor 多项式: taylor(f(x),x,a,n)\n",
    "\n",
    "\n",
    "矩阵代数\n",
    "vector([1,2])\n",
    "matrix(QQ,[[1,2],[3,4]], sparse=False)\n",
    "(1 2 3\n",
    "4 5 6)\n",
    "= matrix(QQ,2,3,[1,2,3, 4,5,6])\n",
    "det(matrix(QQ,[[1,2],[3,4]]))\n",
    "Av = A*v A−1 = A^-1 At = A.transpose()\n",
    "求解 Ax = v: A\\v 或 A.solve_right(v)\n",
    "求解 xA = v: A.solve_left(v)\n",
    "约化行阶梯型: A.echelon_form()\n",
    "秩与零度: A.rank() A.nullity()\n",
    "Hessenberg 型: A.hessenberg_form()\n",
    "特征多项式: A.charpoly()\n",
    "特征值: A.eigenvalues()\n",
    "特征向量: A.eigenvectors_right() (also left)\n",
    "Gram-Schmidt 正交化: A.gram_schmidt()\n",
    "可视化: A.plot()\n",
    "LLL 约化: matrix(ZZ,...).LLL()\n",
    "Hermite 型: matrix(ZZ,...).hermite_form()\n",
    "\n",
    "\n",
    "线性代数\n",
    "向量空间 Kn = K^n 例 QQ^3 RR^2 CC^4\n",
    "子空间: span(vectors, field )\n",
    "例, span([[1,2,3], [2,3,5]], QQ)\n",
    "核: A.right_kernel() (also left)\n",
    "和与交: V + W and V.intersection(W)\n",
    "基: V.basis()\n",
    "基矩阵: V.basis_matrix()\n",
    "矩阵限制在子空间: A.restrict(V)\n",
    "向量在基下的坐标: V.coordinates(vector)\n",
    "\n",
    "\n"
   ]
  },
  {
   "cell_type": "markdown",
   "metadata": {
    "collapsed": false,
    "deletable": true,
    "editable": true
   },
   "source": [
    "2D 作图\n",
    "line([(x1,y1),. . .,(xn,yn)],options)\n",
    "polygon([(x1,y1),. . .,(xn,yn)],options)\n",
    "circle((x,y),r,options)\n",
    "text(\"txt\",(x,y),options)\n",
    "options 与 plot.options 用法相同, 例 thickness=pixel,\n",
    "rgbcolor=(r,g,b), hue=h 其中 0 ≤ r, b, g, h ≤ 1\n",
    "show(graphic, options)\n",
    "使用 figsize=[w,h] 调整大小\n",
    "使用 aspect_ratio=number 调整纵横比\n",
    "plot(f(x),(x, xmin, xmax),options)\n",
    "parametric_plot((f(t),g(t)),(t, tmin, tmax),options)\n",
    "polar_plot(f(t),(t, tmin, tmax),options)\n",
    "结合: circle((1,1),1)+line([(0,0),(2,2)])\n",
    "animate(list of graphics, options).show(delay=20)\n",
    "\n",
    "\n",
    "3D 作图\n",
    "line3d([(x1,y1,z1),. . .,(xn,yn,zn)],options)\n",
    "sphere((x,y,z),r,options)\n",
    "text3d(\"txt\", (x,y,z), options)\n",
    "tetrahedron((x,y,z),size,options)\n",
    "cube((x,y,z),size,options)\n",
    "octahedron((x,y,z),size,options)\n",
    "dodecahedron((x,y,z),size,options)\n",
    "icosahedron((x,y,z),size,options)\n",
    "plot3d(f(x, y),(x, xb, xe), (y, yb, ye),options)\n",
    "parametric_plot3d((f,g,h),(t, tb, te),options)\n",
    "parametric_plot3d((f(u, v),g(u, v),h(u, v)),\n",
    "(u, ub, ue),(v, vb, ve),options)\n",
    "options: aspect_ratio=[1, 1, 1], color=\"red\"\n",
    "opacity=0.5, figsize=6, viewer=\"tachyon\"\n",
    "\n",
    "\n",
    "数值计算\n",
    "包: import numpy, scipy, cvxopt\n",
    "最小化: var(\"x y z\")\n",
    "minimize(x^2+x*y^3+(1-z)^2-1, [1,1,1])\n",
    "\n",
    "\n",
    "数论\n",
    "素数: prime_range(n,m), is_prime, next_prime primes_first_n, prime_pi\n",
    "素因数分解: factor(n), qsieve(n), ecm.factor(n)\n",
    "extended gcd g = sa + tb = gcd(a, b): g,s,t=xgcd(a,b)\n",
    "Kronecker 符号: kronecker_symbol(a,b)\n",
    "连分数: continued_fraction(x)\n",
    "Bernoulli 数: bernoulli(n), bernoulli_mod_p(p)\n",
    "椭圆曲线: EllipticCurve([a1, a2, a3, a4, a6])\n",
    "Dirichlet 特征: DirichletGroup(N)\n",
    "模形式: ModularForms(level, weight)\n",
    "Modular symbols: ModularSymbols(level, weight, sign)\n",
    "Brandt 模: BrandtModule(level, weight)\n",
    "Modular abelian 簇: J0(N), J1(N)\n",
    "\n",
    "\n",
    "群论\n",
    "G = PermutationGroup([[(1,2,3),(4,5)],[(3,4)]])\n",
    "SymmetricGroup(n), AlternatingGroup(n)\n",
    "交换群: AbelianGroup([3,15])\n",
    "矩阵群: GL, SL, Sp, SU, GU, SO, GO\n",
    "函数: G.sylow_subgroup(p), G.character_table(),\n",
    "G.normal_subgroups(), G.cayley_graph()\n",
    "\n",
    "非交换环\n",
    "四元数: Q.<i,j,k> = QuaternionAlgebra(a,b)\n",
    "自由代数: R.<a,b,c> = FreeAlgebra(QQ, 3)\n",
    "\n",
    "Python 模块\n",
    "import module_name\n",
    "module_name.⟨tab⟩ 与 help(module_name)\n",
    "\n",
    "分析与调试\n",
    "time command: 显示时间信息\n",
    "timeit(\"command\"): 精确时间控制\n",
    "t = cputime(); cputime(t): CPU 运行时间\n",
    "t = walltime(); walltime(t): 系统时间\n",
    "%pdb: 开启交互调试 (仅在命令行)\n",
    "%prun command: 配置命令 (仅在命令行)"
   ]
  },
  {
   "cell_type": "code",
   "execution_count": 73,
   "metadata": {
    "collapsed": false,
    "deletable": true,
    "editable": true
   },
   "outputs": [
    {
     "data": {
      "text/plain": [
       "True"
      ]
     },
     "execution_count": 73,
     "metadata": {
     },
     "output_type": "execute_result"
    }
   ],
   "source": [
    "is_prime(257)"
   ]
  },
  {
   "cell_type": "code",
   "execution_count": 78,
   "metadata": {
    "collapsed": false,
    "deletable": true,
    "editable": true
   },
   "outputs": [
    {
     "data": {
      "text/plain": [
       "(3, -9, 8)"
      ]
     },
     "execution_count": 78,
     "metadata": {
     },
     "output_type": "execute_result"
    }
   ],
   "source": [
    "xgcd(93,105)"
   ]
  },
  {
   "cell_type": "code",
   "execution_count": 79,
   "metadata": {
    "collapsed": false,
    "deletable": true,
    "editable": true
   },
   "outputs": [
    {
     "data": {
      "text/plain": [
       "10"
      ]
     },
     "execution_count": 79,
     "metadata": {
     },
     "output_type": "execute_result"
    }
   ],
   "source": [
    "Mod(3,97).sqrt()"
   ]
  },
  {
   "cell_type": "code",
   "execution_count": 72,
   "metadata": {
    "collapsed": false,
    "deletable": true,
    "editable": true
   },
   "outputs": [
    {
     "data": {
      "text/plain": [
       "([1099511627776], '')"
      ]
     },
     "execution_count": 72,
     "metadata": {
     },
     "output_type": "execute_result"
    }
   ],
   "source": [
    "qsieve(10^40)"
   ]
  },
  {
   "cell_type": "code",
   "execution_count": 68,
   "metadata": {
    "collapsed": false,
    "deletable": true,
    "editable": true
   },
   "outputs": [
    {
     "data": {
      "text/plain": [
       "(-0.0017241187756944104, 119.39222002640398, 1.0)"
      ]
     },
     "execution_count": 68,
     "metadata": {
     },
     "output_type": "execute_result"
    }
   ],
   "source": [
    "var(\"x y z\")\n",
    "minimize(x^2+x*y^3+(1-z)^2-1, [1,1,1])"
   ]
  },
  {
   "cell_type": "code",
   "execution_count": 66,
   "metadata": {
    "collapsed": false,
    "deletable": true,
    "editable": true
   },
   "outputs": [
    {
     "data": {
      "text/html": "\n<iframe srcdoc=\"\n<html>\n<head>\n  <style>\n    * {\n      margin: 0;\n      padding: 0;\n      overflow: hidden;\n    }\n    body, html {      \n      height: 100%;\n      width: 100%;\n    }\n  </style>\n  <script type=&quot;text/javascript&quot; src=&quot;/nbextensions/jsmol/JSmol.min.js&quot;></script>\n</head>\n<body>\n  <script type=&quot;text/javascript&quot;>\n    var script = [\n  'data &quot;model list&quot;',\n  '10',\n  'empty',\n  'Xx -2.61803398875 -3.80251707689 -3.0',\n  'Xx 0.0 -3.80251707689 -3.0',\n  'Xx 2.61803398875 -3.80251707689 -3.0',\n  'Xx 3.61803398875 -2.80251707689 -3.0',\n  'Xx 3.61803398875 0.0 -3.0',\n  'Xx 3.61803398875 2.80251707689 -3.0',\n  'Xx -3.61803398875 -2.80251707689 -3.0',\n  'Xx -3.61803398875 -2.80251707689 0.0',\n  'Xx -3.61803398875 -2.80251707689 3.0',\n  'Xx 5.5 5.5 5.5',\n  'end &quot;model list&quot;; show data',\n  'select *',\n  'wireframe off; spacefill off',\n  'set labelOffset 0 0',\n  'background [255,255,255]',\n  'spin OFF',\n  'moveto 0 -764 -346 -545 76.39',\n  'centerAt absolute {0 0 0}',\n  'zoom 100',\n  'frank OFF',\n  'set perspectivedepth ON',\n  'pmesh obj_1 inline &quot;60',\n  '0 0 3',\n  '2 0 2.23607',\n  '-1 1.73205 2.23607',\n  '-1 -1.73205 2.23607',\n  '2.23607 1.73205 1',\n  '0.381966 2.80252 1',\n  '-2.61803 1.07047 1',\n  '-2.61803 -1.07047 1',\n  '0.381966 -2.80252 1',\n  '2.23607 -1.73205 1',\n  '-2.23607 1.73205 -1',\n  '-0.381966 2.80252 -1',\n  '2.61803 1.07047 -1',\n  '2.61803 -1.07047 -1',\n  '-0.381966 -2.80252 -1',\n  '-2.23607 -1.73205 -1',\n  '1 1.73205 -2.23607',\n  '1 -1.73205 -2.23607',\n  '-2 0 -2.23607',\n  '0 0 -3',\n  '0 0 3',\n  '2 0 2.23607',\n  '-1 1.73205 2.23607',\n  '-1 -1.73205 2.23607',\n  '2.23607 1.73205 1',\n  '0.381966 2.80252 1',\n  '-2.61803 1.07047 1',\n  '-2.61803 -1.07047 1',\n  '0.381966 -2.80252 1',\n  '2.23607 -1.73205 1',\n  '-2.23607 1.73205 -1',\n  '-0.381966 2.80252 -1',\n  '2.61803 1.07047 -1',\n  '2.61803 -1.07047 -1',\n  '-0.381966 -2.80252 -1',\n  '-2.23607 -1.73205 -1',\n  '1 1.73205 -2.23607',\n  '1 -1.73205 -2.23607',\n  '-2 0 -2.23607',\n  '0 0 -3',\n  '0 0 3',\n  '2 0 2.23607',\n  '-1 1.73205 2.23607',\n  '-1 -1.73205 2.23607',\n  '2.23607 1.73205 1',\n  '0.381966 2.80252 1',\n  '-2.61803 1.07047 1',\n  '-2.61803 -1.07047 1',\n  '0.381966 -2.80252 1',\n  '2.23607 -1.73205 1',\n  '-2.23607 1.73205 -1',\n  '-0.381966 2.80252 -1',\n  '2.61803 1.07047 -1',\n  '2.61803 -1.07047 -1',\n  '-0.381966 -2.80252 -1',\n  '-2.23607 -1.73205 -1',\n  '1 1.73205 -2.23607',\n  '1 -1.73205 -2.23607',\n  '-2 0 -2.23607',\n  '0 0 -3',\n  '36',\n  '4',\n  '0',\n  '1',\n  '4',\n  '0',\n  '4',\n  '0',\n  '4',\n  '5',\n  '0',\n  '4',\n  '0',\n  '5',\n  '2',\n  '0',\n  '4',\n  '20',\n  '22',\n  '6',\n  '20',\n  '4',\n  '20',\n  '6',\n  '7',\n  '20',\n  '4',\n  '20',\n  '7',\n  '3',\n  '20',\n  '4',\n  '40',\n  '23',\n  '8',\n  '40',\n  '4',\n  '40',\n  '8',\n  '9',\n  '40',\n  '4',\n  '40',\n  '9',\n  '21',\n  '40',\n  '4',\n  '41',\n  '29',\n  '13',\n  '41',\n  '4',\n  '41',\n  '13',\n  '12',\n  '41',\n  '4',\n  '41',\n  '12',\n  '24',\n  '41',\n  '4',\n  '42',\n  '25',\n  '11',\n  '42',\n  '4',\n  '42',\n  '11',\n  '10',\n  '42',\n  '4',\n  '42',\n  '10',\n  '26',\n  '42',\n  '4',\n  '43',\n  '27',\n  '15',\n  '43',\n  '4',\n  '43',\n  '15',\n  '14',\n  '43',\n  '4',\n  '43',\n  '14',\n  '28',\n  '43',\n  '4',\n  '17',\n  '34',\n  '35',\n  '17',\n  '4',\n  '17',\n  '35',\n  '18',\n  '17',\n  '4',\n  '17',\n  '18',\n  '19',\n  '17',\n  '4',\n  '16',\n  '32',\n  '33',\n  '16',\n  '4',\n  '16',\n  '33',\n  '37',\n  '16',\n  '4',\n  '16',\n  '37',\n  '39',\n  '16',\n  '4',\n  '38',\n  '30',\n  '31',\n  '38',\n  '4',\n  '38',\n  '31',\n  '36',\n  '38',\n  '4',\n  '38',\n  '36',\n  '59',\n  '38',\n  '4',\n  '55',\n  '47',\n  '46',\n  '55',\n  '4',\n  '55',\n  '46',\n  '50',\n  '55',\n  '4',\n  '55',\n  '50',\n  '58',\n  '55',\n  '4',\n  '53',\n  '49',\n  '48',\n  '53',\n  '4',\n  '53',\n  '48',\n  '54',\n  '53',\n  '4',\n  '53',\n  '54',\n  '57',\n  '53',\n  '4',\n  '51',\n  '45',\n  '44',\n  '51',\n  '4',\n  '51',\n  '44',\n  '52',\n  '51',\n  '4',\n  '51',\n  '52',\n  '56',\n  '51&quot;',\n  'color pmesh  [102,102,255]',\n  'draw line_2 diameter 1 curve {-2.61803398875 -2.80251707689 -3.0}  {-2.61803398875 2.80251707689 -3.0} ',\n  'color $line_2 translucent 0.5 [0,0,0]',\n  'draw line_3 diameter 1 curve {-2.61803398875 2.80251707689 -3.0}  {2.61803398875 2.80251707689 -3.0} ',\n  'color $line_3 translucent 0.5 [0,0,0]',\n  'draw line_4 diameter 1 curve {2.61803398875 2.80251707689 -3.0}  {2.61803398875 -2.80251707689 -3.0} ',\n  'color $line_4 translucent 0.5 [0,0,0]',\n  'draw line_5 diameter 1 curve {2.61803398875 -2.80251707689 -3.0}  {-2.61803398875 -2.80251707689 -3.0} ',\n  'color $line_5 translucent 0.5 [0,0,0]',\n  'draw line_6 diameter 1 curve {-2.61803398875 -2.80251707689 -3.0}  {-2.61803398875 -2.80251707689 3.0} ',\n  'color $line_6 translucent 0.5 [0,0,0]',\n  'draw line_7 diameter 1 curve {-2.61803398875 -2.80251707689 3.0}  {-2.61803398875 2.80251707689 3.0} ',\n  'color $line_7 translucent 0.5 [0,0,0]',\n  'draw line_8 diameter 1 curve {-2.61803398875 2.80251707689 3.0}  {2.61803398875 2.80251707689 3.0} ',\n  'color $line_8 translucent 0.5 [0,0,0]',\n  'draw line_9 diameter 1 curve {2.61803398875 2.80251707689 3.0}  {2.61803398875 -2.80251707689 3.0} ',\n  'color $line_9 translucent 0.5 [0,0,0]',\n  'draw line_10 diameter 1 curve {2.61803398875 -2.80251707689 3.0}  {-2.61803398875 -2.80251707689 3.0} ',\n  'color $line_10 translucent 0.5 [0,0,0]',\n  'draw line_11 diameter 1 curve {-2.61803398875 -2.80251707689 3.0} ',\n  'color $line_11 translucent 0.5 [0,0,0]',\n  'draw line_12 diameter 1 curve {-2.61803398875 2.80251707689 -3.0}  {-2.61803398875 2.80251707689 3.0} ',\n  'color $line_12 translucent 0.5 [0,0,0]',\n  'draw line_13 diameter 1 curve {2.61803398875 -2.80251707689 -3.0}  {2.61803398875 -2.80251707689 3.0} ',\n  'color $line_13 translucent 0.5 [0,0,0]',\n  'draw line_14 diameter 1 curve {2.61803398875 2.80251707689 -3.0}  {2.61803398875 2.80251707689 3.0} ',\n  'color $line_14 translucent 0.5 [0,0,0]',\n  'select atomno = 1',\n  'color atom  [76,76,76]',\n  'label &quot;-1.7&quot;',\n  'select atomno = 2',\n  'color atom  [76,76,76]',\n  'label &quot;0.0&quot;',\n  'select atomno = 3',\n  'color atom  [76,76,76]',\n  'label &quot;1.7&quot;',\n  'select atomno = 4',\n  'color atom  [76,76,76]',\n  'label &quot;-1.9&quot;',\n  'select atomno = 5',\n  'color atom  [76,76,76]',\n  'label &quot;0.0&quot;',\n  'select atomno = 6',\n  'color atom  [76,76,76]',\n  'label &quot;1.9&quot;',\n  'select atomno = 7',\n  'color atom  [76,76,76]',\n  'label &quot;-2.0&quot;',\n  'select atomno = 8',\n  'color atom  [76,76,76]',\n  'label &quot;0.0&quot;',\n  'select atomno = 9',\n  'color atom  [76,76,76]',\n  'label &quot;2.0&quot;',\n  'isosurface fullylit; pmesh o* fullylit; set antialiasdisplay on;',\n].join('\\n');;\n    var Info = {\n      width: '100%',\n      height: '500',\n      debug: false,\n      disableInitialConsole: true,   // very slow when used with inline mesh\n      color: '#3131ff',\n      addSelectionOptions: false,\n      use: 'HTML5',\n      j2sPath: '/nbextensions/jsmol/j2s',\n      script: script,\n    };\n    var jmolApplet0 = Jmol.getApplet('jmolApplet0', Info);\n  </script>\n</body>\n</html>\n\" \n        width=\"100%\"\n        height=\"500\"\n        style=\"border: 0;\">\n</iframe>\n",
      "text/plain": [
       "Graphics3d Object"
      ]
     },
     "execution_count": 66,
     "metadata": {
     },
     "output_type": "execute_result"
    }
   ],
   "source": [
    "dodecahedron((0,0,0),2).show()"
   ]
  },
  {
   "cell_type": "code",
   "execution_count": 61,
   "metadata": {
    "collapsed": false,
    "deletable": true,
    "editable": true
   },
   "outputs": [
    {
     "data": {
      "text/html": [
       "<img src=\"data:image/gif;base64,R0lGODlhDANIAvYAAAAAAAoKChMTExwcHCMjIysrKzQ0ND09PUNDQ0xMTFRUVFtbW2NjY2pqanFxcXx8fAYG4wIC/wsL/xMT/xsb/yMj/ysr/zQ0/zw8/0ND/0tL/19f8VNT/1tb/2Rk/2xs/3Nz/3x8/4WFhYuLi5KSkpubm6ampqysrLKysry8vISE/4yM/5KS8ZSU/5yc/7+/46Sk/6ys/7Oz/7u7/8TExMzMzNPT09zc3MPD48TE/8vL/9TU/9zc/+Pj4+rq6uTk/+zs//Hx8fT0/////wAAAAAAAAAAAAAAAAAAAAAAAAAAAAAAAAAAAAAAAAAAAAAAAAAAAAAAAAAAAAAAAAAAAAAAAAAAAAAAAAAAAAAAAAAAAAAAAAAAAAAAAAAAAAAAAAAAAAAAAAAAAAAAAAAAAAAAAAAAAAAAAAAAAAAAAAAAAAAAAAAAAAAAAAAAAAAAAAAAAAAAAAAAAAAAAAAAAAAAAAAAAAAAAAAAAAAAAAAAAAAAAAAAAAAAAAAAAAAAACH5BAgUAAAAIf8LTkVUU0NBUEUyLjADAQAAACwAAAAADANIAgAH/oBDgoOEhYaHiImKi4yNjo+QkZKTlJWWl5iZmpucnZ6foKGio6SlpqeoqaqrrK2ur7CxsrO0tba3uLm6u7y9vr/AwcLDxMXGx8jJysvMzc7P0NHS09TV1tfY2drb3N3e3+Dh4uPk5ebn6Onq6+zt7u/w8fLz9PX2qUH3+vv8/f6xQQDk+0ewoMGDCBcFHJiwocOHEN0tjEixosWL1yZi3Mixo8deGj+KHEmypCEaCQYAQEHowYAACG4MCrIgQAAGQgyFNMmzp0+IKR6gWDlIhAAUNhIQyDkkgYEaNAgs0Cnwp9WrWP8RFTRghKAgAU4MsQGghiAUAXwU2pm1rdu3/um23gBgY9ABB0NKCCC0dWZVuIADC+a2lQYAtYIUTB1BgJAAEmv/Dp5MuTIpHqYKHx6keIiIxoMElIjM0LLp06gjCeEwAUgpuXTt4tXLlyWhgAly5zaRurfv3joqSIiR2faQrl/Dji0rKAWAHqR/S59ueUWECz9ICalBdkQN6COOJl0qyGmNGlKplqbOvr1VIRoigGA6yjCA+wAYCHIZIIFMQT7UJABO6rln4IEl6UDBBMQNwxaCEEYIkXUYYEbMgxJmqGE/QMQ3nzEYbijiiPAoOIEMyIRI4ooslkNhdilK1uKMNH7ToXz0HaNijTz2+EwOC6K4zI4+FmkkMSpE/oABjEPKeOSTUP5yYwg5KkNklFhm6QqQJ0JzpZZghjlKkhkw6cyXYqap5iVAZBABldKgueacdDLC5QzUyFnnnnwKkeSS1ejJ56BqtvlmRk4SqiifMyyIJ6LrLSrpmmSaGWiik2aa5Q9uhrCNoJqGuuIME1DwqDagiqpqhiFEUGY3qa4qq3ucRqDCN7HOqutvMpR6KqyY7irsga1qYCk3uCXA27DM0oqBrePk2uy0bvVKQQ7kSEvttj4JAUIEGriWbbDclgvXD8+ucI625rbLkbXYrkuuu/Sa5C244sobab38koRuBCtUWQ67/RZMkLU6sEOwwQzfcy8H+aqzcMMU/sfDwwURtCAwOhNX7PE6MUxQQcLvdPzxyeQ8HHE7JqPssjc8pDtPyy/XjE0MEoxMD8029xyNEB9EwMHGEs3r89HhXJzxPTwj7bQxOOvMtNFPV10N0EITHU/TVnety8UStNAP116XTQsMOZPMD9lmt92KEB5E0IHWO1Pt9t2/8GCBBC7QXfe+eAf+C9oV7GAQ24InzgnccvttD+KKR27JDnu7kBDkkmcOCeGGX2635qCPwvjcDiW7bOion0I53xBhnnrqLkhgQecPuf665kJ0EIEHjv9j++2Rrw6DRb8DL3jss19UvPFu575774d/zvz0h+wg3PAbLU991UK4cJ2F/tlLv/30zvPukfbj+2z9cCKhn37NLXw/kvvvn7xaBB9A37r49WseHPsloV//Gha/C4CPJAIcYL/ul7+eJFCB9PpfgxzIPwi6rYAH5MkDLbgtIHAAR1fZIAebZaIJWkWEIxSWdQzYFhSmUFY3AsFbXPhCUXFJSG6hYQ0z9SLA6HCHioqh/gJYQSB+7IaD+aER6SSEHiaxiEs02JSGSMHdRPFoSKyMEq8Ipj8dSzBb5GKUDOWp04RRjEfKohmhiEZqebE3Z2xjjWpVRjiyUY67atQEfpWaOOKRRH5y1RfXCLg/couM7PGjITNEKlO1R5GLhFCrXvXIO0YyiG66lYEg/nlJ9pBqjwjiZCd/I4RJrqyShRxlqGqlSQiJUpWnaSQfD/RKWFKmlK46JS0tactNyWxDtewlYOA1omAKsy33CldvHkCAABBABC15SUwKdExF/UtdvTEKCnqAFsgMITxIUUqVjFnNn/SqAvHqTQL0MwQhdGYIAvDKEMAiltvwspwzSqYuTSOCAcjEBgLgzVzqIoi7RAefc4oZwNjzAAAEAADQHEINNpOYqdgzlQiFEsLYY4IBnMAGJgioRCk6hHf6BaMZLZI+2zOA0QhCBAUYwlzMUlC82FM3Vkzpk36AMbG5RzRFAc1jklPPk+o0S1FTW3sWMAAU3AAFAniAIMA5/p5x3vOoBsIaxBAkBAc0kwAPoA9/pnlQrBZJaT49EjnN6pCkRmmtbD2IVqlYzKvGNTVo1RJc7+oPwin1rXbl6y2DRjow7VWw9tBb2NJ0WMTOA20W+KteA+tYt4yOrjVqbGXbodi+zUmzm1UHZGm3JtCG1hyX3ZNpTzuO1VmOT6tlLTg4R6jYypYb5cPsk2x722y4VlK87a01kEfa2lJWuBbJbaaCi1xoCC9UzG0uM7onu+IC97jSTYhyRRXd7B5DB3vDnqq6611itEB2GYQudsvbj/uZb1amY2+ChGNCWZFXvrzA4LDui19cMFC3ql1vf+MhwWnxd8Cz0K+BBYzg/nV4EH8ANi5KG0yQ4DCoXAem8CpWmN5mZVjDp3jwh8z1YRCTosDuKrGJQ+HEFDN4xdwQIr9UDONNmAiH9aJxjTHR4hm/eMfUkLHBdAxkSahxyD8usjMCCSiKEVnJjJiix54M5UQc2clJrrIxAknJj1FZy4MgY4QXPGEwa0OPs5xyls3sCy4PsmJfhrKhVDBmbsW5yLI82p13PMk3n2zPK2bl0+LL5jOXKp1IAzSFcdllpykawf9qZdUe3d9GInrSay70Kxi9z0RnWtOsiLTbKO1dYo7606A+xUrvRmrkXlNwre6tqQMXa9auGtaoTjUoFIpNxdV6s+e8NK7LrGv//n5LmZn7tWB5ulDQKfuuIaOAZCP3bLNiTQN19jSxix2LvL6u2jp16+3AjdC5Go/c5QRbWoGH7mOKm3nttiXjhra9eKtSaa+td665vQi/vs/ekUztvwGQU367QrHrTh/A/0jbAS68jQJ3+L4NPoTfWvDhXBztCDG+xIhffOK6tngKOb5D4u6Q5Cl0XmFriHIOrk+8Jwe5mU2+xJYPcLs1lzmUXy5Gm79PwVz0+fac10A0Cn16/4N5z3UOY++xEI9Hv92Diw51pmsYxYaMOurO+/RFal1zU8925gIkgAAUgKZDeEDZyXpRilPCwvWFYBAIwIDvpOA/VBVnWd3+iPhV/qiGDjjAIZAzT+W0ne+OuBHVU1gAByhAAAZw6UBls3fEJ6KERrTJA2xQggDwxjCIKakCKm95Q/S4hgEQvCAcYIAhgJ4zFjVq6Q8hZCMOgJ15GcAQehCbmkYGp8qa/RBuzMUFqH4IDVA94elJ+tKv0M8prEEARHADE3h+quJRAHkOL/zacxEFBTC7S/cjzf9wv/RXLufXu/ZGna7/aVI+6vuRlv6Mzt9n7Tfr/Wsm5rvu32VoJlj/dzL5539Wd1eI5FgDSDF5VlkLyDB9FloP2C90xFoTWC8BaIEHmFKmdFsXaC6i1lsfyC0NKIIbeEyc1lwj2CwhqIInaEuz5oLb/lZeKehdK6grr8ZeNygrMWiDL7hIuIRs8rWDq/RL/UVoCNaDQ/iDEHdsneaDM8havAZiRKgo0TZtR8iEUaQyK1aFe+JtXaiFQHSFO+aFa6JVT4hgZpgmzJZwMLaGYfJuQAaHWWJuUEaHUaI3EZBvdyiGChQ11lVkeGgkdghmg+gjesiHhuiH6dNwhXaINOJxbAaJLUI5e1hslLgiGoeJjAg8kghqmbghlqiIuhaKGUJzBmeKEIJzqdiJoPNciKeKBoKKfCeL7MGKteiKisNzwoeEKIg8HZaLUShHuFh6ttgbvCh8sndMQKeMX6GLZkN0YreIwxhFWOeM5zdKzYiN/svYSWHHjYdwjINxjeCYjYa0jeXYjX/0jekYjtDoMzlQARfWjoggjm7hd8FIj/P0ji8jYtPYitU4QPWnj+YYRRSSjwT5jAGZPt6XkO64kNszkA5ZkDV0ehP5kFHUkBeJkUYkkRtJkRDEZND3kQq5Q/FHkgrBj/VyJyjpCPbYEQXYkorwkhiRgDLZCL5YPxl4kzipktwSgTzpkj45Laz0jwRJkxCxk0EplBAZOIw2kkvZfMYjaFEZCUiJECVYlY9wlQVRg1oJCVz5D1T5lVY5lKqihGTZk01pNUGYhmlZj2aZKZFmlDcZlveAlm/JlKlza3kpCXY5DznYl5Twl/GA/peCqZeZw5eH6ZdxWSfM1muLOZiNOSfRJmyRWZZraT/fslWXaQmEmQ5KA5mdWRQAYFNC0ABlpwChp45tEzJSM5qEgB4GYFMMMAApUAMHcHys6TVoCJuFIAQEkAIGBRa2QRZoV5JuA4a+OQgLgBcIgBfOwRAD4E27WTVyuJxDYAIxNQQGZX2EYABSBZJHU4jYuXsCQFDdGQDfGZ7VeTTKWZ5DMBQP9VAOFZ2DQADy5BfAdzo+42/wSQhCYAMCagMGwAA2QJyCYJxSaTPk+Z+GYFBDUJu3mZvU5DT45qCLAKHIl5qriZxI44gYigmfmQ2fGKKVMKLXMIomygkoWg2b/riimtCi0lCiMHqik7kiIlejMXqjI/KiOrqjmbkrKkeXOiqjzJCjP7oJRqoMtJikSsqjq6g77+WknbCkxpCMVFqlUDqL1xGIWZoJVioMxfilQFow4CUBSkemLLql0+E9FoCQanoJYdoL7kWkceqh5rI+cXenaxqkg4KOfNqn5vJfgSoKc3oL5FionnCotQCoiiqo0+KPjzoKjBoLiTqpi0pwwadCSgKnmAqmbBoYkvqplBqqcHGppJqpfpolz5eqpVCpqaCRrvoJsHoKHjmrkBoqTaQkUImroLqqRXKSvlqqwNojtzqsuSopMYmshmqqJiGszEqsksKS0XoKtbo4/pVSrahwrZrQf9pqrc7qEY3iSN+6reHKEctartJKJzapruBarIzkKO6qCtwqCVzmlvOqqoWSSXaarzN5rknpK/66CvXaCE85sAQLsAnRggiLDwp7EJbWsKxQsIjglRLrsPAqHWN5sfSqqfzZI4bJsaRAsYOgmCJrrhmLGoF5sgmbsqYRsiw7sg9rDyYbsyjLIytrsy1bI65pmTp7sy3ChT/rCrAamkMLC5Xqmlh4tEArIr3JtK8wp+oGtQAxsyAjAdJGtVXrslfRoFo7sVZ7Du/5ta0go9dJtmUbtuPgtWgLtlxrEmPbtmn7tiRxtnI7t+4xb/16t4xJtx7RWXxL/gthCaKBi7Rqqw00WrhuKx1IqriG67cWETuF47i1YI+MM6WUKwvi2LiZa7gFRxlN2rlbaxpDKrq2oIqwaLqVe7jP4KZeqrpRy7rTJaV7C7s2CrkFgaW2K7iymwxu6qm7u7hwIY3Biwt4mHTFmwt0yHXAm7zCixXs6Ly3YIaoKr2a27vA4KjWe724Ow+Eur3Ki728UL3gy70+gY/luwsjGL3pa7zii6hB0r68cIEHKb/z+76zIKv2u7rdmw7Et7+nIAIGEAAC4B8l6wAcWqEc0aoAfArKIqApwRQNYJu4qZt4ehH628Ck4AMAQAOFV08KKp4OcawaHAqTZ5+CgJ8L/toQu9pkJbwKCaB63jkI4LnCCJHBLzwKDUAAiDHDglDDImwQSpnDqOAA/jQIKHwc+fmM++kQ6UrEpDDB5ld4tjFTNvwP7QrFp9AAAUADPvDFgzDBE2rB+9i/3PBJaabFpIAf+OFSXZXAV8wP2arGv9By3krHvoByQ4zH92vG1jDHfFzH+OsJFRjIwfBwWWnIeTzIm9CBinzIjIwJDPvIguzHzhCxlCwM6HawmazJkTwJOdvJlXyXhybKF/LJkOCEpnzKlmwMobzKoywPMAvLuhBrNUvLi9zKwXBNtYvLzarLvzDLvlzLqGwItzzMucwOj4nMOlLMg0CGzAwizpxM/r0czetqDnFrzZD8ueGgtNocI8BMC0/7zdIczrKQzeQMyeYMC3abzp68zm9DWPjqzn0MDuhMz+r8DYSLz8VwYGzLzw7CuokI0E0Cz6awzwTdz2GbuAn9ztgw0A1d0NeA0BGt0Ab9CQxd0Q49DZaYphrdzBfNCaH70SD9M3GDuSSdDKDFuSld0s4w0i3t0sswpjEt08lwph5d0+CsDNT1pjr9DOT0vT/dDMaku0Mt0cagvUdt08Eg1EtN1D5Jvk/dzNycX/Iz1V7yjuyL1VAd0ogg1VzN1Lqg1GG907xwPyNW1lnt1YMAd2o9DUrEYW8N11o4qnMdDTSkIBKAY3e9/ta3YJF9fSYniMOBbSUbSMKFbdaw0MK9mthivQrQ6th+/QqILdmKzQpPbNmC7cd3rNl0bcbU6tmX0r+ZLdqbHaudUs2mbb6nsMerHSdZ5mavjQ2Ik8WznSc/hsa3nQ1kA5S7DSmhsLG/bQ08k8jDfSlVbQkWe9zETVnCzdzN7aeYDN28fVXLTd3RnQmTjN3AfQnCzN1AfUfHDN6fXQmvTN7ZPQnfjd7hHYXjzd7lDQnnDd/p7QjQTN/I8jlCi9/5PWHLzN/ecCXeDOABPi/jTOD9nQj3jOD1XQjtzOC0nSj/DOERvh4LTuEN/uD+8LEUweER4eEPAeIhDgwaceAI/pEAG4HiGKHiFsHiLU7iVXGhEOHiFUHjFGHjM57iMB4E/skJIp4JPw7ko4DjPi4KQY4JR34JRK4JSW4JTV4JT04JSy7kRj4KUS4JU07loXDlksDlkJDlq7sBjfMJYG4JZW7mQ57moXDmlcDmUi4Kbj4JcY7lag4Kcx4Jd/7lcF7nds7nnpDntBoEgj7ohC7oLwAAEMAChb7ojN7ojJ4Ajh7pkk7okD7plu7olX7pmk7pm97pgp7pnm7poB7qkz7qpB7ppn7qj67qos7qpe7qkp7qsP7ps47ptd7osj7rua7rt77qvV7ou+7qwU7opcrGxn7syJ7syr7szN7szv7s/tAe7dI+7dRe7dZ+7die7dq+7dze7d7+7eAe7uI+7uRe7uZ+7snuspaOA8/x6+7+7vAe7/I+7/Re7/Z+7/ie7/q+7/ze7/4u76OL4RzjzBhOsjls8C+M8CVscwJMwApgfqcJxwghAqX5FagZAKp5EGRndmjHHwcwxf/ATM4UUfuxdiB/DyihEsaRduU3CAFCwATCu2y9DA+cFAMgwRRsAGT8D+jReO00wTRQAzpvED5we3b3H9o0HgahTT1wAgHgUkmvd/yAAkLRF1G/feYRFQug2ogJERzswQgqU8xxOMH5nFQsCFZMEA+w88t3fQSxTrDHFfLEfFphHG0vFiHs/hwdGrsz7wwnLBkqbBAMgBcGlcSE9w+N93iRh/a9x5029Q/9JBM1MAC8wXsE5fgEARuXb/a0MQgAUFQBP+MyrJ40zJ7/oJ05YfY+PARA/A+ax3nX93oVZRAN9VARJfslFXv9sBUTFXoKMHqM4Rjjp7kUMcE9TPo/bPr90AMCQFPpuZ4FkXqDwHquR1ImteEeBVIihfu/n/m2QQNpEfefIfwSYsTQ0RyAv8T9IJ8OdR8BkMSB/w+3NwgloHuT53sEMZ1BtXtjj/l1z/iAUDM0eOAwVCIwOCQUgKL4CBkpOUlZaXmJmam5ydnpOdgwcPMYBOA4dAMg+Mna6vq6KWQz/mtjwGATFHAymLoK+wsc7LlwoOhQPCRAMpi7K/wMHf0oUKI4QjAoMMKsK+39/WqqOLA9lGsyZKM6mALgAw4fLx/PIEDjgy8ESpBSY4A8L6DASQgMDWnAzx/AgQzj1Qgg4oaJAOiGjBCAwkYCAvoaevzGYACKHicEPBh0MePGjh9b/hJSQ92IGj0sYtSIbVACAzVoEFjgMqhQeQCKGq0YxIGAAAreDX0KrNCig0ubQr36CUWBAAWqKXowIACCUVjLZkpKIACBk1/DjjULV1I7owAYDAIrlqy5BQEEMGAZN7DgwYQLGz6MOLHixYwbO34MObLkyZQrW76MObPmzZw7S3v+DDq06NGkS5s+jTq16tWsW7t+DTu27Nm0a9u+jTu37t28e/v+DTy48OHEixs/jjy58uXMmzt/Dj269OnUq1u/jj279u3cuzsPBAAh+QQIFAAAACwAAAAALgFIAoYAAAAKCgoTExMcHBwjIyMqKio0NDQ8PDxDQ0NLS0tUVFRaWlpjY2NqampycnJ8fHwDA/EAAP8LC/8UFP8cHP8hIeMjI/8qKv8zM/88PP9ERP9LS/9TU/9cXP9gYPFmZv9sbP9/f/Fycv97e/+EhISMjIySkpKbm5umpqasrKyysrK7u7uEhP+Njf+UlP+bm/+kpP+srP+zs/+6uv/Dw8PMzMzT09Pc3NzDw//MzP/T0/HY2PHV1f/b2//j4+Pq6urh4f/s7P/x8fH09P////8AAAAAAAAAAAAAAAAAAAAAAAAAAAAAAAAAAAAAAAAAAAAAAAAAAAAAAAAAAAAAAAAAAAAAAAAAAAAAAAAAAAAAAAAAAAAAAAAAAAAAAAAAAAAAAAAAAAAAAAAAAAAAAAAAAAAAAAAAAAAAAAAAAAAAAAAAAAAAAAAAAAAAAAAAAAAAAAAAAAAAAAAAAAAAAAAAAAAAAAAAAAAAAAAAAAAAAAAAAAAAAAAAAAAAAAAAAAAH/oBEgoOEhYaHiImKi4yNjo+QkZKTlJWWl5iZmpucnZ6foKGio6SlpqeoqaqrrK2ur7CxsrO0tba3uLm6u7y9vr/AwcLDxMXGx8jJu0LKzc7NQgDMz9TVwNHT1trbttjc3+Cv3uHk5aXj5unqm+jr7u+R7fDz9Ify9fj09/n86/v9AMn9C0hw20BeOQoqhHRw14uFEBk11NUiYcSLhibmmiECo8dBGnH1mPDxY0hcEmKUxHjyFgYOKy+2tNUhQpCYEGfWYhGhBc6FOmnFiIDhp8Kgs3pEiMDDKMFoCRKgKLa0o1OASGddiEDhKlZpxzgsVek1X1ZZI5bCLIvvbCwY/kttsq3nFlaOuC7m6gNrbEjconrh1YVFIW7TwO4Gv9IQ1ypidYpdiYhL8jFkvsZexI0gw3K6yK1wbF7rWSDmYkE2yy0dDnSrCZvzsgbnmlWGzYBnc6u9CoTqw7q18VbVQrXj4NWGp5qhuitya8pRAVEdgezzZ9FRSVDd4Tq17KcwUL/pHdppYzVVPyyvDLwpnqpzsz/mvtRQ6sDnF4MqFRkP6hEcp98w9ZUCoHMDElMgKVtR11mCBJ5njFjUdQehMAuOkhaA5F34S4aiwAXgeh76AmIo/wEoX4nLSFiMXwAyxWIvJ4ZSGIAjzMhLjaBsECOCOuLC4yeTxThDkLkM/umJCzFGQBqStSjZiWgxStAhlLNIyUlqTZKIpSxacgJbjCt+KY6LxtzWZA9mgolmMR80GUGObcIS5ibFNQlknY6QYEAAAihwAyENCBCAAj4M4kMCgDpgz5vEMCfng3w6IpUNNiQwwDQNDEBDDQccMEgBCNiwggAPZATpMNPJaWGlkfwAAA1ECBFACoLcAEANRKgAwA+CnBCAqtk0s52cQ8Aaia42ELECZgSUQISfiu5ayJ2biCenl8oykoCoRKAw7CAGONoAAiABsMK1qw6TXpNldotIAwQkGu64ghiQ6rnprksItprAJyeb8irSqb3OYjaACUQ8YMAgzLIb1cRT/iFzn5x0FnxIp4OCdGuu1j4LLBHCEktNinLuqbEghdLwww8I0/tpqKMmUMOpqbJbbDNyxnXkyoQAIPTQFQtR6KEjE7Foo4/urEyDrgItCsCaUNhzslJ/QnUmG/bMbdaabI2JiD1nALYnYl9yV89LEXx22O0OAyPbGb+NSdqX3NizynZTgrclPrIdwc99W/J3JUWy/Wrhfsc9DJOCS4A145McTgmVgn9NuSOWT8Kl4GZvLknnk4wpuNuic+74MGoKXnfqEq0uTJyCcwX7I6RLkmfthN+uSO6RSFr7B77H7nQzrdYuefG/yy7MsbVrzrwgwEeibe2hT2+yNu/Wjrr2/tQDEFXF1Ahc++vgVw/JxbVbAL7O2yhVe1w4vJ/u8c7MH9fi6TsvDNTKm1z/8NcMq81Per5THyS6Nr/sDZAbZNMfEOynwEesTX9zoqD/gjE3/bnvfRV8hAUwuJTeMS+EjmAMCYn3QG4kTn/L0x4KG6EZEkYABi3cBuYwqIEcauNzJPze7WbYCNNhkAUy3KAwWofBD55QicGgnQ3r90QCOmN3K5weERkhAxsuJYYJhCIwkmdDHBZvi4yAHgl7eEbx9Ycb17PhBMNoRWd0j4RIpGM4zEdCJ8IOjYtg3xT1CA75eTECLPyjGINxyC8KcHOAXAQAyzjERQLDgDZkY+oi/qkIBnpxjqLjZCIi6MU8htKSv7jgIf1IOVEiooOHpCIkUfkLvR0yka2kpS9U2EgJbFKXvXjhIc2Yyzo+o4aNjIAmGedKROywkaAsXDMPAcRGmlKawOyFEQ95gVka8xlMbKQs+zbNQ0gxmbi0WzkNgcVeFtMcwkvmDZmZTV6QMZnLfBt/yAcONSYzmmdbpyHimMxrBrSevLhjI7tJToTugo/JHCfYBFoIQSYTBA395jNQJs8IgHGiDt1FRzdDTJBq9BmTTOYG1BlSXWBSngAFGkUL4Ul5GlSmLc0FKeXJUJOqQ5UjtUjWZkoIWHY0nSsjKiFs2dEJPFJjSh1E4Ea6/pSSJjWnuRBmR1c6VKziAplUjUBM5RVVQTxzpDclq1dvUc2R9vSqJ6XGNoMqtbIKIpwjxShO4/qMc1K1MnB1RzupatVu2ZUI8QwrV6HqRn6S455hHWulDksEf1I1rZNdKy4IStW3Glazt1AoVSUKK8pClKp6VStfn2HRvzJ2tc4wZFjjYh1lUZYIs1XNk0oL2lukNLKqhcdLw4pZM922pmH1LJ9uu9PZCjWzsHUGUHMroDrd1qizBSx058HU3BbWuL29xVRzu5TFLje8ttBqbq/UptsSAazk7YluaKApAKhgEAsYmvhAsoAABKABTnPvWXOr3Meo4AG+uq8gGJCA/pf9IBsIMEANaECABWzvHW0lb35YY1/8KsAQuuJVrwKAsPBF9xlzpS5yOrxgQBUAwMESQNBw9S/02gKvudUuh2lMhBSowAYqKMDDplUAQgjgBPCbh1/jW9vSsLgQuloXCQhgZCTX+MRXjK9ugxMABRviyOGS8SA+VuOJjW8didWyZAPzZEL4AAC4soG1EpY0E9MDsvH1iWeEUIMaAKAENvCBEBxAAx+swABFFkQCJExhCyd5HpYlb4HnQgP9AoABQkiAoQbQgKQJob8CwPSF4cHZ+D4XSu4VhGjJW90gpZoIpyWvjpH06tYyGbxYdgZHtawWXOOD1+P50quJ8Ns8/gvbxrcYbnzjxaJhI1fLG57RsJur5VaXaNjT5fWsm41sW2CX103mdq6f0V1e71bc+RgvsJfC3mt3O73rVo2edTTs98YbN7R+dy0GDOxoX6jeGQa2tRNUbyKkmNd8g1DBcQzscCu8sfhY8rrP/fBxP2Ow8W43wfVdiy7eezPz9lDB8bxuZuun4JX9+GZOvXGLP6PU6x44e1C+amAnfD4oj/W6TTgglNt64u52eWxVrhqNz5zjtiB6bESO9FoUu+RMF7ozlB1vf5cH5UR4drxl/hysUzveN78O1rP9cYd7B+vfvjfFz970WpT7409lu9SdoW6iIxA5WCeCej9ucry3/p0W8FW61f0+92bw++Ncn03eA/7xsOsm7wZXump43nWI94PhH+ef2P9OC4kT3eiP5/wsME502Vxd9LJIs9L7zhrIk5zoQgwO5FMu+c0k3jKzh7nKHb9n1Mui5iqnVOUL7wydq1zzoSd+M35O9Li33vexkG3tl3J33EM/FtOPj9wV8nTYb175Bcy+7b+vEK0TnfeBmT0Rvq50yvce/Mogu+SR/36FpF3yzn+M+onwdslXXy/7V3fTx3oAeH2xsHe1F3v6Z4CwEHjZhz7WB3/KcHiSh35lsX+MV3vul36WRxAHV3v0x4ESqAyYV3v5Nxf7RwSeN33/5xUpSHrT50AR/ggRqid+CoiCDAgLrzd9EFiAI6gMkZZ9rIQYKUgEujd9G3iBOQgLwAeCpVGExjd9J3gVRch8LFh/ECF94hcX+eSDF7GFMXKDVLiEsNB9PDiDEUF12WeBMVGEWQeGAJKERuGG7Jd9IegUbih/4vdRbOGG9yd+LbgSbsh/cEgdMqiEP9gMAgiHYogTg4iAW9iDc0iGDViI1DGEY3hmEEGBW0haeEiJr5CBW3iHbQiKr/CBW8iHn5iIzVCCWxiILGGKrrCCYNiFk8iKygCDjNiHstgKNViIxSWIvcgKOwiGmOiIw8gKQViIcugRgygIRwiGpOiMybgKTZiKUxiLuKgM/lEIht8ljNuYDFZYiy5YjaqghZYYF40oE+aoCukYI8GojSVhhsY4huGYDGpYiJ5oEu2YCuZXiEgVDvQ1AG32AAMQAAjQMbXSX/8VYP2ICnUIh6oIDipAAinwZCUgAD+WAAQwDYs2YRU2ahehh5b4jeHwZAIgLbXyMXImYipAYo+GEX9YiLZIDiwWMYJwAI5yAmImCHAWkxjRf+m4jtrAYpWWNApgYSSQaIIAZle2Eov4jvG4DT9JBDQAk4KQlNNCZYPglPezEpBoiZMGDjcJAM0iCAjQAGEWNF4WPmb2RhBBi+m4j99QlUSQktQTAFPRkoKwAlj5lR+Bju8YFwFp/hA24GcmEGhEkJEbyZVE8JGNJpIR4RuDWSXZ6AyVpl8MIAgGiZAK+WmAImpAmYWVKScmCRQPaQqUWZoAUpM5kZqkUIyluWZHAZujsJqsCSBTGRCDKJulOZa1eY/FgJu5CSB0WRBu6JusWZjBeRFyWZwT2ZwQoZy5eZq8aZufQJzFGSOu+RTY2QnUWZy0+RXCGUXbWTu7aRbfuQnhWZzASZ4L8ZznST/yWBDtuZ3MCZ8FoZ3z2STRqZ8BcZ/naZ3qWZ69wJ/92STmJZ0AIaDzOZ5tsZ6XIJ8JuhnpOQ9556Dz+Z4Rqon5QKEVuhnHGaEGmgsa2p/5SaIAgaAhKidO/oWaJXoLJ5qgBIqhEjoJLNqicrKgAFoPM1qhECoYNxoJIKqjqnGh/jCkj/CjFcqhQhqjtJCjRtozLFeg+MCkIZqiTxpxU3pIL3qdUBoLQLCMXco2NZqkYQoLRVqmqsGjKjoPWGqkQXoZaTqLbGpNYAqnd7pQeQoPUrqnVNqj6hCnXZpaVvoOawqoqvGlh7oOhFqmZvcOlJWoitqm/XBYY1qp/8QPh0WpmgpynKqkhiCYnzo/TloO+5QOf1qqgfqm5vCogGqoNlqnp+CprBoXvuSqj3Wr8nSmtCGqg2CrvNprdAGsRJCpwwpNxUqrpCCsySpfe8GsogCrn3qq30BU/s76rBFQpZ8hqtRaqrd3raKardqaq1sKDt/Kqr4qHEq6qtoqOGuHqkOarrcKeq0xpOT6rksRcnT6DfR6q9YKHTear/q6FNx6r9LKCf/Kq7JqDuXkrgVbO9tmGgmrCQs7rJEqrhWbCRAbsbUTrxqrDRebrPZqEN9JsB4bF/xqGh6KPClLYGhqDSj7sksxeCa7sZUwstoarthhmx1LsxLbr89AqkDbSBkrsDiLo0WbWyCLtM+gswVbst+RmjO7tPvqsA8JtQVLgD2btJDws1Y7PwebHP2otRHLs8mARmAbtkFLscpAtGybTEfrDFu0tnELr26LDGb7slLbHuZot3cr/jgr67THsLcvy7VpW42AG7iCY7Pm4bWKYLg0i7b7kYxVy7ibMbFdawySC7RziwwhtLiYi7e70YudW7SXaQwVdLmjK2+l27K+cLpFi7iVC7mGwLqt+xs3yyq5u3W7Kwyi27uCo7mJa7uDALfCO1LCt7nBELzJyzZNq7qUKLtx27cRYrwq+LzxZnrMG7vaG2+0Gwy547zfyzaOqyBLSL2BS7kmsoS4W76bwYbXkIPqy7jLW7y+QL7wC71T67X1y7hW0r268L77qxrci7+78L+YG740YoD6W8CNewskoF+OeTQKUGeAaaIQrHLsWwoO42Aj0ymfYgDgMpq1QMAbHL8S/jxkHkNjISaZtKDAuduMqvAAATAAFZYoz5INA6CST5kLD5zC/FsLKpACpnIAmyIuhKAvMCwLPUCmQjxbASwkR6bE5JIzP3wLQRzFPXPAtaAvOzwIC6Mqb+lYroC8XBxWDIwKQnBktuLCc5bFtbDFaTwwtOAAK+ADNIAAAgAsIgwqJSzHSVHHHEwLC3CQA7AACmnBJZbBnUfIjYfAtIDGkExVNNwizErHlRwj0bsjfyfD5fuf7UurKLzJmwGLQtJ2oAy/axwlbafJptwk56sLd7LK+9vBWdJ0sBzLPyK9YUrJvBxWl3wLYbLLwQwg05gkHGfLECzKtMxxxnzMI4K+/jHKzBvcyrEgJdEszQBClN3wbtacwpL4zCVaytxMHfKbywYazkI8zOrsCtt8zsiMIcjGzkI8xR+CbOYsz9M8v7BbCvYcxYeIyaywz/zczfN7jwHNxeP8zfcYzwfdy/kcjgsdxRMgAqmbzeEF0RE9Gp/ryttY0QV8AS0wpw6dCgbNzxIAAmPbwLgo0tqrATCQ0eSMCil9zBbAAibt0qcA060rAR0wotR8ChwdyxjwAjQtvmvl03dLASMwy/SxVkVNyBxwv+z6g0y9tBjgAtb7uKVw0yl80S191bHZ0TbEATMtqVg11ft7ATodraOQ1e8qAR8g1PIqgWD9vBmQ1qEK/n/IatboPALeLLSgkNejC9TuHLOgINefutVdLaT/nAmGHbcXDdW6qrCAzQEffakOxdZhS9KPzdnEx9hTOgEfMNavSXyTnbIyndTIWU+kXaE5vdMRURurXa4dkNj1yZ5QfM1IjYabcNu3SgEiMNg/ARrA/LwSUNWyB0yefasY0AKhbY/sadEigNpEqEvCfacbsK7Z7XKxvYVuTdsL6HLbraN0bdfNbXF/nbx77drPZ3Hn3Z8WINiuZknhnXm6TX4TmrtbDd/bZwn5rWWVfV65Nt+Dqdm2JUYDnlwsMN1RZwnPXZorjd2oBkUNjk98fVWRzQgIPn2zfVDRleEYBNTq/s1b0fXhKnfUAN5eG0TibOPUll0wQTHhtcfcirRaMK4i0t1Gq2Xj9zYBLJ1EfLXj5eXdLMVXKu5Wb20/tSI7GZ7eTi7Ii7Dkh9TaU27CiBDeTm3cPv4IQN5RuZ3lzaNRyT2YRw3hWuQ4YW5DBU7mjaARMK3gcI47cWPlAOLWap7lE2HPEnDddd44xtTmcoLlgS7oi8DMIX7ohrMqhL4ZiM3omXAQZw6+vy3pkw4phN7lmM4JA6G+dN7pnt6BhGDjji3qWoMmkivWqB4K/8DWaN3irR7nLqK14z3rpLAP5izluH4OEnKxGnDpve7rTrPLnD7sbHwe6TrmyK4K8lC1/ize7KzQDoT65tI+7aeRr6F+7a2ADj+q59yu0dkAuBUe7u98rF4k0+YO0oKwpou+7rTgDdRp4vCeyswgnxkg7PXu0O2NzsXtCWacCgF/CgNP8K5Q8A69gjj+CQnwCg3fCg8P8a4Q8Z6sAyrC1aNA8aug8anA8R0/8fnsAZkL6IKA8OGyCAjv8YRg8iy/CCo/CC2fCCb/8iWP8javCDR/8jJ/84mQ8/EOABBw5IaQ80SP8y5/9Eaf9D2P9IhQ9Erf9EwP9U8/9FF/CD4vDkKQ9W9WASGwA1n/9V+fAGA/9lkv9mQP9mZ/9pmm9mHP9mXv9mvv9mmv9nN/9nU/9neP/vdwn/dov/d+L/eAH/hsX/eubGmGf/iIn/iKv/iM3/iO//iQH/mSP/mUX/mWr1+0CvZvJmhw3/me//mgH/qiP/qkX/qmf/qoT/o1ve+SzPq+7Pqga6yt/ow5bgp+AigJ8JkWjMGfMMGOUiu7Hwo+sACGImGD0JkJKQoPQAABQAAkQAjIr5CaMJB22TCGkvzUA2qi6SaJiAAocAOZ0pEs4ymAPAo1QAAGoJZE8Mc0ozWcVgM3sAIdQwIaGf7KR/8q4AMpEAAMs5gaWQOAkDBARFhoeIiYSKRCogKgUlgSoGKTQFCIYFBTQ7Cg+AkaKkooBCA0ipr6A0BDJBSQQmgD/lCTaktKsILg4AorS3uL6oCQOFBC6hs8mtBQqOBJJHDcG6sc+lg4YIIcO1u7GOBjPQ5aekqufANgQ7Rimr2N/rnAe8Drfk5EMC1/WOCgQICBE4TUsSO0q18iEgRuEKkxAAURg4XsKTyEbeK6irxOCDCU7CI5cyJRJThACEUAQxZLpjSAkJdKQwYeuCQSIMADGycCEKQR4IczBTcJOQCQkwShGgDEEXp2MyNQp0QUECVRwJAAgkWV5euKqAEBpzML1bzpQ8BBi2UJnXUZACWhBihpABD6FJpLFANS2EAhQKJdvFX1ipR615knrFq5gn2MrsEAqvjg3UyBNDPSyoSM/t0cwKDQiUEUETb77JghER8bTUeFtLo1EYseDQGoBjl3MMkOC72qpu5bSSE2btiwYWCBjd8FgblcIJeIA7mee0m8uTXSJSLVX10veTvbNO9EvBFaEU63+lQNBNDw4ePHObErahyIDjYhEcn17xetEQAJN6h0XQkCUGJJVwsMoMINKQhgExEGIrjdRULUMEsJNohDwoE2KFBhAprQ0Ml6JooCQIqZXSdEewEoQFh+vMwlwIsxlqSCAQEQ4BgRDwwQAAK93SSEAwTsGCEhPwY5pEJ2qQhAaD4CKaRvCwQgAANfnchll15+CWaYYo5JZplmnolmmmquyWabbr4JZ5xyK85JZ5123olnnnruyWeffv4JaKCCDkpooYYeimiiii7KaKOOPgpppJKaGAgAOw==\"/>"
      ],
      "text/plain": [
       "Animation with 2 frames"
      ]
     },
     "execution_count": 61,
     "metadata": {
     },
     "output_type": "execute_result"
    }
   ],
   "source": [
    "g1=line([(0,0),(100,100)])\n",
    "g2=polygon([(0,0),(50,100),(30,225),(100,38)])\n",
    "#show(g1+g2)\n",
    "animate([g1,g2]).show(delay=20)"
   ]
  },
  {
   "cell_type": "code",
   "execution_count": 55,
   "metadata": {
    "collapsed": false,
    "deletable": true,
    "editable": true
   },
   "outputs": [
    {
     "data": {
      "text/plain": [
       "0.5772156649015328606065120900824024310421593359399235988057672348848677267776646709369470632917467495"
      ]
     },
     "execution_count": 55,
     "metadata": {
     },
     "output_type": "execute_result"
    }
   ],
   "source": [
    "_"
   ]
  },
  {
   "cell_type": "code",
   "execution_count": 1,
   "metadata": {
    "collapsed": false,
    "deletable": true,
    "editable": true
   },
   "outputs": [
    {
     "data": {
      "application/vnd.jupyter.widget-view+json": {
       "model_id": "f22cb5c3fea54baa8cf8fcc9b2bbb705",
       "version_major": 2,
       "version_minor": 0
      },
      "text/plain": [
       "SW50ZXJhY3RpdmUgZnVuY3Rpb24gPGZ1bmN0aW9uIGYgYXQgMHg3ZjFjOTA4YWQyMzA+IHdpdGggMyB3aWRnZXRzCiAgbjogRHJvcGRvd24oZGVzY3JpcHRpb249dSduJywgb3B0aW9ucz0oMCzigKY=\n"
      ]
     },
     "execution_count": 1,
     "metadata": {
     },
     "output_type": "execute_result"
    }
   ],
   "source": [
    "@interact\n",
    "def f(n=[0..4], s=(1..5), c=Color(\"red\")):\n",
    "  var(\"x\");show(plot(sin(n+x^s),-pi,pi,color=c))"
   ]
  },
  {
   "cell_type": "code",
   "execution_count": 49,
   "metadata": {
    "collapsed": false,
    "deletable": true,
    "editable": true
   },
   "outputs": [
    {
     "data": {
      "text/plain": [
       "1/4*sqrt(5) + 1/4"
      ]
     },
     "execution_count": 49,
     "metadata": {
     },
     "output_type": "execute_result"
    }
   ],
   "source": [
    "tanh(1.2)\n",
    "sin(pi/5)\n",
    "cos(pi/5)"
   ]
  },
  {
   "cell_type": "code",
   "execution_count": 54,
   "metadata": {
    "collapsed": false,
    "deletable": true,
    "editable": true
   },
   "outputs": [
    {
     "data": {
      "text/plain": [
       "0.5772156649015328606065120900824024310421593359399235988057672348848677267776646709369470632917467495"
      ]
     },
     "execution_count": 54,
     "metadata": {
     },
     "output_type": "execute_result"
    }
   ],
   "source": [
    "euler_gamma.n(digits=100)"
   ]
  },
  {
   "cell_type": "code",
   "execution_count": 32,
   "metadata": {
    "collapsed": false,
    "deletable": true,
    "editable": true
   },
   "outputs": [
    {
     "data": {
      "text/plain": [
       "'Hl'"
      ]
     },
     "execution_count": 32,
     "metadata": {
     },
     "output_type": "execute_result"
    }
   ],
   "source": [
    "s=\"Hello\"\n",
    "s[0:4:2]"
   ]
  },
  {
   "cell_type": "code",
   "execution_count": 43,
   "metadata": {
    "collapsed": false,
    "deletable": true,
    "editable": true
   },
   "outputs": [
   ],
   "source": [
    "def f(i): return i  \n"
   ]
  },
  {
   "cell_type": "code",
   "execution_count": 0,
   "metadata": {
    "collapsed": true,
    "deletable": true,
    "editable": true
   },
   "outputs": [
   ],
   "source": [
   ]
  },
  {
   "cell_type": "code",
   "execution_count": 42,
   "metadata": {
    "collapsed": false,
    "deletable": true,
    "editable": true
   },
   "outputs": [
    {
     "data": {
      "text/plain": [
       "3628800"
      ]
     },
     "execution_count": 42,
     "metadata": {
     },
     "output_type": "execute_result"
    }
   ],
   "source": [
    "prod(f(i) for i in (1..10))"
   ]
  },
  {
   "cell_type": "code",
   "execution_count": 16,
   "metadata": {
    "collapsed": false,
    "deletable": true,
    "editable": true
   },
   "outputs": [
    {
     "ename": "AttributeError",
     "evalue": "GraphGenerators instance has no attribute '_'",
     "output_type": "error",
     "traceback": [
      "\u001b[0;31m---------------------------------------------------------------------------\u001b[0m",
      "\u001b[0;31mAttributeError\u001b[0m                            Traceback (most recent call last)",
      "\u001b[0;32m<ipython-input-16-b0565a9c45b6>\u001b[0m in \u001b[0;36m<module>\u001b[0;34m()\u001b[0m\n\u001b[0;32m----> 1\u001b[0;31m \u001b[0mgraphs\u001b[0m\u001b[0;34m.\u001b[0m\u001b[0m_\u001b[0m\u001b[0;34m\u001b[0m\u001b[0m\n\u001b[0m",
      "\u001b[0;32m/home/sage/sage-8.1/src/sage/misc/lazy_import.pyx\u001b[0m in \u001b[0;36msage.misc.lazy_import.LazyImport.__getattr__ (build/cythonized/sage/misc/lazy_import.c:3555)\u001b[0;34m()\u001b[0m\n\u001b[1;32m    320\u001b[0m             \u001b[0mTrue\u001b[0m\u001b[0;34m\u001b[0m\u001b[0m\n\u001b[1;32m    321\u001b[0m         \"\"\"\n\u001b[0;32m--> 322\u001b[0;31m         \u001b[0;32mreturn\u001b[0m \u001b[0mgetattr\u001b[0m\u001b[0;34m(\u001b[0m\u001b[0mself\u001b[0m\u001b[0;34m.\u001b[0m\u001b[0mget_object\u001b[0m\u001b[0;34m(\u001b[0m\u001b[0;34m)\u001b[0m\u001b[0;34m,\u001b[0m \u001b[0mattr\u001b[0m\u001b[0;34m)\u001b[0m\u001b[0;34m\u001b[0m\u001b[0m\n\u001b[0m\u001b[1;32m    323\u001b[0m \u001b[0;34m\u001b[0m\u001b[0m\n\u001b[1;32m    324\u001b[0m     \u001b[0;31m# We need to wrap all the slot methods, as they are not forwarded\u001b[0m\u001b[0;34m\u001b[0m\u001b[0;34m\u001b[0m\u001b[0m\n",
      "\u001b[0;31mAttributeError\u001b[0m: GraphGenerators instance has no attribute '_'"
     ]
    }
   ],
   "source": [
    "graphs._"
   ]
  },
  {
   "cell_type": "code",
   "execution_count": 20,
   "metadata": {
    "collapsed": true,
    "deletable": true,
    "editable": true
   },
   "outputs": [
   ],
   "source": [
    "search_doc('prime')"
   ]
  },
  {
   "cell_type": "code",
   "execution_count": 22,
   "metadata": {
    "collapsed": true,
    "deletable": true,
    "editable": true
   },
   "outputs": [
   ],
   "source": [
    "search_src(\"graph\")"
   ]
  },
  {
   "cell_type": "code",
   "execution_count": 0,
   "metadata": {
    "collapsed": true,
    "deletable": true,
    "editable": true
   },
   "outputs": [
   ],
   "source": [
    "*div?"
   ]
  },
  {
   "cell_type": "code",
   "execution_count": 9,
   "metadata": {
    "collapsed": false,
    "deletable": true,
    "editable": true
   },
   "outputs": [
    {
     "data": {
      "text/plain": [
       "[47, 178481]"
      ]
     },
     "execution_count": 9,
     "metadata": {
     },
     "output_type": "execute_result"
    }
   ],
   "source": [
    "prime_divisors(2^23-1)"
   ]
  },
  {
   "cell_type": "code",
   "execution_count": 12,
   "metadata": {
    "collapsed": false,
    "deletable": true,
    "editable": true
   },
   "outputs": [
    {
     "data": {
      "image/png": "[encoded data removed]",
      "text/plain": [
       "Graphics object consisting of 1 graphics primitive"
      ]
     },
     "execution_count": 12,
     "metadata": {
     },
     "output_type": "execute_result"
    }
   ],
   "source": [
    "plot(prime_pi, 50, 100)"
   ]
  },
  {
   "cell_type": "code",
   "execution_count": 8,
   "metadata": {
    "collapsed": true,
    "deletable": true,
    "editable": true
   },
   "outputs": [
   ],
   "source": [
    "prime_pi??"
   ]
  },
  {
   "cell_type": "code",
   "execution_count": 3,
   "metadata": {
    "collapsed": false,
    "deletable": true,
    "editable": true
   },
   "outputs": [
    {
     "name": "stdout",
     "output_type": "stream",
     "text": [
      "[2, 3, 5, 7, 11, 13, 17, 19, 23, 29, 31, 37, 41, 43, 47, 53, 59, 61, 67, 71, 73, 79, 83, 89, 97, 101, 103, 107, 109, 113, 127, 131, 137, 139, 149, 151, 157, 163, 167, 173, 179, 181, 191, 193, 197, 199, 211, 223, 227, 229, 233, 239, 241, 251, 257, 263, 269, 271, 277, 281, 283, 293, 307, 311, 313, 317, 331, 337, 347, 349, 353, 359, 367, 373, 379, 383, 389, 397, 401, 409, 419, 421, 431, 433, 439, 443, 449, 457, 461, 463, 467, 479, 487, 491, 499, 503, 509, 521, 523, 541]\n"
     ]
    }
   ],
   "source": [
    "print(primes_first_n(100))"
   ]
  },
  {
   "cell_type": "code",
   "execution_count": 0,
   "metadata": {
    "collapsed": true,
    "deletable": true,
    "editable": true
   },
   "outputs": [
   ],
   "source": [
   ]
  }
 ],
 "metadata": {
  "kernelspec": {
   "display_name": "SageMath (stable)",
   "language": "sagemath",
   "metadata": {
    "cocalc": {
     "description": "Open-source mathematical software system",
     "priority": 10,
     "url": "https://www.sagemath.org/"
    }
   },
   "name": "sagemath"
  },
  "language_info": {
   "codemirror_mode": {
    "name": "ipython",
    "version": 2
   },
   "file_extension": ".py",
   "mimetype": "text/x-python",
   "name": "python",
   "nbconvert_exporter": "python",
   "pygments_lexer": "ipython2",
   "version": "2.7.15"
  }
 },
 "nbformat": 4,
 "nbformat_minor": 0
}