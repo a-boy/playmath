{
 "cells": [
  {
   "cell_type": "markdown",
   "metadata": {
    "collapsed": false
   },
   "source": [
    "Zhi-Wei Sun's Conjecture related to Bertrand's Postulate with $100 Prize (see also Conjecture 2.18 of this paper) http://maths.nju.edu.cn/~zwsun/\n",
    "\n",
    "Let $n$ be any positive integer. Then, for some $k=0,...n$, both $n+k$ and $n+k^2$ are prime. [Sun had verified this conjecture for n up to 200,000,000.]\n",
    "\n"
   ]
  },
  {
   "cell_type": "code",
   "execution_count": 1,
   "metadata": {
    "collapsed": false
   },
   "outputs": [
   ],
   "source": [
    "def SunZW_Bertrand_mink(n):\n",
    "    for k in (0..n):\n",
    "        if is_prime(n+k) and is_prime(n+k^2):\n",
    "            return k\n",
    "    print('Find counter example at n=',n)\n",
    "    return -1"
   ]
  },
  {
   "cell_type": "code",
   "execution_count": 9,
   "metadata": {
    "collapsed": false
   },
   "outputs": [
    {
     "name": "stdout",
     "output_type": "stream",
     "text": [
      "[(1, 0), (0, 1), (0, 2), (1, 2), (0, 3), (1, 3), (0, 4), (3, 4), (2, 4), (1, 4), (0, 5), (1, 5), (0, 6), (3, 6), (2, 6), (1, 6), (0, 7), (1, 7), (0, 8), (3, 8), (16, 8), (1, 8), (0, 9), (7, 9), (4, 9), (15, 9), (2, 9), (1, 9), (0, 10), (1, 10), (0, 11), (9, 11), (8, 11), (3, 11), (6, 11), (1, 11), (0, 12), (3, 12), (2, 12), (1, 12), (0, 13), (1, 13), (0, 14), (3, 14), (8, 14), (1, 14), (0, 15), (5, 15), (10, 15), (3, 15), (10, 15), (1, 15), (0, 16), (5, 16), (4, 16), (15, 16), (2, 16), (1, 16), (0, 17), (1, 17), (0, 18), (21, 18), (4, 18), (3, 18), (6, 18), (1, 18), (0, 19), (15, 19), (2, 19), (1, 19), (0, 20), (1, 20), (0, 21), (33, 21), (8, 21), (25, 21), (6, 21), (1, 21), (0, 22), (3, 22), (16, 22), (1, 22), (0, 23), (5, 23), (4, 23), (15, 23), (14, 23), (1, 23), (0, 24), (7, 24), (6, 24), (9, 24), (4, 24), (3, 24), (6, 24), (1, 24), (0, 25), (3, 25), (2, 25), (1, 25)]\n"
     ]
    }
   ],
   "source": [
    "li=[(SunZW_Bertrand_mink(n),prime_pi(n)) for n in (1..100)]\n",
    "print(li)\n"
   ]
  },
  {
   "cell_type": "code",
   "execution_count": 10,
   "metadata": {
    "collapsed": false
   },
   "outputs": [
    {
     "name": "stdout",
     "output_type": "stream",
     "text": [
      "[81, 446, 67, 66, 47, 76, 231, 44, 61, 42, 41, 40, 21, 70, 75, 78, 305, 34, 15, 182, 63, 96, 29, 10, 93, 8, 135, 426, 79, 22, 3, 20, 1, 0, 35, 4, 741, 44, 1, 0, 11, 490, 9, 8, 7, 6, 35, 22, 189, 250, 1, 0, 31, 36, 363, 34, 51, 12, 31, 22, 33, 46, 385, 138, 5, 4, 51, 22, 1, 0, 13, 726, 21, 16, 7, 18, 41, 4, 243, 2, 1, 0, 1, 0, 33, 124, 21, 6, 1, 0, 27, 16, 1, 0, 235, 12, 735, 34, 33, 138, 101]\n"
     ]
    }
   ],
   "source": [
    "li=[SunZW_Bertrand_mink(n) for n in (2*10^8..2*10^8+100)]\n",
    "print(li)"
   ]
  },
  {
   "cell_type": "code",
   "execution_count": 0,
   "metadata": {
    "collapsed": false
   },
   "outputs": [
   ],
   "source": [
   ]
  }
 ],
 "metadata": {
  "kernelspec": {
   "argv": [
    "sage-10.1",
    "--python",
    "-m",
    "sage.repl.ipython_kernel",
    "--matplotlib=inline",
    "-f",
    "{connection_file}"
   ],
   "display_name": "SageMath 10.1",
   "env": {
   },
   "language": "sagemath",
   "metadata": {
    "cocalc": {
     "description": "Open-source mathematical software system",
     "priority": 10,
     "url": "https://www.sagemath.org/"
    }
   },
   "name": "sage-10.1",
   "resource_dir": "/ext/jupyter/kernels/sage-10.1"
  },
  "language_info": {
   "codemirror_mode": {
    "name": "ipython",
    "version": 3
   },
   "file_extension": ".py",
   "mimetype": "text/x-python",
   "name": "python",
   "nbconvert_exporter": "python",
   "pygments_lexer": "ipython3",
   "version": "3.11.1"
  }
 },
 "nbformat": 4,
 "nbformat_minor": 4
}