{
 "cells": [
  {
   "cell_type": "code",
   "execution_count": 3,
   "id": "7dc55f",
   "metadata": {
    "collapsed": false
   },
   "outputs": [
    {
     "name": "stdout",
     "output_type": "stream",
     "text": [
      "Help topics: for a list of relevant subtopics, type ?n for n in\n",
      "   0: user-defined functions (aliases, installed and user functions)\n",
      "   1: PROGRAMMING under GP\n",
      "   2: Standard monadic or dyadic OPERATORS\n",
      "   3: CONVERSIONS and similar elementary functions\n",
      "   4: functions related to COMBINATORICS\n",
      "   5: NUMBER THEORETICAL functions\n",
      "   6: POLYNOMIALS and power series\n",
      "   7: Vectors, matrices, LINEAR ALGEBRA and sets\n",
      "   8: TRANSCENDENTAL functions\n",
      "   9: SUMS, products, integrals and similar functions\n",
      "  10: General NUMBER FIELDS\n",
      "  11: Associative and central simple ALGEBRAS\n",
      "  12: ELLIPTIC CURVES\n",
      "  13: L-FUNCTIONS\n",
      "  14: MODULAR FORMS\n",
      "  15: MODULAR SYMBOLS\n",
      "  16: GRAPHIC functions\n",
      "  17: The PARI community\n",
      "Also:\n",
      "  ? functionname (short on-line help)\n",
      "  ?\\             (keyboard shortcuts)\n",
      "  ?.             (member functions)\n",
      "Extended help (if available):\n",
      "  ??             (opens the full user's manual in a dvi previewer)\n",
      "  ??  tutorial / refcard / libpari (tutorial/reference card/libpari manual)\n",
      "  ??  refcard-ell (or -lfun/-mf/-nf: specialized reference card)\n",
      "  ??  keyword    (long help text about \"keyword\" from the user's manual)\n",
      "  ??? keyword    (a propos: list of related functions).\n"
     ]
    }
   ],
   "source": [
    "?"
   ]
  },
  {
   "cell_type": "code",
   "execution_count": 7,
   "id": "84060f",
   "metadata": {
    "collapsed": false
   },
   "outputs": [
    {
     "data": {
      "text/plain": [
       "0.25000000000000000000000000000000000000"
      ]
     },
     "execution_count": 7,
     "metadata": {
     },
     "output_type": "execute_result"
    }
   ],
   "source": [
    "sumnum(n=1,1/n^2)/Pi^2\n",
    "intnum(x=0,1,1/(1+x^2))/Pi"
   ]
  },
  {
   "cell_type": "code",
   "execution_count": 10,
   "id": "b0083e",
   "metadata": {
    "collapsed": false
   },
   "outputs": [
    {
     "name": "stdout",
     "output_type": "stream",
     "text": [
      "sumalt(X=a,expr,{flag=0}): Cohen-Villegas-Zagier's acceleration of alternating \n",
      "series expr, X starting at a. flag is optional, and can be 0: default, or 1: \n",
      "uses a slightly different method using Zagier's polynomials.\n",
      "\n"
     ]
    }
   ],
   "source": [
    "? sumalt"
   ]
  },
  {
   "cell_type": "code",
   "execution_count": 10,
   "id": "bf7364",
   "metadata": {
    "collapsed": false
   },
   "outputs": [
    {
     "data": {
      "text/plain": [
       "[4, 9, 25, 49]"
      ]
     },
     "execution_count": 10,
     "metadata": {
     },
     "output_type": "execute_result"
    }
   ],
   "source": [
    "[n^2|n<-[1..10],isprime(n)]\n",
    "[n^2|n<-primes([1,10])]"
   ]
  },
  {
   "cell_type": "code",
   "execution_count": 12,
   "id": "8b88cd",
   "metadata": {
    "collapsed": false
   },
   "outputs": [
    {
     "data": {
      "text/plain": [
       "[1009, 1013, 1019, 1021, 1031, 1033, 1039, 1049, 1051, 1061, 1063, 1069, 1087, 1091, 1093, 1097]"
      ]
     },
     "execution_count": 12,
     "metadata": {
     },
     "output_type": "execute_result"
    }
   ],
   "source": [
    "primes([1000,1100])"
   ]
  },
  {
   "cell_type": "code",
   "execution_count": 21,
   "id": "a4a9a8",
   "metadata": {
    "collapsed": false
   },
   "outputs": [
    {
     "name": "stdout",
     "output_type": "stream",
     "text": [
      "1 "
     ]
    },
    {
     "name": "stdout",
     "output_type": "stream",
     "text": [
      "2 "
     ]
    },
    {
     "name": "stdout",
     "output_type": "stream",
     "text": [
      "4 "
     ]
    },
    {
     "name": "stdout",
     "output_type": "stream",
     "text": [
      "5 "
     ]
    },
    {
     "name": "stdout",
     "output_type": "stream",
     "text": [
      "10 "
     ]
    },
    {
     "name": "stdout",
     "output_type": "stream",
     "text": [
      "20 "
     ]
    }
   ],
   "source": [
    "fordiv(20,x,print1(x,\" \"))"
   ]
  },
  {
   "cell_type": "code",
   "execution_count": 22,
   "id": "fc36d7",
   "metadata": {
    "collapsed": false
   },
   "outputs": [
    {
     "name": "stdout",
     "output_type": "stream",
     "text": [
      "a=1 b=2\n"
     ]
    }
   ],
   "source": [
    "[a,b] = [1,2];\n",
    "print(\"a=\",a,\" b=\",b)"
   ]
  },
  {
   "cell_type": "code",
   "execution_count": 17,
   "id": "20a755",
   "metadata": {
    "collapsed": false
   },
   "outputs": [
    {
     "data": {
      "text/plain": [
       "\n",
       "[1 2]\n",
       "\n",
       "[4 5]\n"
      ]
     },
     "execution_count": 17,
     "metadata": {
     },
     "output_type": "execute_result"
    }
   ],
   "source": [
    "V = [1,2,3];\n",
    "W = [4,5,6]~;\n",
    "M = [1,2,3;4,5,6]\n",
    "U = [1..10]\n",
    "U[1]==1\n",
    "V*W\n",
    "M[,2]\n",
    "M[1..2,1..2]"
   ]
  },
  {
   "cell_type": "code",
   "execution_count": 18,
   "id": "d86ff1",
   "metadata": {
    "collapsed": false
   },
   "outputs": [
    {
     "data": {
      "text/plain": [
       "x - 1/2*x^2 + 1/3*x^3 - 1/4*x^4 + 1/5*x^5 - 1/6*x^6 + 1/7*x^7 - 1/8*x^8 + 1/9*x^9 - 1/10*x^10 + 1/11*x^11 - 1/12*x^12 + 1/13*x^13 - 1/14*x^14 + 1/15*x^15 + O(x^16)"
      ]
     },
     "execution_count": 18,
     "metadata": {
     },
     "output_type": "execute_result"
    }
   ],
   "source": [
    "log(1+x)"
   ]
  },
  {
   "cell_type": "code",
   "execution_count": 20,
   "id": "190efa",
   "metadata": {
    "collapsed": false
   },
   "outputs": [
    {
     "data": {
      "text/plain": [
       "x + 1/3*x^3 + 2/15*x^5 + 17/315*x^7 + 62/2835*x^9 + 1382/155925*x^11 + 21844/6081075*x^13 + 929569/638512875*x^15 + O(x^17)"
      ]
     },
     "execution_count": 20,
     "metadata": {
     },
     "output_type": "execute_result"
    }
   ],
   "source": [
    "tan(x)"
   ]
  },
  {
   "cell_type": "code",
   "execution_count": 21,
   "id": "25467e",
   "metadata": {
    "collapsed": false
   },
   "outputs": [
    {
     "data": {
      "text/plain": [
       "Mod(1, x^2 + x + 1)"
      ]
     },
     "execution_count": 21,
     "metadata": {
     },
     "output_type": "execute_result"
    }
   ],
   "source": [
    "Mod(2,5)^3\n",
    "Mod(x, x^2+x+1)^3"
   ]
  },
  {
   "cell_type": "code",
   "execution_count": 23,
   "id": "84c48e",
   "metadata": {
    "collapsed": false
   },
   "outputs": [
    {
     "data": {
      "text/plain": [
       "\n",
       "[x^2 - 2*x + 2 1]\n",
       "\n",
       "[x^2 + 2*x + 2 1]\n"
      ]
     },
     "execution_count": 23,
     "metadata": {
     },
     "output_type": "execute_result"
    }
   ],
   "source": [
    "factor(x^4+4)"
   ]
  },
  {
   "cell_type": "code",
   "execution_count": 25,
   "id": "39af43",
   "metadata": {
    "collapsed": false
   },
   "outputs": [
    {
     "data": {
      "text/plain": [
       "0.25000000000000000000000000000000000000"
      ]
     },
     "execution_count": 25,
     "metadata": {
     },
     "output_type": "execute_result"
    }
   ],
   "source": [
    "atan(1)/Pi\n"
   ]
  },
  {
   "cell_type": "code",
   "execution_count": 29,
   "id": "8855d4",
   "metadata": {
    "collapsed": false
   },
   "outputs": [
    {
     "data": {
      "text/plain": [
       "\n",
       "[1  1  1   1    1    1    1     1     1     1      1]\n",
       "\n",
       "[1  2  3   4    5    6    7     8     9    10     11]\n",
       "\n",
       "[1  3  6  10   15   21   28    36    45    55     66]\n",
       "\n",
       "[1  4 10  20   35   56   84   120   165   220    286]\n",
       "\n",
       "[1  5 15  35   70  126  210   330   495   715   1001]\n",
       "\n",
       "[1  6 21  56  126  252  462   792  1287  2002   3003]\n",
       "\n",
       "[1  7 28  84  210  462  924  1716  3003  5005   8008]\n",
       "\n",
       "[1  8 36 120  330  792 1716  3432  6435 11440  19448]\n",
       "\n",
       "[1  9 45 165  495 1287 3003  6435 12870 24310  43758]\n",
       "\n",
       "[1 10 55 220  715 2002 5005 11440 24310 48620  92378]\n",
       "\n",
       "[1 11 66 286 1001 3003 8008 19448 43758 92378 184756]\n"
      ]
     },
     "execution_count": 29,
     "metadata": {
     },
     "output_type": "execute_result"
    }
   ],
   "source": [
    "matpascal(10)\n",
    "matpascal(10) * matpascal(10)~\n",
    "\n"
   ]
  },
  {
   "cell_type": "code",
   "execution_count": 31,
   "id": "8dbda1",
   "metadata": {
    "collapsed": false
   },
   "outputs": [
    {
     "data": {
      "text/plain": [
       "\n",
       "[ 2  3   4    5    6    7     8     9    10     11]\n",
       "\n",
       "[ 3  6  10   15   21   28    36    45    55     66]\n",
       "\n",
       "[ 4 10  20   35   56   84   120   165   220    286]\n",
       "\n",
       "[ 5 15  35   70  126  210   330   495   715   1001]\n",
       "\n",
       "[ 6 21  56  126  252  462   792  1287  2002   3003]\n",
       "\n",
       "[ 7 28  84  210  462  924  1716  3003  5005   8008]\n",
       "\n",
       "[ 8 36 120  330  792 1716  3432  6435 11440  19448]\n",
       "\n",
       "[ 9 45 165  495 1287 3003  6435 12870 24310  43758]\n",
       "\n",
       "[10 55 220  715 2002 5005 11440 24310 48620  92378]\n",
       "\n",
       "[11 66 286 1001 3003 8008 19448 43758 92378 184756]\n"
      ]
     },
     "execution_count": 31,
     "metadata": {
     },
     "output_type": "execute_result"
    }
   ],
   "source": [
    "matrix(10,10,i,j,binomial(i+j,i))"
   ]
  },
  {
   "cell_type": "code",
   "execution_count": 34,
   "id": "f5265d",
   "metadata": {
    "collapsed": false
   },
   "outputs": [
    {
     "data": {
      "text/plain": [
       "\n",
       "[0 0 0 0]\n",
       "\n",
       "[0 0 0 0]\n",
       "\n",
       "[0 0 0 0]\n",
       "\n",
       "[0 0 0 0]\n"
      ]
     },
     "execution_count": 34,
     "metadata": {
     },
     "output_type": "execute_result"
    }
   ],
   "source": [
    "matrix(4)"
   ]
  },
  {
   "cell_type": "markdown",
   "id": "31c4d3",
   "metadata": {
    "collapsed": false
   },
   "source": [
    "[https://github.com/copilot/c/a8223eb3\\-175f\\-4478\\-b706\\-10545bff9d21](https://github.com/copilot/c/a8223eb3-175f-4478-b706-10545bff9d21) \n",
    "\n",
    "写一段pari/GP代码，列出形如3\\*2^n\\+1的质数，用List Comprehension（列表推导式）实现\n"
   ]
  },
  {
   "cell_type": "code",
   "execution_count": 35,
   "id": "fbf165",
   "metadata": {
    "collapsed": false
   },
   "outputs": [
    {
     "data": {
      "text/plain": [
       "[[1, 7], [2, 13], [5, 97], [6, 193], [8, 769], [12, 12289], [18, 786433], [30, 3221225473], [36, 206158430209], [41, 6597069766657]]"
      ]
     },
     "execution_count": 35,
     "metadata": {
     },
     "output_type": "execute_result"
    }
   ],
   "source": [
    "select(v->isprime(v[2]), vector(50, n, [n, 3*2^n + 1]))"
   ]
  },
  {
   "cell_type": "code",
   "execution_count": 1,
   "id": "e306bb",
   "metadata": {
    "collapsed": false
   },
   "outputs": [
    {
     "data": {
      "text/plain": [
       "[1, 2, 5, 6, 8, 12, 18, 30, 36, 41, 66, 189, 201, 209, 276, 353]"
      ]
     },
     "execution_count": 1,
     "metadata": {
     },
     "output_type": "execute_result"
    }
   ],
   "source": [
    "[n|n<-[1..380],isprime(3*2^n + 1)]"
   ]
  },
  {
   "cell_type": "code",
   "execution_count": 0,
   "id": "3841ef",
   "metadata": {
    "collapsed": false
   },
   "outputs": [
   ],
   "source": [
    "(08:31) gp > n=1;while(1,if(isprime(3*2^n + 1),print1(n,\" \"));n++)\n",
    "1 2 5 6 8 12 18 30 36 41 66 189 201 209 276 353 408 438 534 2208 2816 3168 3189 3912"
   ]
  },
  {
   "cell_type": "code",
   "execution_count": 2,
   "id": "73fc41",
   "metadata": {
    "collapsed": false
   },
   "outputs": [
    {
     "data": {
      "text/plain": [
       "[1, 1, 2, 1, 4, 1, 4, 3, 2, 1, 6, 5, 4, 1, 2, 1, 4, 7, 6, 1, 2, 3, 12, 1, 6, 1, 4, 3, 12, 7, 6, 7, 2, 7, 4, 1, 4, 3, 2, 1, 12, 13, 12, 13, 2, 13, 4, 5, 10, 3, 8, 3, 10, 1, 12, 1, 2, 7, 10, 7, 6, 3, 20, 3, 4, 1, 4, 13, 22, 3, 10, 5, 4, 1, 14, 3, 10, 5, 6, 21, 2, 9, 10, 1, 4, 15, 4, 9, 6, 1, 6, 3, 14, 1, 4, 5, 4, 9, 2, 7, 10, 23, 4, 15, 2, 3, 18, 13, 6, 1, 2, 3, 12, 5, 4, 1, 2, 7, 12, 1, 12, 3, 2, 1, 4, 1, 10, 27, 8, 1, 6, 7, 18, 1, 4, 7, 4, 7, 12, 3, 8, 9, 28, 7, 6, 1, 2, 7, 28, 1, 6, 13, 8, 3, 4, 1, 10, 3, 20, 1, 10, 5, 4, 7, 14, 25, 4, 5, 10, 1, 2, 3, 18, 17, 6, 1, 4, 3, 10, 1, 10, 25, 4, 1, 6, 7, 12, 9, 8, 7, 12, 7, 4, 7, 14, 15, 12, 5, 6, 9, 22, 9, 4, 1, 18, 1, 4, 7, 10, 1, 10, 9, 8, 21, 4, 7, 4, 3, 2, 7, 6, 13, 10, 1, 2, 33, 10, 7, 12, 1, 16, 7, 4, 11, 4, 1, 2, 15, 10, 1, 18, 3, 2, 3, 4, 5, 18, 3, 2, 1, 28, 17, 4, 37, 2, 1, 18, 5, 22, 1, 20, 15, 22, 1, 4, 13, 4, 13, 6, 1, 12, 15, 2, 3, 4, 31, 4, 7, 8, 1, 16, 7, 18, 1, 8, 3, 4, 19, 16, 21, 10, 33, 4, 5, 12, 7, 2, 3, 12, 1, 16, 25, 2, 3, 22, 1, 4, 9, 2, 37, 10, 23, 4, 1, 8, 3, 4, 17, 10, 7, 2, 3, 18, 11, 24, 1, 8, 15, 6, 7, 6, 9, 10, 21, 12, 5, 22, 15, 20, 1, 12, 5, 10, 7, 2, 7, 4, 19, 42, 1, 2, 7, 24, 13, 6, 3, 4, 9, 22, 7, 16, 15, 2, 3, 16, 7, 10, 3, 2, 43, 12, 5, 4, 7, 2, 21, 22, 13, 10, 7, 16, 7, 12, 1, 4, 1, 2, 7, 16, 11, 16, 25, 10, 15, 16, 1, 18, 3, 8, 1, 6, 7, 4, 7, 14, 1, 4, 7, 28, 9, 16, 7, 10, 5, 18, 3, 2, 13, 12, 1, 16, 7, 2, 3, 4, 23, 4, 7, 2, 1, 6, 5, 18, 3, 4, 1, 10, 17, 16, 1, 2, 25, 22, 1, 6, 13, 2, 9, 10, 19, 16, 7, 2, 7, 4, 5, 28, 3, 28, 19, 36, 5, 4, 1, 8, 1, 18, 7, 10, 1, 8, 3, 18, 1, 4, 25, 2, 25, 18, 31, 6, 9, 4, 3, 6, 11, 4, 7, 16, 1, 12, 5, 24, 7, 4, 1, 22, 17, 16, 7, 2, 9, 4, 5, 18, 13, 4, 3, 18, 11, 6, 3, 2, 15, 6, 5, 10, 19, 16, 7, 10, 23, 22, 3, 16, 31, 12, 17, 6, 9, 10, 3, 4, 5, 18, 1, 14, 9, 6, 19, 12, 3, 10, 1, 24, 37, 4, 13, 2, 7, 12, 5, 12, 3, 2, 1, 24, 7, 28, 3, 2, 7, 22, 7, 12, 21, 20, 3, 6, 1, 16, 9, 2, 13, 16, 1, 4, 9, 8, 3, 22, 7, 18, 1, 8, 15, 18, 5, 12, 49, 10, 39, 4, 1, 6, 45, 32, 7, 10, 7, 10, 3, 2, 13, 4, 7, 4, 9, 2, 7, 6, 13, 4, 15, 4, 3, 18, 13, 10, 3, 16, 3, 4, 5, 22, 3, 8, 9, 16, 19, 10, 9, 14, 1, 16, 1, 12, 3, 16, 9, 18, 7, 12, 1, 46, 1, 22, 17, 6, 37, 2, 3, 12, 1, 18, 7, 8, 15, 12, 19, 36, 9, 4, 7, 4, 5, 4, 3, 8, 7, 16, 17, 24, 1, 2, 3, 4, 7, 10, 1, 2, 9, 28, 11, 4, 1, 28, 7, 16, 1, 16, 7, 38, 3, 6, 1, 10, 7, 2, 1, 16, 35, 4, 1, 16, 3, 4, 7, 6, 3, 2, 19, 4, 1, 12, 1, 4, 15, 12, 11, 22, 15, 8, 13, 16, 5, 30, 3, 16, 7, 6, 25, 18, 7, 8, 3, 18, 7, 16, 1, 8, 13, 4, 7, 4, 3, 8, 7, 18, 1, 12, 3, 2, 7, 4, 5, 52, 33, 8, 1, 12, 19, 4, 1, 26, 13, 4, 5, 16, 3, 8, 25, 10, 11, 6, 3, 2, 25, 6, 1, 18, 7, 8, 1, 4, 5, 4, 3, 8, 19, 16, 5, 12, 15, 4, 7, 40, 5, 22, 7, 22, 9, 28, 5, 4, 3, 2, 7, 10, 13, 22, 9, 4, 21, 18, 1, 12, 3, 2, 39, 16, 29, 4, 13, 8, 1, 4, 7, 36, 7, 22, 15, 54, 5, 34, 3, 2, 13, 22, 13, 12, 15, 14, 3, 4, 11, 4, 15, 28, 9, 10, 5, 4, 13, 8, 13, 22, 17, 6, 1, 16, 3, 22, 1, 24, 15, 2, 3, 10, 19, 30, 27, 58, 3, 24, 5, 18, 13, 8, 27, 12, 53, 4, 25, 2, 7, 34, 5, 6, 1, 8, 3, 24, 23, 12, 13, 2, 43, 10, 13, 18, 9, 2, 21, 4, 1, 18, 13, 2, 1, 28, 7, 24, 3, 32, 15, 18, 5, 40, 1, 10, 9, 24, 17, 16, 37, 32, 7, 6, 1, 16, 15, 2, 13, 4, 1, 28, 15, 8, 13, 6, 13, 12, 15, 4, 1, 28, 13, 6, 1, 40, 9, 4, 5, 6, 7, 2, 3, 10, 1, 18, 3, 4, 7, 12, 1, 4, 7, 2, 3, 6, 19, 4, 31, 8, 7, 10, 19, 18, 19, 2, 9, 4, 7, 6, 1, 8, 3, 28, 7, 6, 19, 4, 15, 12, 5, 4, 7, 8, 3]"
      ]
     },
     "execution_count": 2,
     "metadata": {
     },
     "output_type": "execute_result"
    }
   ],
   "source": [
    "vector(1000, i, s=i^2; nextprime(s)-s)"
   ]
  },
  {
   "cell_type": "code",
   "execution_count": 45,
   "id": "d86ce2",
   "metadata": {
    "collapsed": false
   },
   "outputs": [
    {
     "data": {
      "text/plain": [
       "0.12500000000000000000000000000000000000"
      ]
     },
     "execution_count": 45,
     "metadata": {
     },
     "output_type": "execute_result"
    }
   ],
   "source": [
    "\\\\ sumpos(n = 1, -1^(n-1)/(2*n+1))  会引起the PARI stack overflows ! 即使 default(parisizemax,\"8G\"); 计算也缓慢迟迟没有结果\n",
    "sumpos(n = 0, 1/((4*n+2)^2-1))/Pi"
   ]
  },
  {
   "cell_type": "code",
   "execution_count": 50,
   "id": "750d1c",
   "metadata": {
    "collapsed": false
   },
   "outputs": [
    {
     "data": {
      "text/plain": [
       "64186597062235264635206047054113513222010331267617/164293258993570516478884709700298185808795185630525"
      ]
     },
     "execution_count": 50,
     "metadata": {
     },
     "output_type": "execute_result"
    }
   ],
   "source": [
    "sum(n = 0,30, 1/((4*n+2)^2-1))"
   ]
  },
  {
   "cell_type": "code",
   "execution_count": 8,
   "id": "c91654",
   "metadata": {
    "collapsed": false
   },
   "outputs": [
    {
     "data": {
      "text/plain": [
       "[1, 2, 49, 62, 79, 89, 188, 6627, 9491, 18674, 22621, 31982, 34083, 38226, 38520, 41545, 48713, 53887, 89459, 103205, 114731, 123306, 139742, 140609, 149125, 168237, 175125, 210554, 223949, 229269, 237794, 240007, 267356, 288467, 321451, 364921, 368248, 373370, 391701, 404002, 471078, 471745, 480859, 505017, 524027, 606681, 616812, 619039, 630862, 634892, 638454, 704416, 740413, 771496, 787187, 803102, 851099, 855281, 858929, 933025, 951060, 985933, 994748]"
      ]
     },
     "execution_count": 8,
     "metadata": {
     },
     "output_type": "execute_result"
    }
   ],
   "source": [
    "\\\\vector(1000,i,#primes([30*(i-1),30*i]));\n",
    "\\\\vector(1000,n,primepi(30*n) - primepi(30*(n-1)))\n",
    "a=[n|n<-[1..10^6],#primes([30*n,30*n+30])==7]"
   ]
  },
  {
   "cell_type": "code",
   "execution_count": 14,
   "id": "ce4f70",
   "metadata": {
    "collapsed": false
   },
   "outputs": [
    {
     "data": {
      "text/plain": [
       "[[31, 37, 41, 43, 47, 53, 59], [61, 67, 71, 73, 79, 83, 89], [1471, 1481, 1483, 1487, 1489, 1493, 1499], [1861, 1867, 1871, 1873, 1877, 1879, 1889], [2371, 2377, 2381, 2383, 2389, 2393, 2399], [2671, 2677, 2683, 2687, 2689, 2693, 2699], [5641, 5647, 5651, 5653, 5657, 5659, 5669], [198811, 198817, 198823, 198827, 198829, 198833, 198839], [284731, 284737, 284741, 284743, 284747, 284749, 284759], [560221, 560227, 560233, 560237, 560239, 560243, 560249], [678631, 678637, 678641, 678647, 678649, 678653, 678659], [959461, 959467, 959471, 959473, 959477, 959479, 959489], [1022491, 1022501, 1022503, 1022507, 1022509, 1022513, 1022519], [1146781, 1146787, 1146791, 1146793, 1146797, 1146799, 1146809], [1155601, 1155607, 1155611, 1155613, 1155617, 1155619, 1155629], [1246351, 1246361, 1246363, 1246367, 1246369, 1246373, 1246379], [1461391, 1461401, 1461403, 1461407, 1461409, 1461413, 1461419], [1616611, 1616617, 1616621, 1616623, 1616627, 1616633, 1616639], [2683771, 2683777, 2683781, 2683783, 2683787, 2683789, 2683799]]"
      ]
     },
     "execution_count": 14,
     "metadata": {
     },
     "output_type": "execute_result"
    }
   ],
   "source": [
    "[primes([30*n,30*n+30])|n<-a]"
   ]
  },
  {
   "cell_type": "code",
   "execution_count": 11,
   "id": "7eb545",
   "metadata": {
    "collapsed": false
   },
   "outputs": [
    {
     "data": {
      "text/plain": [
       "19"
      ]
     },
     "execution_count": 11,
     "metadata": {
     },
     "output_type": "execute_result"
    }
   ],
   "source": [
    "#[2, 3, 50, 63, 80, 90, 189, 6628, 9492, 18675, 22622, 31983, 34084, 38227, 38521, 41546, 48714, 53888, 89460]"
   ]
  },
  {
   "cell_type": "code",
   "execution_count": 20,
   "id": "8f4783",
   "metadata": {
    "collapsed": false
   },
   "outputs": [
    {
     "data": {
      "text/plain": [
       "[1471, 1481, 1483, 1487, 1489, 1493, 1499]"
      ]
     },
     "execution_count": 20,
     "metadata": {
     },
     "output_type": "execute_result"
    }
   ],
   "source": [
    "primes([30*49,30*50])"
   ]
  },
  {
   "cell_type": "code",
   "execution_count": 21,
   "id": "fab9c0",
   "metadata": {
    "collapsed": false
   },
   "outputs": [
    {
     "data": {
      "text/plain": [
       "[2, 3, 50, 63, 80, 90, 189, 6628, 9492, 18675, 22622, 31983, 34084, 38227, 38521, 41546, 48714, 53888, 89460]"
      ]
     },
     "execution_count": 21,
     "metadata": {
     },
     "output_type": "execute_result"
    }
   ],
   "source": [
    "len=10^5\n",
    "v=vector(len,n,primepi(30*n))\n",
    "a=[n|n<-[2..len],v[n] - v[n-1]==7]\n",
    "\n"
   ]
  },
  {
   "cell_type": "code",
   "execution_count": 38,
   "id": "73a592",
   "metadata": {
    "collapsed": false
   },
   "outputs": [
    {
     "name": "stdout",
     "output_type": "stream",
     "text": [
      "1\n"
     ]
    },
    {
     "name": "stdout",
     "output_type": "stream",
     "text": [
      "2\n"
     ]
    },
    {
     "name": "stdout",
     "output_type": "stream",
     "text": [
      "49\n"
     ]
    },
    {
     "name": "stdout",
     "output_type": "stream",
     "text": [
      "62\n"
     ]
    },
    {
     "name": "stdout",
     "output_type": "stream",
     "text": [
      "79\n"
     ]
    },
    {
     "name": "stdout",
     "output_type": "stream",
     "text": [
      "89\n"
     ]
    },
    {
     "name": "stdout",
     "output_type": "stream",
     "text": [
      "188\n"
     ]
    },
    {
     "name": "stdout",
     "output_type": "stream",
     "text": [
      "6627\n"
     ]
    },
    {
     "name": "stdout",
     "output_type": "stream",
     "text": [
      "9491\n"
     ]
    },
    {
     "name": "stdout",
     "output_type": "stream",
     "text": [
      "18674\n"
     ]
    },
    {
     "name": "stdout",
     "output_type": "stream",
     "text": [
      "22621\n"
     ]
    },
    {
     "name": "stdout",
     "output_type": "stream",
     "text": [
      "31982\n"
     ]
    },
    {
     "name": "stdout",
     "output_type": "stream",
     "text": [
      "34083\n"
     ]
    },
    {
     "name": "stdout",
     "output_type": "stream",
     "text": [
      "38226\n"
     ]
    },
    {
     "name": "stdout",
     "output_type": "stream",
     "text": [
      "38520\n"
     ]
    },
    {
     "name": "stdout",
     "output_type": "stream",
     "text": [
      "41545\n"
     ]
    },
    {
     "name": "stdout",
     "output_type": "stream",
     "text": [
      "48713\n"
     ]
    },
    {
     "name": "stdout",
     "output_type": "stream",
     "text": [
      "53887\n"
     ]
    },
    {
     "name": "stdout",
     "output_type": "stream",
     "text": [
      "89459\n"
     ]
    },
    {
     "name": "stdout",
     "output_type": "stream",
     "text": [
      "103205\n"
     ]
    },
    {
     "name": "stdout",
     "output_type": "stream",
     "text": [
      "114731\n"
     ]
    },
    {
     "name": "stdout",
     "output_type": "stream",
     "text": [
      "123306\n"
     ]
    },
    {
     "name": "stdout",
     "output_type": "stream",
     "text": [
      "139742\n"
     ]
    },
    {
     "name": "stdout",
     "output_type": "stream",
     "text": [
      "140609\n"
     ]
    },
    {
     "name": "stdout",
     "output_type": "stream",
     "text": [
      "149125\n"
     ]
    },
    {
     "name": "stdout",
     "output_type": "stream",
     "text": [
      "168237\n"
     ]
    },
    {
     "name": "stdout",
     "output_type": "stream",
     "text": [
      "175125\n"
     ]
    },
    {
     "name": "stdout",
     "output_type": "stream",
     "text": [
      "210554\n"
     ]
    },
    {
     "name": "stdout",
     "output_type": "stream",
     "text": [
      "223949\n"
     ]
    },
    {
     "name": "stdout",
     "output_type": "stream",
     "text": [
      "229269\n"
     ]
    },
    {
     "name": "stdout",
     "output_type": "stream",
     "text": [
      "237794\n"
     ]
    },
    {
     "name": "stdout",
     "output_type": "stream",
     "text": [
      "240007\n"
     ]
    },
    {
     "name": "stdout",
     "output_type": "stream",
     "text": [
      "267356\n"
     ]
    },
    {
     "name": "stdout",
     "output_type": "stream",
     "text": [
      "288467\n"
     ]
    },
    {
     "name": "stdout",
     "output_type": "stream",
     "text": [
      "321451\n"
     ]
    },
    {
     "name": "stdout",
     "output_type": "stream",
     "text": [
      "364921\n"
     ]
    },
    {
     "name": "stdout",
     "output_type": "stream",
     "text": [
      "368248\n"
     ]
    },
    {
     "name": "stdout",
     "output_type": "stream",
     "text": [
      "373370\n"
     ]
    },
    {
     "name": "stdout",
     "output_type": "stream",
     "text": [
      "391701\n"
     ]
    },
    {
     "name": "stdout",
     "output_type": "stream",
     "text": [
      "404002\n"
     ]
    },
    {
     "name": "stdout",
     "output_type": "stream",
     "text": [
      "471078\n"
     ]
    },
    {
     "name": "stdout",
     "output_type": "stream",
     "text": [
      "471745\n"
     ]
    },
    {
     "name": "stdout",
     "output_type": "stream",
     "text": [
      "480859\n"
     ]
    },
    {
     "name": "stdout",
     "output_type": "stream",
     "text": [
      "505017\n"
     ]
    }
   ],
   "source": [
    "c0=0;for(i=1,10^7,c1=primepi(30*i);if(c1-c0==7,print(i-1));c0=c1)"
   ]
  },
  {
   "cell_type": "code",
   "execution_count": 0,
   "id": "3e2878",
   "metadata": {
    "collapsed": false
   },
   "outputs": [
   ],
   "source": [
   ]
  }
 ],
 "metadata": {
  "kernelspec": {
   "argv": [
    "python",
    "-m",
    "PARIKernel",
    "-f",
    "{connection_file}"
   ],
   "display_name": "PARI/GP",
   "env": {
   },
   "language": "gp",
   "name": "pari_jupyter",
   "resource_dir": "/home/user/.local/share/jupyter/kernels/pari_jupyter"
  }
 },
 "nbformat": 4,
 "nbformat_minor": 4
}