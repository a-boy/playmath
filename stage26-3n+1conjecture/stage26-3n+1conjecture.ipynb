{
 "cells": [
  {
   "cell_type": "code",
   "execution_count": 1,
   "metadata": {
    "collapsed": false
   },
   "outputs": [
   ],
   "source": [
   ]
  },
  {
   "cell_type": "markdown",
   "metadata": {
    "collapsed": false
   },
   "source": [
    "A problem posed by L. Collatz in 1937, also called the 3x+1 mapping, 3n+1 problem, Hasse's algorithm, Kakutani's problem, Syracuse algorithm, Syracuse problem, Thwaites conjecture, and Ulam's problem (Lagarias 1985). Thwaites (1996) has offered a £1000 reward for resolving the conjecture. Let a_0 be an integer. Then one form of Collatz problem asks if iterating\n",
    "```\n",
    " a[0]=n\n",
    " a[n+1] = a[n]/2 if a[n]%2==0 else 3*a[n]+1 , for n=0,1,2,3,...\n",
    "```\n",
    "always reachs to 1 for any positive n."
   ]
  },
  {
   "cell_type": "markdown",
   "metadata": {
    "collapsed": false
   },
   "source": [
    "Now, I'm trying to prove 3n+1 Conjecture.\n",
    "idea: for any odd integer n, before the `steps=ceil(log(3,4^n))=ceil(n*log(3,4))` calling f(n),\n",
    "it will return a less number `m, m<n `."
   ]
  },
  {
   "cell_type": "code",
   "execution_count": 3,
   "metadata": {
    "collapsed": false
   },
   "outputs": [
   ],
   "source": [
    "def f(n):\n",
    "    while n%2==0 : n/=2\n",
    "    n=3*n+1\n",
    "    while n%2==0 : n/=2\n",
    "    return n\n",
    "\n",
    "def fex(n):\n",
    "    exp=0\n",
    "    if(n%2==0):\n",
    "        while n%2==0 : n/=2;exp+=1\n",
    "    n=3*n+1\n",
    "    while n%2==0 : n/=2;exp+=1\n",
    "    return (n,exp)"
   ]
  },
  {
   "cell_type": "code",
   "execution_count": 6,
   "metadata": {
    "collapsed": false
   },
   "outputs": [
    {
     "data": {
      "text/html": [
       "<html><script type=\"math/tex; mode=display\">\\newcommand{\\Bold}[1]{\\mathbf{#1}}\\left[\\left(11, 1\\right), 3, \\left(5, 1\\right), \\left(1, 4\\right)\\right]</script></html>"
      ],
      "text/plain": [
       "[(11, 1), 3, (5, 1), (1, 4)]"
      ]
     },
     "execution_count": 6,
     "metadata": {
     },
     "output_type": "execute_result"
    }
   ],
   "source": [
    "[fex(7),3,fex(3),fex(5)]"
   ]
  },
  {
   "cell_type": "code",
   "execution_count": 0,
   "metadata": {
    "collapsed": false
   },
   "outputs": [
   ],
   "source": [
    "@interact\n",
    "def collatz(n=[1..400]):\n",
    "    "
   ]
  },
  {
   "cell_type": "markdown",
   "metadata": {
    "collapsed": false
   },
   "source": [
    "References:\n",
    "    1. https://www.dcode.fr/collatz-conjecture"
   ]
  },
  {
   "cell_type": "code",
   "execution_count": 0,
   "metadata": {
    "collapsed": false
   },
   "outputs": [
   ],
   "source": [
   ]
  }
 ],
 "metadata": {
  "kernelspec": {
   "display_name": "SageMath (stable)",
   "language": "sagemath",
   "metadata": {
    "cocalc": {
     "description": "Open-source mathematical software system",
     "priority": 10,
     "url": "https://www.sagemath.org/"
    }
   },
   "name": "sagemath"
  },
  "language_info": {
   "codemirror_mode": {
    "name": "ipython",
    "version": 2
   },
   "file_extension": ".py",
   "mimetype": "text/x-python",
   "name": "python",
   "nbconvert_exporter": "python",
   "pygments_lexer": "ipython2",
   "version": "2.7.15"
  }
 },
 "nbformat": 4,
 "nbformat_minor": 0
}