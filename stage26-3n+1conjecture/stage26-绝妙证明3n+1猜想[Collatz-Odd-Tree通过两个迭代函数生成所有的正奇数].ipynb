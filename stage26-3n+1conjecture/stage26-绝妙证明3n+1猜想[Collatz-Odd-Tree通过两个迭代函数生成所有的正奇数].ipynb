{
 "cells": [
  {
   "cell_type": "markdown",
   "metadata": {
    "collapsed": false
   },
   "source": [
    "**3n+1 问题(3n+1 Problem)** 是 L. Collatz 在 1937 年提出的一个猜想, 也叫 **Collatz 猜想**, 或者被称作 3n+1 归一映射(3x+1 Mapping)。 3n+1 问题是如此的著名于世，因为它几乎可以让小学一年级学生领会理解，更是数学爱好者们的起步之题，并且被多个数学家提及，如 Hasse 算法, Kakutani 问题, Syracuse 算法, Thwaites 猜想(Thwaites conjecture), Ulam 问题（Ulam's problem, Lagarias 1985)……\n",
    "Thwaites (1996) 已经悬赏 £1000 为解决 3n+1 猜想.\n",
    "\n",
    "**3n+1 问题** 的描述十分简单： 定义递推数组 a[0]:=n, 为 k=0,1,2,3,...递推下去，a[k]遇到偶数则除以 2 即取 a[k]/2, 遇到奇数则取 3*a[k]+1... 猜想说对于任意正整数n,总会在有限步之内取得 1。 然后[1,4,2,1,4,2,...]不停循环下去。\n",
    "\n",
    "```\n",
    "a[0]:=n ,\n",
    "a[k+1]:= 3*a[k]+1 if is_odd(a[k])\n",
    "a[k+1]:= a[k]/2   elif is_even(a[k]) , for k=0,1,2,3,...\n",
    "\n",
    "def f(x):= 3*x+1 if x%2==1 else x//2\n",
    "a[k+1]:=f(a[k])\n",
    "\n",
    "# Syracuse function g(n)\n",
    "def g(n):\n",
    "    while n%2==0 : n/=2\n",
    "    n=3*n+1\n",
    "    while n%2==0 : n/=2\n",
    "    return n\n",
    "```\n",
    "\n",
    "Syracuse 函数(Syracuse function, g(x))对其做了简化处理，每次直接去掉其中的 `2` 的幂，因此 3n+1 问题也等同于说: 对于任意正奇数 n, 总存在有限步数 S(n), 使 nest(g,S,n)==1 .\n",
    "\n",
    "> sage.misc.misc.nest(f, n, x)  \n",
    "> Return f(f(...f(x)...)), where the composition occurs n times.\n"
   ]
  },
  {
   "cell_type": "markdown",
   "metadata": {
    "collapsed": false
   },
   "source": [
    "3n+1 猜想证法 1：\n",
    "\n",
    "由递推归纳法的思想，我们只需证明：n 总会在有限步s(n)嵌套调用 g(x)之前便取得一个更小的奇数 m, m<n .显然，对于偶数 2k, 以及 4k+1 型的数即`(n*3+1) %4==0`的数 n 来说，调用g(n)一次便下降了。\n",
    "\n",
    "```\n",
    "g(2k)<=(k*3+1)/2<2k\n",
    "g(4k+1) <= ((4k+1)*3+1)/4 < 4k+1\n",
    "```\n",
    "\n",
    "对于 4k-1 型的数尤其还是3的倍数来说呢？\n",
    "\n",
    "存在下面的Collatz-Syracuse 函数递降定理。\n",
    "\n",
    " **Collatz-Syracuse Decent Theorem**: for any odd integer n, it will get a less number m, m<n , not after the steps s(n)=(3*n+1)/2 calling g(n). To be brief, It exists v(v<=s(n)==(3*n+1)/2) to make nest(g,v,n)<n .\n",
    "\n",
    " **Collatz-Syracuse 函数递降定理** : 在 (n*3+1)/2 次(含)嵌套调用 g(n)之前，总会得到一个比 n 更小的数 `m, m<n `; 存在 `v, v<=s(n)==(3*n+1)/2` 使得`nest(g,v,n)==m <n`\n",
    "\n",
    "注: 尝试证明有限步内递降，比力图考察证明不存在的循环圈来说，显得更简单更直接更有力。"
   ]
  },
  {
   "cell_type": "code",
   "execution_count": 0,
   "metadata": {
    "collapsed": false
   },
   "outputs": [
   ],
   "source": [
    "def f(x):\n",
    "    return 3*x+1 if x%2==1 else x//2\n",
    "\n",
    "def g(n):\n",
    "    while n%2==0 : n/=2\n",
    "    n=3*n+1\n",
    "    while n%2==0 : n/=2\n",
    "    return n\n",
    "\n",
    "\" s(n) return the steps s make nest()\"\n",
    "def s(n):\n",
    "    \n",
    "def S(n):\n",
    "    \n",
    "@interact\n",
    "def collatz(n):\n",
    "    "
   ]
  },
  {
   "cell_type": "code",
   "execution_count": 1,
   "metadata": {
    "collapsed": false
   },
   "outputs": [
    {
     "data": {
      "text/html": [
       "<textarea name=\"editor1\" id=\"editor1\" cols=\"160\" rows=\"15\">\n",
       "1. 首先, 当n满足 `3*n+1 == 2^y` 即 `n=(2^(2*k)-1)/3`, g(n)都会直接返回1, 这也是根节点1的全部子节点，这个数列具有递推函数 h(x)=4*x+1\n",
       "2. 接着，考察5的子节点，第一个子节点是3, 通过v(5)= (2*5-1)/3 生成,\n",
       "其余小兄弟之间 还是具有递推关系 h(x)=4*x+1\n",
       "3. 对于3的倍数, 因为 (3*n+1)/2^y %3 = 2^(-y)%3 == 1 or 2, 所以任意3的倍数都是叶节点。\n",
       "4. 继续，考察85的子节点，第一个子节点是113， c[k]=(4*x-1)/3 = 4^k*16/9-7/9\n",
       "\n",
       "1 \n",
       "1,5,21,85,341, ..., a[k]= (2^(2*k)-1)/3=(4^k-1)/3; a[k]= (4*(a[k-1]*3+1) -1)/3=4*a[k-1]+1, for k=1,2,3,... h(x)=4*x+1\n",
       "\n",
       "5<--3,v(x)= (2*x-1)/3 if(x%3==2); b[k]=(2*a[k]-1)/3=4^k*2/9 - 5/9, for k=2,6,10,14,...\n",
       "5<--3,13,53,..., h(x)=4*x+1\n",
       "\n",
       "21  \n",
       "85<--113,v(x)=(4*x-1)/3 elif(x%3==1) ; c[k]=(4*x-1)/3 = 4^k*16/9-7/9, for k=4,8,12,16,...\n",
       "85<--113,453,1813, ..., h(x)=4*x+1\n",
       "\n",
       "h(x)=4*x+1;\n",
       "v(x)= (2*x-1)/3 if(x%3==2);\n",
       "v(x)=(4*x-1)/3 elif(x%3==1);\n",
       "\n",
       "</textarea>"
      ],
      "text/plain": [
       "<IPython.core.display.HTML object>"
      ]
     },
     "execution_count": 1,
     "metadata": {
     },
     "output_type": "execute_result"
    }
   ],
   "source": [
    "%%html\n",
    "<textarea name=\"editor1\" id=\"editor1\" cols=\"160\" rows=\"15\">\n",
    "1. 首先, 当n满足 `3*n+1 == 2^y` 即 `n=(2^(2*k)-1)/3`, g(n)都会直接返回1, 这也是根节点1的全部子节点，这个数列具有递推函数 h(x)=4*x+1\n",
    "2. 接着，考察5的子节点，第一个子节点是3, 通过v(5)= (2*5-1)/3 生成,\n",
    "其余小兄弟之间 还是具有递推关系 h(x)=4*x+1\n",
    "3. 对于3的倍数, 因为 (3*n+1)/2^y %3 = 2^(-y)%3 == 1 or 2, 所以任意3的倍数都是叶节点。\n",
    "4. 继续，考察85的子节点，第一个子节点是113， c[k]=(4*x-1)/3 = 4^k*16/9-7/9\n",
    "\n",
    "1 \n",
    "1,5,21,85,341, ..., a[k]= (2^(2*k)-1)/3=(4^k-1)/3; a[k]= (4*(a[k-1]*3+1) -1)/3=4*a[k-1]+1, for k=1,2,3,... h(x)=4*x+1\n",
    "\n",
    "5<--3,v(x)= (2*x-1)/3 if(x%3==2); b[k]=(2*a[k]-1)/3=4^k*2/9 - 5/9, for k=2,6,10,14,...\n",
    "5<--3,13,53,..., h(x)=4*x+1\n",
    "\n",
    "21  \n",
    "85<--113,v(x)=(4*x-1)/3 elif(x%3==1) ; c[k]=(4*x-1)/3 = 4^k*16/9-7/9, for k=4,8,12,16,...\n",
    "85<--113,453,1813, ..., h(x)=4*x+1\n",
    "\n",
    "h(x)=4*x+1;\n",
    "v(x)= (2*x-1)/3 if(x%3==2);\n",
    "v(x)=(4*x-1)/3 elif(x%3==1);\n",
    "\n",
    "</textarea>"
   ]
  },
  {
   "cell_type": "markdown",
   "metadata": {
    "collapsed": false
   },
   "source": [
    "(2019-10-28) 我在探索分析Collatz-Odd-Tree时, 发现了Collatz猜想的一个绝妙证明! 也许能让Thwaites欣赏并在2019奖励我£1000。\n",
    "请看, 3n+1猜想证法2：\n",
    "\n",
    "定义 **Collatz 正奇数回归树(Collatz-Odd-Tree)** : 对于任意正奇数 n=2k+1, n 是 g(n)的子节点, g(n)<--n . 或者称之为根节点为1的 **Collatz逆向生成树** .\n"
   ]
  },
  {
   "cell_type": "markdown",
   "metadata": {
    "collapsed": false
   },
   "source": [
    "规则 **Collatz正奇数回归树生成规则(Collatz-Odd-Tree Generation Rule)**:\n",
    "\n",
    "1. 每个节点的长子由 `v(x)=(2*x-1)/3 or (4*x-1)/3` 产生\n",
    "2. 其余每个小兄弟由 `h(x)=4*x+1` 规则迭代陆续产生\n",
    "3. x在完全的Collatz-Odd-Tree中是叶节点 iff (x%3==0)\n",
    "\n",
    "证明3n+1猜想成立也就只需证明Collatz-Odd-Tree中逆向生成了所有的正奇数。\n",
    "显然，从`x0=1`出发，通过 `h(x)=4*x+1` 和 `v(x)=(2*x-1)/3 or (4*x-1)/3` 反复迭代，会生成所有形如4k+1和4k-1的数，即所有正奇数。Collatz猜想证明完毕□"
   ]
  },
  {
   "cell_type": "code",
   "execution_count": 0,
   "metadata": {
    "collapsed": false
   },
   "outputs": [
   ],
   "source": [
   ]
  }
 ],
 "metadata": {
  "kernelspec": {
   "display_name": "SageMath (stable)",
   "language": "sagemath",
   "metadata": {
    "cocalc": {
     "description": "Open-source mathematical software system",
     "priority": 10,
     "url": "https://www.sagemath.org/"
    }
   },
   "name": "sagemath"
  },
  "language_info": {
   "codemirror_mode": {
    "name": "ipython",
    "version": 2
   },
   "file_extension": ".py",
   "mimetype": "text/x-python",
   "name": "python",
   "nbconvert_exporter": "python",
   "pygments_lexer": "ipython2",
   "version": "2.7.15"
  }
 },
 "nbformat": 4,
 "nbformat_minor": 0
}