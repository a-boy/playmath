{
 "cells": [
  {
   "cell_type": "code",
   "execution_count": 25,
   "metadata": {
    "collapsed": false
   },
   "outputs": [
   ],
   "source": [
    "def f(L,S):\n",
    "    return 8*L-2-(S*(S+1)/2)/L\n",
    "def g(L,S):\n",
    "    return 32*L-4-(S*(S+1)/2)/L\n",
    "dict={}\n",
    "for s in (1..10^5):\n",
    "    tri=s*(s+1)/2\n",
    "    q=odd_part(tri)\n",
    "    evenPart=tri/q\n",
    "    for d in q.divisors():\n",
    "        l=evenPart*d\n",
    "        n1=8*l-2-tri/l\n",
    "        if n1>0 :\n",
    "            #print(\"s,l:\",s,l,\":\")\n",
    "            x,y,z=4*l-s-1,4*l+s,2*l*n1\n",
    "            verify=4*x*y*z-n1*(x*y+y*z+z*x)\n",
    "            if (n1%24)==1:\n",
    "                dict[n1]=(x,y,z,verify,'gen1',s,l)\n",
    "                #print(n1,x,y,z,verify,'gen1',s,l,';')\n",
    "\n",
    "        k=evenPart*d\n",
    "        n2=32*k-4-tri/k\n",
    "        if n2>0 :\n",
    "            x,y,z=16*k-2*s-2,16*k+2*s,4*k*n2\n",
    "            verify=4*x*y*z-n2*(x*y+y*z+z*x)\n",
    "            if (n2%24)==1:\n",
    "                dict[n2]=(x,y,z,verify,'gen2',s,k)\n",
    "                #print(n2,x,y,z,verify,'gen2',s,k,';')\n"
   ]
  },
  {
   "cell_type": "code",
   "execution_count": 26,
   "metadata": {
    "collapsed": false,
    "scrolled": true
   },
   "outputs": [
   ],
   "source": [
    "li=list(dict.keys());li.sort();#print(li)\n"
   ]
  },
  {
   "cell_type": "code",
   "execution_count": 27,
   "metadata": {
    "collapsed": false
   },
   "outputs": [
    {
     "data": {
      "text/plain": [
       "{193,\n",
       " 289,\n",
       " 313,\n",
       " 673,\n",
       " 1009,\n",
       " 1033,\n",
       " 1153,\n",
       " 1321,\n",
       " 1489,\n",
       " 1681,\n",
       " 1873,\n",
       " 2161,\n",
       " 2329,\n",
       " 2473,\n",
       " 2521,\n",
       " 2833,\n",
       " 3001,\n",
       " 3361,\n",
       " 3529,\n",
       " 3673,\n",
       " 3889,\n",
       " 4153,\n",
       " 4369,\n",
       " 4513,\n",
       " 4729,\n",
       " 5233,\n",
       " 5329,\n",
       " 5521,\n",
       " 5689,\n",
       " 6001,\n",
       " 6841,\n",
       " 7081,\n",
       " 7369,\n",
       " 7393,\n",
       " 7681,\n",
       " 7921,\n",
       " 8089,\n",
       " 8233,\n",
       " 8353,\n",
       " 8929,\n",
       " 9409,\n",
       " 9433,\n",
       " 9601,\n",
       " 9769,\n",
       " 10081,\n",
       " 10729,\n",
       " 11113,\n",
       " 11593,\n",
       " 12049,\n",
       " 12073,\n",
       " 12409,\n",
       " 12601,\n",
       " 12721,\n",
       " 12769,\n",
       " 12889,\n",
       " 13249,\n",
       " 13441,\n",
       " 13633,\n",
       " 13753,\n",
       " 13921,\n",
       " 14281,\n",
       " 14809,\n",
       " 15073,\n",
       " 15289,\n",
       " 15313,\n",
       " 15601,\n",
       " 16249,\n",
       " 16273,\n",
       " 16633,\n",
       " 16921,\n",
       " 17593,\n",
       " 17833,\n",
       " 17929,\n",
       " 18121,\n",
       " 18169,\n",
       " 18433,\n",
       " 18481,\n",
       " 18769,\n",
       " 18793,\n",
       " 19009,\n",
       " 19153,\n",
       " 19273,\n",
       " 19441,\n",
       " 19489,\n",
       " 19993}"
      ]
     },
     "execution_count": 27,
     "metadata": {
     },
     "output_type": "execute_result"
    }
   ],
   "source": [
    "set(range(25,20000,24)).difference(set(li))"
   ]
  },
  {
   "cell_type": "code",
   "execution_count": 8,
   "metadata": {
    "collapsed": false
   },
   "outputs": [
    {
     "name": "stdout",
     "output_type": "stream",
     "text": [
      "59 : 20 60 885\n"
     ]
    },
    {
     "name": "stdout",
     "output_type": "stream",
     "text": [
      "71 : 20 284 355\n"
     ]
    },
    {
     "name": "stdout",
     "output_type": "stream",
     "text": [
      "43 : 22 22 473\n"
     ]
    },
    {
     "name": "stdout",
     "output_type": "stream",
     "text": [
      "59 : 24 40 885\n"
     ]
    },
    {
     "name": "stdout",
     "output_type": "stream",
     "text": [
      "101 : 28 404 707\n",
      "59 : 30 30 885\n"
     ]
    }
   ],
   "source": [
    "d={2:(2,1,2)};\n",
    "for x in range(20,500,2):\n",
    "    for y in range(x,500,2):\n",
    "        for z in range(19,1000,2):\n",
    "            numerator=4*x*y*z\n",
    "            denomenator=(x*y+y*z+z*x)\n",
    "            if numerator%denomenator==0:\n",
    "                n=numerator // denomenator\n",
    "                if is_prime(n):\n",
    "                    print(n,':',x,y,z)\n",
    "                    d[n]=(x,y,z)\n",
    "print(d)"
   ]
  },
  {
   "cell_type": "code",
   "execution_count": 3,
   "metadata": {
    "collapsed": false
   },
   "outputs": [
    {
     "data": {
      "text/plain": [
       "2^6 * 3"
      ]
     },
     "execution_count": 3,
     "metadata": {
     },
     "output_type": "execute_result"
    }
   ],
   "source": [
    "factor(192)"
   ]
  },
  {
   "cell_type": "code",
   "execution_count": 0,
   "metadata": {
    "collapsed": false
   },
   "outputs": [
   ],
   "source": [
   ]
  }
 ],
 "metadata": {
  "kernelspec": {
   "argv": [
    "sage-10.1",
    "--python",
    "-m",
    "sage.repl.ipython_kernel",
    "--matplotlib=inline",
    "-f",
    "{connection_file}"
   ],
   "display_name": "SageMath 10.1",
   "env": {
   },
   "language": "sagemath",
   "metadata": {
    "cocalc": {
     "description": "Open-source mathematical software system",
     "priority": 10,
     "url": "https://www.sagemath.org/"
    }
   },
   "name": "sage-10.1",
   "resource_dir": "/ext/jupyter/kernels/sage-10.1"
  },
  "language_info": {
   "codemirror_mode": {
    "name": "ipython",
    "version": 3
   },
   "file_extension": ".py",
   "mimetype": "text/x-python",
   "name": "python",
   "nbconvert_exporter": "python",
   "pygments_lexer": "ipython3",
   "version": "3.11.1"
  }
 },
 "nbformat": 4,
 "nbformat_minor": 4
}