{
 "cells": [
  {
   "cell_type": "code",
   "execution_count": 5,
   "metadata": {
    "collapsed": false
   },
   "outputs": [
    {
     "ename": "AttributeError",
     "evalue": "module 'phitigra' has no attribute 'GraphEditor'",
     "output_type": "error",
     "traceback": [
      "\u001b[0;31m---------------------------------------------------------------------------\u001b[0m",
      "\u001b[0;31mAttributeError\u001b[0m                            Traceback (most recent call last)",
      "Cell \u001b[0;32mIn [5], line 2\u001b[0m\n\u001b[1;32m      1\u001b[0m \u001b[38;5;28;01mfrom\u001b[39;00m \u001b[38;5;21;01mphitigra\u001b[39;00m \u001b[38;5;28;01mimport\u001b[39;00m \u001b[38;5;241m*\u001b[39m\n\u001b[0;32m----> 2\u001b[0m editor \u001b[38;5;241m=\u001b[39m \u001b[43mgraph_editor\u001b[49m\u001b[43m(\u001b[49m\u001b[43mgraphs\u001b[49m\u001b[38;5;241;43m.\u001b[39;49m\u001b[43mRandomGNP\u001b[49m\u001b[43m(\u001b[49m\u001b[43mInteger\u001b[49m\u001b[43m(\u001b[49m\u001b[38;5;241;43m10\u001b[39;49m\u001b[43m)\u001b[49m\u001b[43m,\u001b[49m\u001b[43m \u001b[49m\u001b[43mRealNumber\u001b[49m\u001b[43m(\u001b[49m\u001b[38;5;124;43m'\u001b[39;49m\u001b[38;5;124;43m0.5\u001b[39;49m\u001b[38;5;124;43m'\u001b[39;49m\u001b[43m)\u001b[49m\u001b[43m)\u001b[49m\u001b[43m)\u001b[49m\n\u001b[1;32m      3\u001b[0m editor\u001b[38;5;241m.\u001b[39mshow()\n",
      "File \u001b[0;32m/ext/sage/10.0/src/sage/misc/lazy_import.pyx:404\u001b[0m, in \u001b[0;36msage.misc.lazy_import.LazyImport.__call__\u001b[0;34m()\u001b[0m\n\u001b[1;32m    402\u001b[0m         True\n\u001b[1;32m    403\u001b[0m     \"\"\"\n\u001b[0;32m--> 404\u001b[0m     return self.get_object()(*args, **kwds)\n\u001b[1;32m    405\u001b[0m \n\u001b[1;32m    406\u001b[0m def __repr__(self):\n",
      "File \u001b[0;32m/ext/sage/10.0/src/sage/graphs/graph_editor.py:81\u001b[0m, in \u001b[0;36mgraph_editor\u001b[0;34m(graph, **display_options)\u001b[0m\n\u001b[1;32m     78\u001b[0m \u001b[38;5;28;01mif\u001b[39;00m graph \u001b[38;5;129;01mis\u001b[39;00m \u001b[38;5;28;01mNone\u001b[39;00m:\n\u001b[1;32m     79\u001b[0m     graph \u001b[38;5;241m=\u001b[39m Graph(\u001b[38;5;241m0\u001b[39m)\n\u001b[0;32m---> 81\u001b[0m \u001b[38;5;28;01mreturn\u001b[39;00m \u001b[43mGraphEditor\u001b[49m\u001b[43m(\u001b[49m\u001b[43mgraph\u001b[49m\u001b[43m,\u001b[49m\u001b[43m \u001b[49m\u001b[38;5;241;43m*\u001b[39;49m\u001b[38;5;241;43m*\u001b[39;49m\u001b[43mdisplay_options\u001b[49m\u001b[43m)\u001b[49m\n",
      "File \u001b[0;32m/ext/sage/10.0/src/sage/misc/lazy_import.pyx:404\u001b[0m, in \u001b[0;36msage.misc.lazy_import.LazyImport.__call__\u001b[0;34m()\u001b[0m\n\u001b[1;32m    402\u001b[0m         True\n\u001b[1;32m    403\u001b[0m     \"\"\"\n\u001b[0;32m--> 404\u001b[0m     return self.get_object()(*args, **kwds)\n\u001b[1;32m    405\u001b[0m \n\u001b[1;32m    406\u001b[0m def __repr__(self):\n",
      "File \u001b[0;32m/ext/sage/10.0/src/sage/misc/lazy_import.pyx:225\u001b[0m, in \u001b[0;36msage.misc.lazy_import.LazyImport.get_object\u001b[0;34m()\u001b[0m\n\u001b[1;32m    223\u001b[0m     if likely(self._object is not None):\n\u001b[1;32m    224\u001b[0m         return self._object\n\u001b[0;32m--> 225\u001b[0m     return self._get_object()\n\u001b[1;32m    226\u001b[0m \n\u001b[1;32m    227\u001b[0m cpdef _get_object(self):\n",
      "File \u001b[0;32m/ext/sage/10.0/src/sage/misc/lazy_import.pyx:261\u001b[0m, in \u001b[0;36msage.misc.lazy_import.LazyImport._get_object\u001b[0;34m()\u001b[0m\n\u001b[1;32m    259\u001b[0m \n\u001b[1;32m    260\u001b[0m         try:\n\u001b[0;32m--> 261\u001b[0m             self._object = getattr(__import__(self._module, {}, {}, [self._name]), self._name)\n\u001b[1;32m    262\u001b[0m         except ImportError as e:\n\u001b[1;32m    263\u001b[0m             if self._feature:\n",
      "\u001b[0;31mAttributeError\u001b[0m: module 'phitigra' has no attribute 'GraphEditor'"
     ]
    }
   ],
   "source": [
    "from phitigra import *\n",
    "editor = graph_editor(graphs.RandomGNP(10, 0.5))\n",
    "editor.show()"
   ]
  },
  {
   "cell_type": "code",
   "execution_count": 3,
   "metadata": {
    "collapsed": false
   },
   "outputs": [
    {
     "name": "stdout",
     "output_type": "stream",
     "text": [
      "Name: phitigra\r\n",
      "Version: 0.2.6\r\n",
      "Summary: A graph editor for SageMath/Jupyter\r\n",
      "Home-page: https://github.com/jfraymond/phitigra\r\n",
      "Author: Jean-Florent Raymond\r\n",
      "Author-email: j-florent.raymond@uca.fr\r\n",
      "License: \r\n",
      "Location: /home/user/.local/lib/python3.11/site-packages\r\n",
      "Requires: ipycanvas, ipywidgets\r\n",
      "Required-by: \r\n"
     ]
    }
   ],
   "source": [
    "!pip show phitigra "
   ]
  },
  {
   "cell_type": "code",
   "execution_count": 7,
   "metadata": {
    "collapsed": false
   },
   "outputs": [
    {
     "ename": "ImportError",
     "evalue": "cannot import name 'GraphEditor' from 'phitigra' (unknown location)",
     "output_type": "error",
     "traceback": [
      "\u001b[0;31m---------------------------------------------------------------------------\u001b[0m",
      "\u001b[0;31mImportError\u001b[0m                               Traceback (most recent call last)",
      "Cell \u001b[0;32mIn [7], line 1\u001b[0m\n\u001b[0;32m----> 1\u001b[0m \u001b[38;5;28;01mfrom\u001b[39;00m \u001b[38;5;21;01mphitigra\u001b[39;00m \u001b[38;5;28;01mimport\u001b[39;00m GraphEditor\n\u001b[1;32m      2\u001b[0m ed \u001b[38;5;241m=\u001b[39m GraphEditor()\n\u001b[1;32m      3\u001b[0m ed\u001b[38;5;241m.\u001b[39mshow()\n",
      "\u001b[0;31mImportError\u001b[0m: cannot import name 'GraphEditor' from 'phitigra' (unknown location)"
     ]
    }
   ],
   "source": [
    "from phitigra import GraphEditor\n",
    "ed = GraphEditor()\n",
    "ed.show()"
   ]
  },
  {
   "cell_type": "code",
   "execution_count": 0,
   "metadata": {
    "collapsed": false
   },
   "outputs": [
   ],
   "source": [
   ]
  }
 ],
 "metadata": {
  "kernelspec": {
   "argv": [
    "sage-10.0",
    "--python",
    "-m",
    "sage.repl.ipython_kernel",
    "--matplotlib=inline",
    "-f",
    "{connection_file}"
   ],
   "display_name": "SageMath 10.0",
   "env": {
   },
   "language": "sagemath",
   "metadata": {
    "cocalc": {
     "description": "Open-source mathematical software system",
     "priority": 10,
     "url": "https://www.sagemath.org/"
    }
   },
   "name": "sage-10.0",
   "resource_dir": "/ext/jupyter/kernels/sage-10.0"
  },
  "language_info": {
   "codemirror_mode": {
    "name": "ipython",
    "version": 3
   },
   "file_extension": ".py",
   "mimetype": "text/x-python",
   "name": "python",
   "nbconvert_exporter": "python",
   "pygments_lexer": "ipython3",
   "version": "3.11.1"
  }
 },
 "nbformat": 4,
 "nbformat_minor": 4
}