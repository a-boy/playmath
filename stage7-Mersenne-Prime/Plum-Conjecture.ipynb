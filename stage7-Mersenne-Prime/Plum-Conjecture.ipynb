{
 "cells": [
  {
   "cell_type": "markdown",
   "metadata": {
    "collapsed": false
   },
   "source": [
    "# Plum-Conjecture on Mersenne primes\n",
    "\n"
   ]
  },
  {
   "cell_type": "markdown",
   "metadata": {
    "collapsed": false
   },
   "source": [
    "Cody Luo(cody@ustc.edu)  2023-08-10"
   ]
  },
  {
   "cell_type": "markdown",
   "metadata": {
    "collapsed": false
   },
   "source": [
    "**Plum Conjecture**: while $n>1$, and $0< b< \\sqrt{n}-1$, $2^{n^2\\pm b}-1$ is always composite. In other words, the index p of a Mersenne prime 2^p-1 is not too close to some perfect square number."
   ]
  },
  {
   "cell_type": "code",
   "execution_count": 10,
   "metadata": {
    "collapsed": false
   },
   "outputs": [
    {
     "data": {
      "text/plain": [
       "[(1, 1),\n",
       " (1, 2),\n",
       " (2, 1),\n",
       " (2, 3),\n",
       " (3, 4),\n",
       " (4, 1),\n",
       " (4, 3),\n",
       " (5, 6),\n",
       " (7, 12),\n",
       " (9, 8),\n",
       " (10, 7),\n",
       " (11, 6),\n",
       " (22, 37),\n",
       " (24, 31),\n",
       " (35, 54),\n",
       " (46, 87),\n",
       " (47, 72),\n",
       " (56, 81),\n",
       " (65, 28),\n",
       " (66, 67),\n",
       " (98, 85),\n",
       " (99, 140),\n",
       " (105, 188),\n",
       " (141, 56),\n",
       " (147, 92),\n",
       " (152, 105),\n",
       " (210, 397),\n",
       " (293, 394),\n",
       " (332, 279),\n",
       " (363, 280),\n",
       " (464, 795),\n",
       " (869, 1678),\n",
       " (927, 104),\n",
       " (1121, 1146),\n",
       " (1182, 1145),\n",
       " (1725, 596),\n",
       " (1738, 733),\n",
       " (2640, 2993),\n",
       " (3669, 5356),\n",
       " (4582, 1287),\n",
       " (4902, 6979),\n",
       " (5095, 5926),\n",
       " (5513, 9288),\n",
       " (5708, 1393),\n",
       " (6095, 7642),\n",
       " (6530, 2901),\n",
       " (6566, 253),\n",
       " (7608, 3497),\n",
       " (8614, 6285),\n",
       " (8788, 3973),\n",
       " (9087, 16364)]"
      ]
     },
     "execution_count": 10,
     "metadata": {
     },
     "output_type": "execute_result"
    }
   ],
   "source": [
    "a=[2, 3, 5, 7, 13, 17, 19, 31, 61, 89, 107, 127, 521, 607, 1279, 2203, 2281, 3217, 4253, 4423, 9689, 9941, 11213, 19937, 21701, 23209, 44497, 86243, 110503, 132049, 216091, 756839, 859433, 1257787, 1398269, 2976221, 3021377, 6972593, 13466917, 20996011, 24036583, 25964951, 30402457, 32582657, 37156667, 42643801, 43112609, 57885161, 74207281, 77232917, 82589933]\n",
    "[(floor (sqrt (p)),p-floor (sqrt (p))^2) for p in a]\n",
    "#[(floor (sqrt (p)),p-ceil(sqrt (p))^2) for p in a]"
   ]
  },
  {
   "cell_type": "code",
   "execution_count": 0,
   "metadata": {
    "collapsed": false
   },
   "outputs": [
   ],
   "source": [
   ]
  },
  {
   "cell_type": "markdown",
   "metadata": {
    "collapsed": false
   },
   "source": [
    "links:\n",
    "1. https://math.stackexchange.com/questions/4750543"
   ]
  },
  {
   "cell_type": "code",
   "execution_count": 0,
   "metadata": {
    "collapsed": false
   },
   "outputs": [
   ],
   "source": [
   ]
  }
 ],
 "metadata": {
  "kernelspec": {
   "argv": [
    "sage-9.8",
    "--python",
    "-m",
    "sage.repl.ipython_kernel",
    "--matplotlib=inline",
    "-f",
    "{connection_file}"
   ],
   "display_name": "SageMath 9.8",
   "env": {
   },
   "language": "sagemath",
   "metadata": {
    "cocalc": {
     "description": "Open-source mathematical software system",
     "priority": 1,
     "url": "https://www.sagemath.org/"
    }
   },
   "name": "sage-9.8",
   "resource_dir": "/ext/jupyter/kernels/sage-9.8"
  },
  "language_info": {
   "codemirror_mode": {
    "name": "ipython",
    "version": 3
   },
   "file_extension": ".py",
   "mimetype": "text/x-python",
   "name": "python",
   "nbconvert_exporter": "python",
   "pygments_lexer": "ipython3",
   "version": "3.11.1"
  }
 },
 "nbformat": 4,
 "nbformat_minor": 4
}