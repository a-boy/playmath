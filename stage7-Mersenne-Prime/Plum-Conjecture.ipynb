{
 "cells": [
  {
   "cell_type": "markdown",
   "metadata": {
    "collapsed": false
   },
   "source": [
    "# Plum-Conjecture on Mersenne primes\n",
    "\n"
   ]
  },
  {
   "cell_type": "markdown",
   "metadata": {
    "collapsed": false
   },
   "source": [
    "Cody Luo(cody@ustc.edu)  2023-08-10"
   ]
  },
  {
   "cell_type": "markdown",
   "metadata": {
    "collapsed": false
   },
   "source": [
    "**Plum Conjecture**: when $n>1$ and $0< b< \\sqrt{n}-1$,  $2^{n^2\\pm b}-1$ is always composite. That is to say, the index `p` of a Mersenne prime $2^p-1$ is not too close to some perfect square number.\n",
    "\n",
    "**梅花猜想**：当 $n>1$且 $0< b< \\sqrt{n}-1$ 时，$2^{n^2\\pm b}-1$ 始终是合数。 也就是说，梅森素数$2^p-1$  的下标p不会太接近某个完全平方数。\n"
   ]
  },
  {
   "cell_type": "markdown",
   "metadata": {
    "collapsed": false
   },
   "source": [
    "I try to write the index `p` of all known Mersenne primes($2^p-1$) as $p=n^2\\pm b$, here $n=  \\left[ \\sqrt{p} \\right]$. I observed that `b` is not very small relative to `n`. So I proposed this conjecture.\n",
    "\n"
   ]
  },
  {
   "cell_type": "code",
   "execution_count": 2,
   "metadata": {
    "collapsed": false
   },
   "outputs": [
    {
     "data": {
      "text/plain": [
       "[(1, 1, 1, 2, -2),\n",
       " (1, 2, 1, 2, -1),\n",
       " (2, 1, 1, 3, -4),\n",
       " (2, 3, 1, 3, -2),\n",
       " (3, 4, 1, 4, -3),\n",
       " (4, 1, 2, 5, -8),\n",
       " (4, 3, 2, 5, -6),\n",
       " (5, 6, 2, 6, -5),\n",
       " (7, 12, 2, 8, -3),\n",
       " (9, 8, 3, 10, -11),\n",
       " (10, 7, 3, 11, -14),\n",
       " (11, 6, 3, 12, -17),\n",
       " (22, 37, 4, 23, -8),\n",
       " (24, 31, 4, 25, -18),\n",
       " (35, 54, 5, 36, -17),\n",
       " (46, 87, 6, 47, -6),\n",
       " (47, 72, 6, 48, -23),\n",
       " (56, 81, 7, 57, -32),\n",
       " (65, 28, 8, 66, -103),\n",
       " (66, 67, 8, 67, -66),\n",
       " (98, 85, 9, 99, -112),\n",
       " (99, 140, 9, 100, -59),\n",
       " (105, 188, 10, 106, -23),\n",
       " (141, 56, 11, 142, -227),\n",
       " (147, 92, 12, 148, -203),\n",
       " (152, 105, 12, 153, -200),\n",
       " (210, 397, 14, 211, -24),\n",
       " (293, 394, 17, 294, -193),\n",
       " (332, 279, 18, 333, -386),\n",
       " (363, 280, 19, 364, -447),\n",
       " (464, 795, 21, 465, -134),\n",
       " (869, 1678, 29, 870, -61),\n",
       " (927, 104, 30, 928, -1751),\n",
       " (1121, 1146, 33, 1122, -1097),\n",
       " (1182, 1145, 34, 1183, -1220),\n",
       " (1725, 596, 41, 1726, -2855),\n",
       " (1738, 733, 41, 1739, -2744),\n",
       " (2640, 2993, 51, 2641, -2288),\n",
       " (3669, 5356, 60, 3670, -1983),\n",
       " (4582, 1287, 67, 4583, -7878),\n",
       " (4902, 6979, 70, 4903, -2826),\n",
       " (5095, 5926, 71, 5096, -4265),\n",
       " (5513, 9288, 74, 5514, -1739),\n",
       " (5708, 1393, 75, 5709, -10024),\n",
       " (6095, 7642, 78, 6096, -4549),\n",
       " (6530, 2901, 80, 6531, -10160),\n",
       " (6566, 253, 81, 6567, -12880),\n",
       " (7608, 3497, 87, 7609, -11720),\n",
       " (8614, 6285, 92, 8615, -10944),\n",
       " (8788, 3973, 93, 8789, -13604),\n",
       " (9087, 16364, 95, 9088, -1811)]"
      ]
     },
     "execution_count": 2,
     "metadata": {
     },
     "output_type": "execute_result"
    }
   ],
   "source": [
    "a=[2, 3, 5, 7, 13, 17, 19, 31, 61, 89, 107, 127, 521, 607, 1279, 2203, 2281, 3217, 4253, 4423, 9689, 9941, 11213, 19937, 21701, 23209, 44497, 86243, 110503, 132049, 216091, 756839, 859433, 1257787, 1398269, 2976221, 3021377, 6972593, 13466917, 20996011, 24036583, 25964951, 30402457, 32582657, 37156667, 42643801, 43112609, 57885161, 74207281, 77232917, 82589933]\n",
    "[(floor(sqrt(p)),p-floor (sqrt (p))^2, floor(p^(1/4)), ceil(sqrt(p)), p-ceil(sqrt (p))^2) for p in a]"
   ]
  },
  {
   "cell_type": "code",
   "execution_count": 0,
   "metadata": {
    "collapsed": false
   },
   "outputs": [
   ],
   "source": [
   ]
  },
  {
   "cell_type": "markdown",
   "metadata": {
    "collapsed": false
   },
   "source": [
    "links:\n",
    "1. https://math.stackexchange.com/questions/4750543"
   ]
  },
  {
   "cell_type": "code",
   "execution_count": 0,
   "metadata": {
    "collapsed": false
   },
   "outputs": [
   ],
   "source": [
   ]
  }
 ],
 "metadata": {
  "kernelspec": {
   "argv": [
    "sage-9.8",
    "--python",
    "-m",
    "sage.repl.ipython_kernel",
    "--matplotlib=inline",
    "-f",
    "{connection_file}"
   ],
   "display_name": "SageMath 9.8",
   "env": {
   },
   "language": "sagemath",
   "metadata": {
    "cocalc": {
     "description": "Open-source mathematical software system",
     "priority": 1,
     "url": "https://www.sagemath.org/"
    }
   },
   "name": "sage-9.8",
   "resource_dir": "/ext/jupyter/kernels/sage-9.8"
  },
  "language_info": {
   "codemirror_mode": {
    "name": "ipython",
    "version": 3
   },
   "file_extension": ".py",
   "mimetype": "text/x-python",
   "name": "python",
   "nbconvert_exporter": "python",
   "pygments_lexer": "ipython3",
   "version": "3.11.1"
  }
 },
 "nbformat": 4,
 "nbformat_minor": 4
}