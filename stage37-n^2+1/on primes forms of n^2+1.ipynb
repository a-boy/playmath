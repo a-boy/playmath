{
 "cells": [
  {
   "cell_type": "code",
   "execution_count": 1,
   "metadata": {
    "collapsed": false
   },
   "outputs": [
    {
     "data": {
      "text/plain": [
       "((x^2 + 1)^2 + 1)^2 + 1"
      ]
     },
     "execution_count": 1,
     "metadata": {
     },
     "output_type": "execute_result"
    }
   ],
   "source": [
    "def f(x): return x^2 + 1\n",
    "x = var('x')\n",
    "nest(f, 3, x)"
   ]
  },
  {
   "cell_type": "code",
   "execution_count": 15,
   "metadata": {
    "collapsed": false
   },
   "outputs": [
    {
     "data": {
      "text/plain": [
       "x^64 + 32*x^62 + 512*x^60 + 5440*x^58 + 43048*x^56 + 269920*x^54 + 1393728*x^52 + 6082752*x^50 + 22860480*x^48 + 75010560*x^46 + 217147904*x^44 + 559090688*x^42 + 1288268752*x^40 + 2669362240*x^38 + 4991748736*x^36 + 8446437504*x^34 + 12954337482*x^32 + 18024590496*x^30 + 22754454784*x^28 + 26044183104*x^26 + 26984838984*x^24 + 25246632288*x^22 + 21251693376*x^20 + 16015597248*x^18 + 10734296112*x^16 + 6342205824*x^14 + 3264101376*x^12 + 1439520512*x^10 + 531441232*x^8 + 158572864*x^6 + 36109952*x^4 + 5632640*x^2 + 458330"
      ]
     },
     "execution_count": 15,
     "metadata": {
     },
     "output_type": "execute_result"
    }
   ],
   "source": [
    "factor(nest(f, 6, x))"
   ]
  },
  {
   "cell_type": "code",
   "execution_count": 26,
   "metadata": {
    "collapsed": false,
    "scrolled": true
   },
   "outputs": [
    {
     "data": {
      "text/plain": [
       "[(1, 26),\n",
       " (2, 677),\n",
       " (3, 10202),\n",
       " (4, 84101),\n",
       " (5, 458330),\n",
       " (6, 1876901),\n",
       " (7, 6255002),\n",
       " (8, 17859077),\n",
       " (9, 45225626)]"
      ]
     },
     "execution_count": 26,
     "metadata": {
     },
     "output_type": "execute_result"
    }
   ],
   "source": [
    "[(x,nest(f, 3, x)) for x in range(1,10)]"
   ]
  },
  {
   "cell_type": "code",
   "execution_count": 5,
   "metadata": {
    "collapsed": false,
    "scrolled": true
   },
   "outputs": [
    {
     "data": {
      "text/plain": [
       "[121, 239]"
      ]
     },
     "execution_count": 5,
     "metadata": {
     },
     "output_type": "execute_result"
    }
   ],
   "source": [
    "\n",
    "[x for x in range(100,300) if is_prime(nest(f, 6, x))]"
   ]
  },
  {
   "cell_type": "code",
   "execution_count": 11,
   "metadata": {
    "collapsed": false
   },
   "outputs": [
    {
     "name": "stdout",
     "output_type": "stream",
     "text": [
      "2 33\n",
      "3 22\n",
      "4 40\n",
      "5 88\n",
      "6 2\n",
      "7 5\n",
      "8 26\n",
      "9 54\n",
      "10 69\n",
      "11 45\n",
      "12 68\n",
      "13 86\n",
      "14 10\n",
      "15 12\n",
      "16 56\n",
      "17 22\n",
      "18 40\n",
      "19 88\n",
      "20 2\n",
      "21 5\n",
      "22 26\n",
      "23 54\n",
      "24 69\n",
      "25 45\n",
      "26 68\n",
      "27 86\n",
      "28 10\n",
      "29 12\n",
      "30 56\n",
      "31 22\n",
      "32 40\n",
      "33 88\n",
      "34 2\n",
      "35 5\n",
      "36 26\n",
      "37 54\n",
      "38 69\n",
      "39 45\n",
      "40 68\n",
      "41 86\n",
      "42 10\n",
      "43 12\n",
      "44 56\n",
      "45 22\n",
      "46 40\n",
      "47 88\n",
      "48 2\n",
      "49 5\n",
      "50 26\n"
     ]
    }
   ],
   "source": [
    "s=11\n",
    "n=1\n",
    "while n<50:\n",
    "    n+=1\n",
    "    s=(s^2+1)%89\n",
    "    print(n,s)"
   ]
  },
  {
   "cell_type": "code",
   "execution_count": 20,
   "metadata": {
    "collapsed": false
   },
   "outputs": [
    {
     "data": {
      "text/plain": [
       "True"
      ]
     },
     "execution_count": 20,
     "metadata": {
     },
     "output_type": "execute_result"
    }
   ],
   "source": [
    "is_pseudoprime(17)"
   ]
  },
  {
   "cell_type": "code",
   "execution_count": 0,
   "metadata": {
    "collapsed": false
   },
   "outputs": [
   ],
   "source": [
   ]
  }
 ],
 "metadata": {
  "kernelspec": {
   "argv": [
    "sage-9.8",
    "--python",
    "-m",
    "sage.repl.ipython_kernel",
    "--matplotlib=inline",
    "-f",
    "{connection_file}"
   ],
   "display_name": "SageMath 9.8",
   "env": {
   },
   "language": "sagemath",
   "metadata": {
    "cocalc": {
     "description": "Open-source mathematical software system",
     "priority": 1,
     "url": "https://www.sagemath.org/"
    }
   },
   "name": "sage-9.8",
   "resource_dir": "/ext/jupyter/kernels/sage-9.8"
  },
  "language_info": {
   "codemirror_mode": {
    "name": "ipython",
    "version": 3
   },
   "file_extension": ".py",
   "mimetype": "text/x-python",
   "name": "python",
   "nbconvert_exporter": "python",
   "pygments_lexer": "ipython3",
   "version": "3.11.1"
  }
 },
 "nbformat": 4,
 "nbformat_minor": 4
}