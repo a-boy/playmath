{
 "cells": [
  {
   "cell_type": "markdown",
   "metadata": {
    "collapsed": false
   },
   "source": [
    "# Matrix on Ramsey Numbers\n",
    "\n",
    "Cody Luo\\([cody@ustc.edu](mailto:cody@ustc.edu)\\) 2023\\-07\\-18\n"
   ]
  },
  {
   "cell_type": "markdown",
   "metadata": {
    "collapsed": false
   },
   "source": [
    "Denote `s(k,v):=RamseyNumber(k+1,v+1)-1`. \n",
    "\n",
    "\n"
   ]
  },
  {
   "cell_type": "code",
   "execution_count": 2,
   "metadata": {
    "collapsed": false
   },
   "outputs": [
   ],
   "source": [
    "var('x s35 s44 s45 s55')\n",
    "S=matrix([[1,2,3,4,5],\n",
    "          [2,5,8,13,17],\n",
    "          [3,8,17,24,s35],\n",
    "          [4,13,24,s44,s45],\n",
    "          [5,17,s35,s45,s55]])"
   ]
  },
  {
   "cell_type": "code",
   "execution_count": 12,
   "metadata": {
    "collapsed": false
   },
   "outputs": [
    {
     "data": {
      "text/plain": [
       "(1,\n",
       " 4,\n",
       " 4*s44 - 168,\n",
       " -s35^2*s44 + 41*s35^2 + 58*s35*s44 + 4*s35*s45 - 4*s45^2 + 4*s44*s55 - 2598*s35 - 1137*s44 + 324*s45 - 168*s55 + 41193)"
      ]
     },
     "execution_count": 12,
     "metadata": {
     },
     "output_type": "execute_result"
    }
   ],
   "source": [
    "(det(S.submatrix(0,0,2,2)),det(S.submatrix(0,0,3,3)),det(S.submatrix(0,0,4,4)),det(S) )"
   ]
  },
  {
   "cell_type": "code",
   "execution_count": 8,
   "metadata": {
    "collapsed": false
   },
   "outputs": [
    {
     "data": {
      "text/plain": [
       "[0, 4, 8, 12, 16, 20]"
      ]
     },
     "execution_count": 8,
     "metadata": {
     },
     "output_type": "execute_result"
    }
   ],
   "source": [
    "[4*y - 168 for y in range(42,48)]"
   ]
  },
  {
   "cell_type": "markdown",
   "metadata": {
    "collapsed": false
   },
   "source": [
    "If RamseyNumber(5,5) is 43, then det(S.submatrix(0,0,3,3))==0, it is weird! So I think RamseyNumber(5,5)>43"
   ]
  },
  {
   "cell_type": "code",
   "execution_count": 11,
   "metadata": {
    "collapsed": false
   },
   "outputs": [
    {
     "name": "stdout",
     "output_type": "stream",
     "text": [
      "[1 2 3]\n",
      "[2 5 8]\n",
      "[3 8 x]\n"
     ]
    },
    {
     "data": {
      "text/plain": [
       "x - 13"
      ]
     },
     "execution_count": 11,
     "metadata": {
     },
     "output_type": "execute_result"
    }
   ],
   "source": [
    "m=S.submatrix(0,0,3,3)\n",
    "m[2,2]=x;print(m)\n",
    "det(m)\n"
   ]
  },
  {
   "cell_type": "code",
   "execution_count": 0,
   "metadata": {
    "collapsed": false
   },
   "outputs": [
   ],
   "source": [
   ]
  }
 ],
 "metadata": {
  "kernelspec": {
   "argv": [
    "sage-9.8",
    "--python",
    "-m",
    "sage.repl.ipython_kernel",
    "--matplotlib=inline",
    "-f",
    "{connection_file}"
   ],
   "display_name": "SageMath 9.8",
   "env": {
   },
   "language": "sagemath",
   "metadata": {
    "cocalc": {
     "description": "Open-source mathematical software system",
     "priority": 1,
     "url": "https://www.sagemath.org/"
    }
   },
   "name": "sage-9.8",
   "resource_dir": "/ext/jupyter/kernels/sage-9.8"
  },
  "language_info": {
   "codemirror_mode": {
    "name": "ipython",
    "version": 3
   },
   "file_extension": ".py",
   "mimetype": "text/x-python",
   "name": "python",
   "nbconvert_exporter": "python",
   "pygments_lexer": "ipython3",
   "version": "3.11.1"
  }
 },
 "nbformat": 4,
 "nbformat_minor": 4
}