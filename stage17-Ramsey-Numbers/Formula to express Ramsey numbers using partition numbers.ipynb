{
 "cells": [
  {
   "cell_type": "markdown",
   "metadata": {
    "collapsed": false
   },
   "source": [
    "# Formula to express Ramsey numbers using partition numbers\n",
    "\n",
    "JiangLin Luo \\([cody@ustc.edu](mailto:cody@ustc.edu)\\) \n",
    "\n",
    "2023\\-11\\-22, 2023\\-11\\-23\n"
   ]
  },
  {
   "cell_type": "markdown",
   "metadata": {
    "collapsed": false
   },
   "source": [
    "**Abstract:** Fence Conjecture: Ramsey Number $R(m+1,n+1)-1=(2m+1)*p(2m-3+n,m+1)±\\{0,m,m+1\\}, \\text{for } 2<=m<=n$ . Here $p(n,k)$ denote the number of partitions of $n$ into exactly $k$ parts \\(that is, sums of $k$ positive integers that add to $n$\\). The last summand chooses one from five integers.\n",
    "\n",
    "R\\(n,n\\)= 2^\\(n\\+1\\)\\-4n\\+2 = 2\\*A183155\\(n\\-1\\), R\\(n,n\\) is just double of the number of dominating sets in the n\\-path complement graph.\n",
    "\n"
   ]
  },
  {
   "cell_type": "markdown",
   "metadata": {
    "collapsed": false
   },
   "source": [
    "## Intrduction\n",
    "\n"
   ]
  },
  {
   "cell_type": "code",
   "execution_count": 1,
   "metadata": {
    "collapsed": false
   },
   "outputs": [
    {
     "name": "stdout",
     "output_type": "stream",
     "text": [
      "[  1   0   0   0   0   0   0   0   0   0   0   0   0   0   0   0   0   0   0   0   0   0   0   0   0   0   0   0   0   0]\n",
      "[  0   1   0   0   0   0   0   0   0   0   0   0   0   0   0   0   0   0   0   0   0   0   0   0   0   0   0   0   0   0]\n",
      "[  0   1   1   0   0   0   0   0   0   0   0   0   0   0   0   0   0   0   0   0   0   0   0   0   0   0   0   0   0   0]\n",
      "[  0   1   1   1   0   0   0   0   0   0   0   0   0   0   0   0   0   0   0   0   0   0   0   0   0   0   0   0   0   0]\n",
      "[  0   1   2   1   1   0   0   0   0   0   0   0   0   0   0   0   0   0   0   0   0   0   0   0   0   0   0   0   0   0]\n",
      "[  0   1   2   2   1   1   0   0   0   0   0   0   0   0   0   0   0   0   0   0   0   0   0   0   0   0   0   0   0   0]\n",
      "[  0   1   3   3   2   1   1   0   0   0   0   0   0   0   0   0   0   0   0   0   0   0   0   0   0   0   0   0   0   0]\n",
      "[  0   1   3   4   3   2   1   1   0   0   0   0   0   0   0   0   0   0   0   0   0   0   0   0   0   0   0   0   0   0]\n",
      "[  0   1   4   5   5   3   2   1   1   0   0   0   0   0   0   0   0   0   0   0   0   0   0   0   0   0   0   0   0   0]\n",
      "[  0   1   4   7   6   5   3   2   1   1   0   0   0   0   0   0   0   0   0   0   0   0   0   0   0   0   0   0   0   0]\n",
      "[  0   1   5   8   9   7   5   3   2   1   1   0   0   0   0   0   0   0   0   0   0   0   0   0   0   0   0   0   0   0]\n",
      "[  0   1   5  10  11  10   7   5   3   2   1   1   0   0   0   0   0   0   0   0   0   0   0   0   0   0   0   0   0   0]\n",
      "[  0   1   6  12  15  13  11   7   5   3   2   1   1   0   0   0   0   0   0   0   0   0   0   0   0   0   0   0   0   0]\n",
      "[  0   1   6  14  18  18  14  11   7   5   3   2   1   1   0   0   0   0   0   0   0   0   0   0   0   0   0   0   0   0]\n",
      "[  0   1   7  16  23  23  20  15  11   7   5   3   2   1   1   0   0   0   0   0   0   0   0   0   0   0   0   0   0   0]\n",
      "[  0   1   7  19  27  30  26  21  15  11   7   5   3   2   1   1   0   0   0   0   0   0   0   0   0   0   0   0   0   0]\n",
      "[  0   1   8  21  34  37  35  28  22  15  11   7   5   3   2   1   1   0   0   0   0   0   0   0   0   0   0   0   0   0]\n",
      "[  0   1   8  24  39  47  44  38  29  22  15  11   7   5   3   2   1   1   0   0   0   0   0   0   0   0   0   0   0   0]\n",
      "[  0   1   9  27  47  57  58  49  40  30  22  15  11   7   5   3   2   1   1   0   0   0   0   0   0   0   0   0   0   0]\n",
      "[  0   1   9  30  54  70  71  65  52  41  30  22  15  11   7   5   3   2   1   1   0   0   0   0   0   0   0   0   0   0]\n",
      "[  0   1  10  33  64  84  90  82  70  54  42  30  22  15  11   7   5   3   2   1   1   0   0   0   0   0   0   0   0   0]\n",
      "[  0   1  10  37  72 101 110 105  89  73  55  42  30  22  15  11   7   5   3   2   1   1   0   0   0   0   0   0   0   0]\n",
      "[  0   1  11  40  84 119 136 131 116  94  75  56  42  30  22  15  11   7   5   3   2   1   1   0   0   0   0   0   0   0]\n",
      "[  0   1  11  44  94 141 163 164 146 123  97  76  56  42  30  22  15  11   7   5   3   2   1   1   0   0   0   0   0   0]\n",
      "[  0   1  12  48 108 164 199 201 186 157 128  99  77  56  42  30  22  15  11   7   5   3   2   1   1   0   0   0   0   0]\n",
      "[  0   1  12  52 120 192 235 248 230 201 164 131 100  77  56  42  30  22  15  11   7   5   3   2   1   1   0   0   0   0]\n",
      "[  0   1  13  56 136 221 282 300 288 252 212 169 133 101  77  56  42  30  22  15  11   7   5   3   2   1   1   0   0   0]\n",
      "[  0   1  13  61 150 255 331 364 352 318 267 219 172 134 101  77  56  42  30  22  15  11   7   5   3   2   1   1   0   0]\n",
      "[  0   1  14  65 169 291 391 436 434 393 340 278 224 174 135 101  77  56  42  30  22  15  11   7   5   3   2   1   1   0]\n",
      "[  0   1  14  70 185 333 454 522 525 488 423 355 285 227 175 135 101  77  56  42  30  22  15  11   7   5   3   2   1   1]\n"
     ]
    }
   ],
   "source": [
    "def p(n,k):\n",
    "    return Partitions(n,length=k).cardinality()\n",
    "P=matrix(ZZ,30,30,lambda n,k:p(n,k))\n",
    "print(P)"
   ]
  },
  {
   "cell_type": "markdown",
   "metadata": {
    "collapsed": false
   },
   "source": [
   ]
  },
  {
   "cell_type": "code",
   "execution_count": 3,
   "metadata": {
    "collapsed": false
   },
   "outputs": [
    {
     "name": "stdout",
     "output_type": "stream",
     "text": [
      "[[5, 5, 10, 15, 20, 25, 35, 40, 50, 60, 70, 80, 95, 105], [14, 21, 35, 42, 63, 77, 105, 126, 161, 189, 238, 273, 329], [45, 63, 90, 117, 162, 207, 270, 333, 423, 513, 630, 756], [121, 154, 220, 286, 385, 484, 638, 781, 990, 1210, 1496], [273, 364, 494, 637, 845, 1066, 1365, 1703, 2132, 2613], [600, 780, 1050, 1335, 1740, 2190, 2790, 3450, 4320], [1241, 1598, 2091, 2669, 3417, 4284, 5406, 6681], [2432, 3116, 4028, 5073, 6460, 8037, 10070], [4599, 5838, 7455, 9345, 11760, 14595], [8418, 10580, 13386, 16675, 20815], [14925, 18675, 23375, 28950], [25839, 32076, 39906], [43732, 53969], [72509]]\n"
     ]
    }
   ],
   "source": [
    "top=15\n",
    "#mat=matrix(ZZ, top-3+1, [(2*m - 1)*p(2*m - 6 + n, m) for m in [3..top] for n in [3..top]]);\n",
    "#print(m)\n",
    "data=[[(2*m+1)*p(2*m-3+n,m+1) for n in (m..top)] for m in (2..top)]\n",
    "print(data)"
   ]
  },
  {
   "cell_type": "markdown",
   "metadata": {
    "collapsed": false
   },
   "source": [
    "$R(3,n)=1+5*p(n,3)±\\{0,2,3\\}, \\text{for } 3<=n$ .\n"
   ]
  },
  {
   "cell_type": "code",
   "execution_count": 40,
   "metadata": {
    "collapsed": false
   },
   "outputs": [
    {
     "name": "stdout",
     "output_type": "stream",
     "text": [
      "[(0, 0), (0, 2), (1, 0), (1, 3), (2, 3), (3, 2), (4, 2), (5, 2), (7, 0), (8, 0)]\n"
     ]
    }
   ],
   "source": [
    "R3n=[1,3,6,9,14,18,23,28,36,41]\n",
    "s=[divmod(r-1,5) for r in R3n]\n",
    "print(s)"
   ]
  },
  {
   "cell_type": "code",
   "execution_count": 0,
   "metadata": {
    "collapsed": false
   },
   "outputs": [
   ],
   "source": [
   ]
  }
 ],
 "metadata": {
  "kernelspec": {
   "argv": [
    "sage-10.1",
    "--python",
    "-m",
    "sage.repl.ipython_kernel",
    "--matplotlib=inline",
    "-f",
    "{connection_file}"
   ],
   "display_name": "SageMath 10.1",
   "env": {
   },
   "language": "sagemath",
   "metadata": {
    "cocalc": {
     "description": "Open-source mathematical software system",
     "priority": 10,
     "url": "https://www.sagemath.org/"
    }
   },
   "name": "sage-10.1",
   "resource_dir": "/ext/jupyter/kernels/sage-10.1"
  },
  "language_info": {
   "codemirror_mode": {
    "name": "ipython",
    "version": 3
   },
   "file_extension": ".py",
   "mimetype": "text/x-python",
   "name": "python",
   "nbconvert_exporter": "python",
   "pygments_lexer": "ipython3",
   "version": "3.11.1"
  }
 },
 "nbformat": 4,
 "nbformat_minor": 4
}