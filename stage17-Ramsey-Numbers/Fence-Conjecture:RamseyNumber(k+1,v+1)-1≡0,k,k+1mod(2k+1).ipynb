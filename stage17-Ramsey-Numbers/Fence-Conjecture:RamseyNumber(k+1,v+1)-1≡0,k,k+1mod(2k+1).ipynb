{
 "cells": [
  {
   "cell_type": "markdown",
   "metadata": {
    "collapsed": false
   },
   "source": [
    "# Fence-Conjecture:RamseyNumber(k+1,v+1)-1≡0,k,k+1mod(2k+1)\n",
    "\n"
   ]
  },
  {
   "cell_type": "markdown",
   "metadata": {
    "collapsed": false
   },
   "source": [
    "Jianglin Luo (cody@ustc.edu) 2023-08-31"
   ]
  },
  {
   "cell_type": "markdown",
   "metadata": {
    "collapsed": false
   },
   "source": [
    "Denote `S(k,v):=RamseyNumber(k+1,v+1)-1`. Since `S(k,v)==S(v,k)`, we suppose `v>=k`. \n",
    "\n",
    "When constructing the critical Ramsey graph for S(2,v), I guess that the s(2,v) vertices can layout in 2 or 3 staggered ways. This means S(2,v)%5 ∈{0,2,3}, and R(3,n) can NOT be the form 5*m or 5*m+2. All known small Ramsey numbers match.\n",
    "\n",
    "```\n",
    "  o o o o o o o\n",
    "  o   o   o   o \n",
    "  o o o o o o o\n",
    "```\n",
    "```\n",
    "R(3,n)\n",
    "{6 ,9 ,14 ,18 ,23,28 ,36 ,40–42,46–51\n",
    "```\n",
    "According to this conjecture, R(3,10) will be 41.\n",
    "\n"
   ]
  },
  {
   "cell_type": "markdown",
   "metadata": {
    "collapsed": false
   },
   "source": [
    "Someday around 2010, I formulated the conjecture of the above. Today(2023-08-31), when I rethink these, I notice `S(3,3)%7=17%7=3` and `s(3,4)%7=24%7=3`, So I further guess `s(k,v)%(2k+1) ∈{0,k,k+1} for k>1 and v>=k` .\n",
    "\n",
    "**Fence-Conjecture**:`RamseyNumber(k+1,v+1)-1≡0,k,k+1mod(2k+1) , for k>1 and v>=k`. The s(2,v) vertices of the critical Ramsey Graph  can  layout in `k` or `k+1` staggered ways.\n",
    "\n"
   ]
  },
  {
   "cell_type": "markdown",
   "metadata": {
    "collapsed": false
   },
   "source": [
    "```\n",
    "R(4,4):18  R(4,4):25 R(4,6):36–40  R(4,7):49–58 \n",
    "R(5,5):43–48 \tR(5,6):58–85 \n",
    "R(6,6):102–161\n",
    "```\n",
    "If my Fence-Conjecture is TRUE, `R(5,n)%9 in {1,5,6}, R(6,n)%11 in {1,6,7}`, we will determine `R(5,5)=46, R(6,6)>=105`."
   ]
  },
  {
   "cell_type": "code",
   "execution_count": 0,
   "metadata": {
    "collapsed": false
   },
   "outputs": [
   ],
   "source": [
   ]
  }
 ],
 "metadata": {
  "kernelspec": {
   "argv": [
    "sage-10.0",
    "--python",
    "-m",
    "sage.repl.ipython_kernel",
    "--matplotlib=inline",
    "-f",
    "{connection_file}"
   ],
   "display_name": "SageMath 10.0",
   "env": {
   },
   "language": "sagemath",
   "metadata": {
    "cocalc": {
     "description": "Open-source mathematical software system",
     "priority": 10,
     "url": "https://www.sagemath.org/"
    }
   },
   "name": "sage-10.0",
   "resource_dir": "/ext/jupyter/kernels/sage-10.0"
  }
 },
 "nbformat": 4,
 "nbformat_minor": 4
}