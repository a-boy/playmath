{
 "cells": [
  {
   "cell_type": "markdown",
   "metadata": {
    "collapsed": false
   },
   "source": [
    "# Fence-Conjecture:RamseyNumber(k+1,v+1)-1≡0,k,k+1mod(2k+1)\n",
    "\n"
   ]
  },
  {
   "cell_type": "markdown",
   "metadata": {
    "collapsed": false
   },
   "source": [
    "Jianglin Luo (cody@ustc.edu) 2023-08-31"
   ]
  },
  {
   "cell_type": "markdown",
   "metadata": {
    "collapsed": false
   },
   "source": [
    "Denote `S(k,v):=RamseyNumber(k+1,v+1)-1`. Since `S(k,v)==S(v,k)`, we suppose `v>=k`. \n",
    "\n",
    "I guess, When constructing the critical Ramsey graph for R(3,v+1), the S(2,v) vertices can be laid out interlacing with 2 vertices and 3 vertices. This means `S(2,v)%5 ∈{0,2,3}`, or to say `R(3,n)` can NOT be the form `5m` or `5m+2`. All known small Ramsey numbers R(3,n) match.\n",
    "\n",
    "```\n",
    "  o o o o o o o\n",
    "  o   o   o   o \n",
    "  o o o o o o o\n",
    "```\n",
    "\n",
    "```\n",
    "R(3,n)\n",
    "{6 ,9 ,14 ,18 ,23,28 ,36 ,40–42,46–51,...}\n",
    "```"
   ]
  },
  {
   "cell_type": "markdown",
   "metadata": {
    "collapsed": false
   },
   "source": [
    "Someday around 2010, I formulated the above. Today(2023-08-31), when I rethink these, I notice `S(3,3)%7=17%7=3` and `s(3,4)%7=24%7=3`, So I further guess `s(k,v)%(2k+1) ∈{0,k,k+1} for k>1, v>=k` .\n",
    "\n",
    "**Fence-Conjecture**:`S(k,v)=RamseyNumber(k+1,v+1)-1≡0,k,k+1mod(2k+1) , for k>1,v>=k`. The s(k,v) vertices of the critical RamseyGraph(k,v) can be laid out interlacing with `k` vertices (CompleteGraph[k])and `k+1` vertices (StarGraph[k]).\n",
    "\n"
   ]
  },
  {
   "cell_type": "markdown",
   "metadata": {
    "collapsed": false
   },
   "source": [
    "```\n",
    "R(4,4):18  R(4,4):25 R(4,6):36–40  R(4,7):49–58 \n",
    "R(5,5):43–48 \tR(5,6):58–85 \n",
    "R(6,6):102–161\n",
    "```\n",
    "\n",
    "If my Fence-Conjecture is TRUE, `R(5,n)%9 in {1,5,6}, R(6,n)%11 in {1,6,7}`, we will determine `R(5,5)=46, R(3,10)=41, R(6,6)>=105`.\n",
    "\n"
   ]
  },
  {
   "cell_type": "code",
   "execution_count": 0,
   "metadata": {
    "collapsed": false
   },
   "outputs": [
   ],
   "source": [
   ]
  }
 ],
 "metadata": {
  "kernelspec": {
   "argv": [
    "/usr/bin/python3",
    "-m",
    "ipykernel",
    "--HistoryManager.enabled=False",
    "--matplotlib=inline",
    "-c",
    "%config InlineBackend.figure_formats = set(['retina'])\nimport matplotlib; matplotlib.rcParams['figure.figsize'] = (12, 7)",
    "-f",
    "{connection_file}"
   ],
   "display_name": "Python 3 (system-wide)",
   "env": {
   },
   "language": "python",
   "metadata": {
    "cocalc": {
     "description": "Python 3 programming language",
     "priority": 100,
     "url": "https://www.python.org/"
    }
   },
   "name": "python3",
   "resource_dir": "/ext/jupyter/kernels/python3"
  },
  "language_info": {
   "name": "python",
   "version": "3.11.0"
  }
 },
 "nbformat": 4,
 "nbformat_minor": 4
}